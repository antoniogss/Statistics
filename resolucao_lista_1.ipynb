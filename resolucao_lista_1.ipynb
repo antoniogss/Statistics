{
  "nbformat": 4,
  "nbformat_minor": 0,
  "metadata": {
    "colab": {
      "provenance": [],
      "toc_visible": true,
      "authorship_tag": "ABX9TyOqlggwcfjK5aWYhSXvpy5g",
      "include_colab_link": true
    },
    "kernelspec": {
      "name": "python3",
      "display_name": "Python 3"
    },
    "language_info": {
      "name": "python"
    }
  },
  "cells": [
    {
      "cell_type": "markdown",
      "metadata": {
        "id": "view-in-github",
        "colab_type": "text"
      },
      "source": [
        "<a href=\"https://colab.research.google.com/github/antoniogss/Statistics/blob/main/resolucao_lista_1.ipynb\" target=\"_parent\"><img src=\"https://colab.research.google.com/assets/colab-badge.svg\" alt=\"Open In Colab\"/></a>"
      ]
    },
    {
      "cell_type": "markdown",
      "source": [
        "#Módulos/Submódulos Python"
      ],
      "metadata": {
        "id": "CUJsWcfeoVy1"
      }
    },
    {
      "cell_type": "code",
      "execution_count": null,
      "metadata": {
        "id": "XqpNu143qZXc"
      },
      "outputs": [],
      "source": [
        "#@title\n",
        "import numpy as np\n",
        "import pandas as pd\n",
        "import scipy.stats as stats\n",
        "import seaborn as sns\n",
        "import warnings as war\n",
        "import google.colab as gc\n",
        "import matplotlib.pyplot as plt\n",
        "import statistics as st\n",
        "import math\n",
        "\n",
        "from openpyxl import load_workbook\n",
        "from pathlib import Path\n",
        "from matplotlib.ticker import PercentFormatter\n",
        "\n",
        "war.filterwarnings('ignore')"
      ]
    },
    {
      "cell_type": "markdown",
      "source": [
        "#Conexão com o Google Drive"
      ],
      "metadata": {
        "id": "pJLIsmuUodRn"
      }
    },
    {
      "cell_type": "code",
      "source": [
        "#@title\n",
        "gc.drive.mount('./gdrive/', \n",
        "               force_remount=True\n",
        "              )\n",
        "\n",
        "gc.output.clear()"
      ],
      "metadata": {
        "id": "uC1TNpftsx-y"
      },
      "execution_count": null,
      "outputs": []
    },
    {
      "cell_type": "markdown",
      "source": [
        "#Configurando o diretório de trabalho"
      ],
      "metadata": {
        "id": "-cbnrboyohTm"
      }
    },
    {
      "cell_type": "code",
      "source": [
        "#@title\n",
        "%cd ./gdrive/MyDrive/TED/listas_19-05/"
      ],
      "metadata": {
        "colab": {
          "base_uri": "https://localhost:8080/"
        },
        "id": "6NdjvHWsszTR",
        "outputId": "28352721-faa1-4e94-fa4d-749212fc851e",
        "collapsed": true
      },
      "execution_count": null,
      "outputs": [
        {
          "output_type": "stream",
          "name": "stdout",
          "text": [
            "/content/gdrive/MyDrive/TED/listas_19-05\n"
          ]
        }
      ]
    },
    {
      "cell_type": "markdown",
      "source": [
        "#Lista de planilhas"
      ],
      "metadata": {
        "id": "apB9zjc6YEwd"
      }
    },
    {
      "cell_type": "code",
      "source": [
        "#@title\n",
        "# df = pd.read_excel('lista_1.xlsx', sheet_name=1) #0,1,2,3,4...\n",
        "# print(df)"
      ],
      "metadata": {
        "id": "C3pSZ7PjYL0f"
      },
      "execution_count": null,
      "outputs": []
    },
    {
      "cell_type": "code",
      "source": [
        "#@title\n",
        "wb = load_workbook('lista_1.xlsx',\n",
        "                   read_only=True\n",
        "                  )\n",
        "wb.sheetnames"
      ],
      "metadata": {
        "colab": {
          "base_uri": "https://localhost:8080/"
        },
        "id": "GClQpEaOYRUw",
        "outputId": "165220b8-d0e2-4600-c5c2-a388e4a1705c"
      },
      "execution_count": null,
      "outputs": [
        {
          "output_type": "execute_result",
          "data": {
            "text/plain": [
              "[' Introdução - atividade ED',\n",
              " 'Tendencia central e dispersão ',\n",
              " ' frequencia e histograma 1',\n",
              " 'Freuquencia e histograma',\n",
              " 'frequencia_histograma',\n",
              " 'box-plot',\n",
              " 'ramo e folhas',\n",
              " 'Diagrama de pontos',\n",
              " 'Case 1']"
            ]
          },
          "metadata": {},
          "execution_count": 5
        }
      ]
    },
    {
      "cell_type": "markdown",
      "source": [
        "#Tendência central e dispersão"
      ],
      "metadata": {
        "id": "8rvu7n1vTmGX"
      }
    },
    {
      "cell_type": "markdown",
      "source": [
        "##Questão 1)"
      ],
      "metadata": {
        "id": "MwDDyGLpTvVV"
      }
    },
    {
      "cell_type": "code",
      "source": [
        "#@title\n",
        "ws = wb['Tendencia central e dispersão ']\n",
        "ws['B1'].value"
      ],
      "metadata": {
        "colab": {
          "base_uri": "https://localhost:8080/",
          "height": 70
        },
        "id": "o2zYLWizACR1",
        "outputId": "f6e2e417-004e-47c5-b237-70232e93cae9"
      },
      "execution_count": null,
      "outputs": [
        {
          "output_type": "execute_result",
          "data": {
            "text/plain": [
              "'questão 1: As medidas do teor de Fe em 6 amostras de solo foram realizadas por 3 analistas. Os resultados estão discriminados na Tabela abaixo. De posse dessas informações, determine: Média, mediana e moda, desvio padrão, desvio padrao relativo, variância, quartis, amplitude. Quais das medidas de tendência central é mais adequada para este caso? Interprete os resultados em termos da variabilidade dos dados, bem como com relação a erros sitemáticos e aleatórios.'"
            ],
            "application/vnd.google.colaboratory.intrinsic+json": {
              "type": "string"
            }
          },
          "metadata": {},
          "execution_count": 6
        }
      ]
    },
    {
      "cell_type": "code",
      "source": [
        "#@title\n",
        "# Read the cell values into a list of lists\n",
        "data_rows = []\n",
        "for row in ws['A6':'C12']:\n",
        "    data_cols = []\n",
        "    for cell in row:\n",
        "        data_cols.append(cell.value)\n",
        "    data_rows.append(data_cols)\n",
        "# Transform into dataframe\n",
        "df_1 = pd.DataFrame(data_rows)\n",
        "df_1.rename(columns=df_1.iloc[0], inplace = True)\n",
        "df_1.drop(df_1.index[0], inplace = True)\n",
        "# print(ws['A5'].value)\n",
        "# print('\\n')\n",
        "# print(df_1)"
      ],
      "metadata": {
        "id": "ifiL3Wuw945j"
      },
      "execution_count": null,
      "outputs": []
    },
    {
      "cell_type": "code",
      "source": [
        "#@title\n",
        "#Converting string to numeric\n",
        "df_1['Analista A'] = pd.to_numeric(df_1['Analista A'])\n",
        "df_1['Analista B'] = pd.to_numeric(df_1['Analista B'])\n",
        "df_1['Analista C'] = pd.to_numeric(df_1['Analista C'])"
      ],
      "metadata": {
        "id": "2xhyzphM8g_f"
      },
      "execution_count": null,
      "outputs": []
    },
    {
      "cell_type": "markdown",
      "source": [
        "###Tabela 1: tendência central"
      ],
      "metadata": {
        "id": "ohRben1hMZt-"
      }
    },
    {
      "cell_type": "code",
      "source": [
        "df_1.describe()"
      ],
      "metadata": {
        "colab": {
          "base_uri": "https://localhost:8080/",
          "height": 300
        },
        "id": "UWXuZ9Ih6vhd",
        "outputId": "559faf44-b3f3-429c-c821-57ac9940425e"
      },
      "execution_count": null,
      "outputs": [
        {
          "output_type": "execute_result",
          "data": {
            "text/plain": [
              "       Analista A  Analista B  Analista C\n",
              "count    6.000000    6.000000    6.000000\n",
              "mean     5.000000    5.000000    5.000000\n",
              "std      0.894427    3.577709    4.049691\n",
              "min      4.000000    1.000000    1.000000\n",
              "25%      4.250000    2.000000    1.250000\n",
              "50%      5.000000    5.000000    5.000000\n",
              "75%      5.750000    8.000000    8.750000\n",
              "max      6.000000    9.000000    9.000000"
            ],
            "text/html": [
              "\n",
              "  <div id=\"df-cec55d2b-05bc-46d1-b9b8-0bebba06a75c\">\n",
              "    <div class=\"colab-df-container\">\n",
              "      <div>\n",
              "<style scoped>\n",
              "    .dataframe tbody tr th:only-of-type {\n",
              "        vertical-align: middle;\n",
              "    }\n",
              "\n",
              "    .dataframe tbody tr th {\n",
              "        vertical-align: top;\n",
              "    }\n",
              "\n",
              "    .dataframe thead th {\n",
              "        text-align: right;\n",
              "    }\n",
              "</style>\n",
              "<table border=\"1\" class=\"dataframe\">\n",
              "  <thead>\n",
              "    <tr style=\"text-align: right;\">\n",
              "      <th></th>\n",
              "      <th>Analista A</th>\n",
              "      <th>Analista B</th>\n",
              "      <th>Analista C</th>\n",
              "    </tr>\n",
              "  </thead>\n",
              "  <tbody>\n",
              "    <tr>\n",
              "      <th>count</th>\n",
              "      <td>6.000000</td>\n",
              "      <td>6.000000</td>\n",
              "      <td>6.000000</td>\n",
              "    </tr>\n",
              "    <tr>\n",
              "      <th>mean</th>\n",
              "      <td>5.000000</td>\n",
              "      <td>5.000000</td>\n",
              "      <td>5.000000</td>\n",
              "    </tr>\n",
              "    <tr>\n",
              "      <th>std</th>\n",
              "      <td>0.894427</td>\n",
              "      <td>3.577709</td>\n",
              "      <td>4.049691</td>\n",
              "    </tr>\n",
              "    <tr>\n",
              "      <th>min</th>\n",
              "      <td>4.000000</td>\n",
              "      <td>1.000000</td>\n",
              "      <td>1.000000</td>\n",
              "    </tr>\n",
              "    <tr>\n",
              "      <th>25%</th>\n",
              "      <td>4.250000</td>\n",
              "      <td>2.000000</td>\n",
              "      <td>1.250000</td>\n",
              "    </tr>\n",
              "    <tr>\n",
              "      <th>50%</th>\n",
              "      <td>5.000000</td>\n",
              "      <td>5.000000</td>\n",
              "      <td>5.000000</td>\n",
              "    </tr>\n",
              "    <tr>\n",
              "      <th>75%</th>\n",
              "      <td>5.750000</td>\n",
              "      <td>8.000000</td>\n",
              "      <td>8.750000</td>\n",
              "    </tr>\n",
              "    <tr>\n",
              "      <th>max</th>\n",
              "      <td>6.000000</td>\n",
              "      <td>9.000000</td>\n",
              "      <td>9.000000</td>\n",
              "    </tr>\n",
              "  </tbody>\n",
              "</table>\n",
              "</div>\n",
              "      <button class=\"colab-df-convert\" onclick=\"convertToInteractive('df-cec55d2b-05bc-46d1-b9b8-0bebba06a75c')\"\n",
              "              title=\"Convert this dataframe to an interactive table.\"\n",
              "              style=\"display:none;\">\n",
              "        \n",
              "  <svg xmlns=\"http://www.w3.org/2000/svg\" height=\"24px\"viewBox=\"0 0 24 24\"\n",
              "       width=\"24px\">\n",
              "    <path d=\"M0 0h24v24H0V0z\" fill=\"none\"/>\n",
              "    <path d=\"M18.56 5.44l.94 2.06.94-2.06 2.06-.94-2.06-.94-.94-2.06-.94 2.06-2.06.94zm-11 1L8.5 8.5l.94-2.06 2.06-.94-2.06-.94L8.5 2.5l-.94 2.06-2.06.94zm10 10l.94 2.06.94-2.06 2.06-.94-2.06-.94-.94-2.06-.94 2.06-2.06.94z\"/><path d=\"M17.41 7.96l-1.37-1.37c-.4-.4-.92-.59-1.43-.59-.52 0-1.04.2-1.43.59L10.3 9.45l-7.72 7.72c-.78.78-.78 2.05 0 2.83L4 21.41c.39.39.9.59 1.41.59.51 0 1.02-.2 1.41-.59l7.78-7.78 2.81-2.81c.8-.78.8-2.07 0-2.86zM5.41 20L4 18.59l7.72-7.72 1.47 1.35L5.41 20z\"/>\n",
              "  </svg>\n",
              "      </button>\n",
              "      \n",
              "  <style>\n",
              "    .colab-df-container {\n",
              "      display:flex;\n",
              "      flex-wrap:wrap;\n",
              "      gap: 12px;\n",
              "    }\n",
              "\n",
              "    .colab-df-convert {\n",
              "      background-color: #E8F0FE;\n",
              "      border: none;\n",
              "      border-radius: 50%;\n",
              "      cursor: pointer;\n",
              "      display: none;\n",
              "      fill: #1967D2;\n",
              "      height: 32px;\n",
              "      padding: 0 0 0 0;\n",
              "      width: 32px;\n",
              "    }\n",
              "\n",
              "    .colab-df-convert:hover {\n",
              "      background-color: #E2EBFA;\n",
              "      box-shadow: 0px 1px 2px rgba(60, 64, 67, 0.3), 0px 1px 3px 1px rgba(60, 64, 67, 0.15);\n",
              "      fill: #174EA6;\n",
              "    }\n",
              "\n",
              "    [theme=dark] .colab-df-convert {\n",
              "      background-color: #3B4455;\n",
              "      fill: #D2E3FC;\n",
              "    }\n",
              "\n",
              "    [theme=dark] .colab-df-convert:hover {\n",
              "      background-color: #434B5C;\n",
              "      box-shadow: 0px 1px 3px 1px rgba(0, 0, 0, 0.15);\n",
              "      filter: drop-shadow(0px 1px 2px rgba(0, 0, 0, 0.3));\n",
              "      fill: #FFFFFF;\n",
              "    }\n",
              "  </style>\n",
              "\n",
              "      <script>\n",
              "        const buttonEl =\n",
              "          document.querySelector('#df-cec55d2b-05bc-46d1-b9b8-0bebba06a75c button.colab-df-convert');\n",
              "        buttonEl.style.display =\n",
              "          google.colab.kernel.accessAllowed ? 'block' : 'none';\n",
              "\n",
              "        async function convertToInteractive(key) {\n",
              "          const element = document.querySelector('#df-cec55d2b-05bc-46d1-b9b8-0bebba06a75c');\n",
              "          const dataTable =\n",
              "            await google.colab.kernel.invokeFunction('convertToInteractive',\n",
              "                                                     [key], {});\n",
              "          if (!dataTable) return;\n",
              "\n",
              "          const docLinkHtml = 'Like what you see? Visit the ' +\n",
              "            '<a target=\"_blank\" href=https://colab.research.google.com/notebooks/data_table.ipynb>data table notebook</a>'\n",
              "            + ' to learn more about interactive tables.';\n",
              "          element.innerHTML = '';\n",
              "          dataTable['output_type'] = 'display_data';\n",
              "          await google.colab.output.renderOutput(dataTable, element);\n",
              "          const docLink = document.createElement('div');\n",
              "          docLink.innerHTML = docLinkHtml;\n",
              "          element.appendChild(docLink);\n",
              "        }\n",
              "      </script>\n",
              "    </div>\n",
              "  </div>\n",
              "  "
            ]
          },
          "metadata": {},
          "execution_count": 9
        }
      ]
    },
    {
      "cell_type": "markdown",
      "source": [
        "###Tabela 2: medidas de dispersão"
      ],
      "metadata": {
        "id": "sXNNJ9vutZoN"
      }
    },
    {
      "cell_type": "code",
      "source": [
        "#@title\n",
        "\"\"\" \n",
        "Customized Percentiles\n",
        "df.describe(percentiles=[0.1, 0.3, 0.7])\n",
        "\"\"\"\n",
        "\n",
        "# df_2 = df_1.describe()\n",
        "\n",
        "df_3 = df_1.agg(['std','var']) #'median'\n",
        "\n",
        "a = df_1['Analista A']\n",
        "b = df_1['Analista B']\n",
        "c = df_1['Analista C']\n",
        "\n",
        "data  = [['coeff de var',a.std()/a.mean(),b.std()/b.mean(),c.std()/c.mean()],\n",
        "         ['amplitude',a.max()-a.min(),b.max()-b.min(),c.max()-c.min()]]\n",
        "\n",
        "df_4 = pd.DataFrame(data, columns =['','Analista A','Analista B','Analista C']) \n",
        "df_4.set_index('', inplace=True) \n",
        "\n",
        "df = pd.concat([df_3,df_4], axis=0) #df_2\n",
        "df = df.astype(float)\n",
        "\n",
        "df"
      ],
      "metadata": {
        "id": "0wc3QfhFtbpN",
        "colab": {
          "base_uri": "https://localhost:8080/",
          "height": 175
        },
        "outputId": "b0c0baf2-657e-4b5a-d127-19836e4ca5aa"
      },
      "execution_count": null,
      "outputs": [
        {
          "output_type": "execute_result",
          "data": {
            "text/plain": [
              "              Analista A  Analista B  Analista C\n",
              "std             0.894427    3.577709    4.049691\n",
              "var             0.800000   12.800000   16.400000\n",
              "coeff de var    0.178885    0.715542    0.809938\n",
              "amplitude       2.000000    8.000000    8.000000"
            ],
            "text/html": [
              "\n",
              "  <div id=\"df-60194b8d-02d4-43eb-83f8-e57c02dc0077\">\n",
              "    <div class=\"colab-df-container\">\n",
              "      <div>\n",
              "<style scoped>\n",
              "    .dataframe tbody tr th:only-of-type {\n",
              "        vertical-align: middle;\n",
              "    }\n",
              "\n",
              "    .dataframe tbody tr th {\n",
              "        vertical-align: top;\n",
              "    }\n",
              "\n",
              "    .dataframe thead th {\n",
              "        text-align: right;\n",
              "    }\n",
              "</style>\n",
              "<table border=\"1\" class=\"dataframe\">\n",
              "  <thead>\n",
              "    <tr style=\"text-align: right;\">\n",
              "      <th></th>\n",
              "      <th>Analista A</th>\n",
              "      <th>Analista B</th>\n",
              "      <th>Analista C</th>\n",
              "    </tr>\n",
              "  </thead>\n",
              "  <tbody>\n",
              "    <tr>\n",
              "      <th>std</th>\n",
              "      <td>0.894427</td>\n",
              "      <td>3.577709</td>\n",
              "      <td>4.049691</td>\n",
              "    </tr>\n",
              "    <tr>\n",
              "      <th>var</th>\n",
              "      <td>0.800000</td>\n",
              "      <td>12.800000</td>\n",
              "      <td>16.400000</td>\n",
              "    </tr>\n",
              "    <tr>\n",
              "      <th>coeff de var</th>\n",
              "      <td>0.178885</td>\n",
              "      <td>0.715542</td>\n",
              "      <td>0.809938</td>\n",
              "    </tr>\n",
              "    <tr>\n",
              "      <th>amplitude</th>\n",
              "      <td>2.000000</td>\n",
              "      <td>8.000000</td>\n",
              "      <td>8.000000</td>\n",
              "    </tr>\n",
              "  </tbody>\n",
              "</table>\n",
              "</div>\n",
              "      <button class=\"colab-df-convert\" onclick=\"convertToInteractive('df-60194b8d-02d4-43eb-83f8-e57c02dc0077')\"\n",
              "              title=\"Convert this dataframe to an interactive table.\"\n",
              "              style=\"display:none;\">\n",
              "        \n",
              "  <svg xmlns=\"http://www.w3.org/2000/svg\" height=\"24px\"viewBox=\"0 0 24 24\"\n",
              "       width=\"24px\">\n",
              "    <path d=\"M0 0h24v24H0V0z\" fill=\"none\"/>\n",
              "    <path d=\"M18.56 5.44l.94 2.06.94-2.06 2.06-.94-2.06-.94-.94-2.06-.94 2.06-2.06.94zm-11 1L8.5 8.5l.94-2.06 2.06-.94-2.06-.94L8.5 2.5l-.94 2.06-2.06.94zm10 10l.94 2.06.94-2.06 2.06-.94-2.06-.94-.94-2.06-.94 2.06-2.06.94z\"/><path d=\"M17.41 7.96l-1.37-1.37c-.4-.4-.92-.59-1.43-.59-.52 0-1.04.2-1.43.59L10.3 9.45l-7.72 7.72c-.78.78-.78 2.05 0 2.83L4 21.41c.39.39.9.59 1.41.59.51 0 1.02-.2 1.41-.59l7.78-7.78 2.81-2.81c.8-.78.8-2.07 0-2.86zM5.41 20L4 18.59l7.72-7.72 1.47 1.35L5.41 20z\"/>\n",
              "  </svg>\n",
              "      </button>\n",
              "      \n",
              "  <style>\n",
              "    .colab-df-container {\n",
              "      display:flex;\n",
              "      flex-wrap:wrap;\n",
              "      gap: 12px;\n",
              "    }\n",
              "\n",
              "    .colab-df-convert {\n",
              "      background-color: #E8F0FE;\n",
              "      border: none;\n",
              "      border-radius: 50%;\n",
              "      cursor: pointer;\n",
              "      display: none;\n",
              "      fill: #1967D2;\n",
              "      height: 32px;\n",
              "      padding: 0 0 0 0;\n",
              "      width: 32px;\n",
              "    }\n",
              "\n",
              "    .colab-df-convert:hover {\n",
              "      background-color: #E2EBFA;\n",
              "      box-shadow: 0px 1px 2px rgba(60, 64, 67, 0.3), 0px 1px 3px 1px rgba(60, 64, 67, 0.15);\n",
              "      fill: #174EA6;\n",
              "    }\n",
              "\n",
              "    [theme=dark] .colab-df-convert {\n",
              "      background-color: #3B4455;\n",
              "      fill: #D2E3FC;\n",
              "    }\n",
              "\n",
              "    [theme=dark] .colab-df-convert:hover {\n",
              "      background-color: #434B5C;\n",
              "      box-shadow: 0px 1px 3px 1px rgba(0, 0, 0, 0.15);\n",
              "      filter: drop-shadow(0px 1px 2px rgba(0, 0, 0, 0.3));\n",
              "      fill: #FFFFFF;\n",
              "    }\n",
              "  </style>\n",
              "\n",
              "      <script>\n",
              "        const buttonEl =\n",
              "          document.querySelector('#df-60194b8d-02d4-43eb-83f8-e57c02dc0077 button.colab-df-convert');\n",
              "        buttonEl.style.display =\n",
              "          google.colab.kernel.accessAllowed ? 'block' : 'none';\n",
              "\n",
              "        async function convertToInteractive(key) {\n",
              "          const element = document.querySelector('#df-60194b8d-02d4-43eb-83f8-e57c02dc0077');\n",
              "          const dataTable =\n",
              "            await google.colab.kernel.invokeFunction('convertToInteractive',\n",
              "                                                     [key], {});\n",
              "          if (!dataTable) return;\n",
              "\n",
              "          const docLinkHtml = 'Like what you see? Visit the ' +\n",
              "            '<a target=\"_blank\" href=https://colab.research.google.com/notebooks/data_table.ipynb>data table notebook</a>'\n",
              "            + ' to learn more about interactive tables.';\n",
              "          element.innerHTML = '';\n",
              "          dataTable['output_type'] = 'display_data';\n",
              "          await google.colab.output.renderOutput(dataTable, element);\n",
              "          const docLink = document.createElement('div');\n",
              "          docLink.innerHTML = docLinkHtml;\n",
              "          element.appendChild(docLink);\n",
              "        }\n",
              "      </script>\n",
              "    </div>\n",
              "  </div>\n",
              "  "
            ]
          },
          "metadata": {},
          "execution_count": 10
        }
      ]
    },
    {
      "cell_type": "code",
      "source": [
        "#@title\n",
        "# get the column name of max values in every row\n",
        "maxValueIndexObj = df.idxmax(axis=1)\n",
        "print(\"Valores máximos de cada linha nas colunas :\")\n",
        "print('\\n')\n",
        "print(maxValueIndexObj)"
      ],
      "metadata": {
        "colab": {
          "base_uri": "https://localhost:8080/"
        },
        "id": "I7aN8-SDziZs",
        "outputId": "82d7949e-08a5-4574-acef-175df734eaa6"
      },
      "execution_count": null,
      "outputs": [
        {
          "output_type": "stream",
          "name": "stdout",
          "text": [
            "Valores máximos de cada linha nas colunas :\n",
            "\n",
            "\n",
            "std             Analista C\n",
            "var             Analista C\n",
            "coeff de var    Analista C\n",
            "amplitude       Analista B\n",
            "dtype: object\n"
          ]
        }
      ]
    },
    {
      "cell_type": "code",
      "source": [
        "#@title\n",
        "# Get a series containing maximum value of each row\n",
        "# maxValuesObj = df.max(axis=1)\n",
        "# print('Maximum value in each row : ')\n",
        "# print('\\n')\n",
        "# print(maxValuesObj)"
      ],
      "metadata": {
        "id": "pk-mqvycXmJh"
      },
      "execution_count": null,
      "outputs": []
    },
    {
      "cell_type": "code",
      "source": [
        "#@title\n",
        "data  = [['mode',[a.mode()],[b.mode()],[c.mode()]]]\n",
        "\n",
        "df_5 = pd.DataFrame(data, columns =['','Analista A','Analista B','Analista C']) \n",
        "df_5.set_index('', inplace=True) \n",
        "df_5"
      ],
      "metadata": {
        "colab": {
          "base_uri": "https://localhost:8080/",
          "height": 95
        },
        "id": "STksA8IO-iiY",
        "outputId": "980688c4-0814-4ad4-f81c-7fe20eaf9763"
      },
      "execution_count": null,
      "outputs": [
        {
          "output_type": "execute_result",
          "data": {
            "text/plain": [
              "       Analista A   Analista B Analista C\n",
              "                                         \n",
              "mode  [[4, 5, 6]]  [[1, 5, 9]]   [[1, 9]]"
            ],
            "text/html": [
              "\n",
              "  <div id=\"df-9f082785-6d94-4a63-bb63-e340c0cb21fe\">\n",
              "    <div class=\"colab-df-container\">\n",
              "      <div>\n",
              "<style scoped>\n",
              "    .dataframe tbody tr th:only-of-type {\n",
              "        vertical-align: middle;\n",
              "    }\n",
              "\n",
              "    .dataframe tbody tr th {\n",
              "        vertical-align: top;\n",
              "    }\n",
              "\n",
              "    .dataframe thead th {\n",
              "        text-align: right;\n",
              "    }\n",
              "</style>\n",
              "<table border=\"1\" class=\"dataframe\">\n",
              "  <thead>\n",
              "    <tr style=\"text-align: right;\">\n",
              "      <th></th>\n",
              "      <th>Analista A</th>\n",
              "      <th>Analista B</th>\n",
              "      <th>Analista C</th>\n",
              "    </tr>\n",
              "    <tr>\n",
              "      <th></th>\n",
              "      <th></th>\n",
              "      <th></th>\n",
              "      <th></th>\n",
              "    </tr>\n",
              "  </thead>\n",
              "  <tbody>\n",
              "    <tr>\n",
              "      <th>mode</th>\n",
              "      <td>[[4, 5, 6]]</td>\n",
              "      <td>[[1, 5, 9]]</td>\n",
              "      <td>[[1, 9]]</td>\n",
              "    </tr>\n",
              "  </tbody>\n",
              "</table>\n",
              "</div>\n",
              "      <button class=\"colab-df-convert\" onclick=\"convertToInteractive('df-9f082785-6d94-4a63-bb63-e340c0cb21fe')\"\n",
              "              title=\"Convert this dataframe to an interactive table.\"\n",
              "              style=\"display:none;\">\n",
              "        \n",
              "  <svg xmlns=\"http://www.w3.org/2000/svg\" height=\"24px\"viewBox=\"0 0 24 24\"\n",
              "       width=\"24px\">\n",
              "    <path d=\"M0 0h24v24H0V0z\" fill=\"none\"/>\n",
              "    <path d=\"M18.56 5.44l.94 2.06.94-2.06 2.06-.94-2.06-.94-.94-2.06-.94 2.06-2.06.94zm-11 1L8.5 8.5l.94-2.06 2.06-.94-2.06-.94L8.5 2.5l-.94 2.06-2.06.94zm10 10l.94 2.06.94-2.06 2.06-.94-2.06-.94-.94-2.06-.94 2.06-2.06.94z\"/><path d=\"M17.41 7.96l-1.37-1.37c-.4-.4-.92-.59-1.43-.59-.52 0-1.04.2-1.43.59L10.3 9.45l-7.72 7.72c-.78.78-.78 2.05 0 2.83L4 21.41c.39.39.9.59 1.41.59.51 0 1.02-.2 1.41-.59l7.78-7.78 2.81-2.81c.8-.78.8-2.07 0-2.86zM5.41 20L4 18.59l7.72-7.72 1.47 1.35L5.41 20z\"/>\n",
              "  </svg>\n",
              "      </button>\n",
              "      \n",
              "  <style>\n",
              "    .colab-df-container {\n",
              "      display:flex;\n",
              "      flex-wrap:wrap;\n",
              "      gap: 12px;\n",
              "    }\n",
              "\n",
              "    .colab-df-convert {\n",
              "      background-color: #E8F0FE;\n",
              "      border: none;\n",
              "      border-radius: 50%;\n",
              "      cursor: pointer;\n",
              "      display: none;\n",
              "      fill: #1967D2;\n",
              "      height: 32px;\n",
              "      padding: 0 0 0 0;\n",
              "      width: 32px;\n",
              "    }\n",
              "\n",
              "    .colab-df-convert:hover {\n",
              "      background-color: #E2EBFA;\n",
              "      box-shadow: 0px 1px 2px rgba(60, 64, 67, 0.3), 0px 1px 3px 1px rgba(60, 64, 67, 0.15);\n",
              "      fill: #174EA6;\n",
              "    }\n",
              "\n",
              "    [theme=dark] .colab-df-convert {\n",
              "      background-color: #3B4455;\n",
              "      fill: #D2E3FC;\n",
              "    }\n",
              "\n",
              "    [theme=dark] .colab-df-convert:hover {\n",
              "      background-color: #434B5C;\n",
              "      box-shadow: 0px 1px 3px 1px rgba(0, 0, 0, 0.15);\n",
              "      filter: drop-shadow(0px 1px 2px rgba(0, 0, 0, 0.3));\n",
              "      fill: #FFFFFF;\n",
              "    }\n",
              "  </style>\n",
              "\n",
              "      <script>\n",
              "        const buttonEl =\n",
              "          document.querySelector('#df-9f082785-6d94-4a63-bb63-e340c0cb21fe button.colab-df-convert');\n",
              "        buttonEl.style.display =\n",
              "          google.colab.kernel.accessAllowed ? 'block' : 'none';\n",
              "\n",
              "        async function convertToInteractive(key) {\n",
              "          const element = document.querySelector('#df-9f082785-6d94-4a63-bb63-e340c0cb21fe');\n",
              "          const dataTable =\n",
              "            await google.colab.kernel.invokeFunction('convertToInteractive',\n",
              "                                                     [key], {});\n",
              "          if (!dataTable) return;\n",
              "\n",
              "          const docLinkHtml = 'Like what you see? Visit the ' +\n",
              "            '<a target=\"_blank\" href=https://colab.research.google.com/notebooks/data_table.ipynb>data table notebook</a>'\n",
              "            + ' to learn more about interactive tables.';\n",
              "          element.innerHTML = '';\n",
              "          dataTable['output_type'] = 'display_data';\n",
              "          await google.colab.output.renderOutput(dataTable, element);\n",
              "          const docLink = document.createElement('div');\n",
              "          docLink.innerHTML = docLinkHtml;\n",
              "          element.appendChild(docLink);\n",
              "        }\n",
              "      </script>\n",
              "    </div>\n",
              "  </div>\n",
              "  "
            ]
          },
          "metadata": {},
          "execution_count": 13
        }
      ]
    },
    {
      "cell_type": "markdown",
      "source": [
        "###Interpretação dos resultados\n",
        "\n",
        "Como nos conjuntos de dados apresentados, há um ou mais dados que se afastam do geral das observações (valores discrepantes ou outliers) a média\n",
        "passa a ser uma medida de tendência central inadequada, sendo\n",
        "a mediana uma medida mais indicada.\n",
        "$$ \\\\ $$\n",
        "Está evidente que o Analista A apresentou o melhor desempenho, pois a dispersão das medidas em torno da média é menor, ou seja, o Analista A apresentou o maior número de medidas de dispersão com os menores valores comparativamente.\n",
        "$$ \\\\ $$\n",
        "Erros Sistemáticos (ou Determinados) são Resultantes de desvios constantes nos\n",
        "resultados num mesmo sentido. São erros que podem ser detectadoss, evitados ou\n",
        "corrigidos. Erros Aleatórios (ou Indeterminados) são resultantes da impossibilidade de se manter os fatores rigidamente iguais, logo, são resultantes de efeitos de variáveis incontroláveis nas medidas. As variações são, portanto inerentes ao sistema, irregulares e resultam em variabilidade. Estes erros podem ser submetidos a um tratamento estatístico que permite saber qual o valor mais provável e também a precisão de uma série de medidas.\n",
        "\n",
        "\n",
        "\n",
        "\n",
        "\n"
      ],
      "metadata": {
        "id": "RWix530itcs9"
      }
    },
    {
      "cell_type": "markdown",
      "source": [
        "##Questão 2)"
      ],
      "metadata": {
        "id": "2BZCOfLkT-_y"
      }
    },
    {
      "cell_type": "code",
      "source": [
        "#@title\n",
        "ws = wb['Tendencia central e dispersão ']\n",
        "ws['Q1'].value"
      ],
      "metadata": {
        "colab": {
          "base_uri": "https://localhost:8080/",
          "height": 53
        },
        "id": "ZWe9bnPkUBP8",
        "outputId": "c62d13af-946d-46ea-9b52-9cf8cd89c307",
        "cellView": "form"
      },
      "execution_count": null,
      "outputs": [
        {
          "output_type": "execute_result",
          "data": {
            "text/plain": [
              "'Questão 2: Dois procedimentos (A e B) de precipitação de proteínas em plasma humano, foram testados. Os resultados obtidos estão compilados na tabela abaixo. De posse dessas informações, determine: as medidas de tendêncioa central e dispersao dos dados e apresente em uma tabela. Interprete os resultados obtidos.'"
            ],
            "application/vnd.google.colaboratory.intrinsic+json": {
              "type": "string"
            }
          },
          "metadata": {},
          "execution_count": 93
        }
      ]
    },
    {
      "cell_type": "code",
      "source": [
        "#@title\n",
        "# Read the cell values into a list of lists\n",
        "data_rows = []\n",
        "for row in ws['P7':'R17']:\n",
        "    data_cols = []\n",
        "    for cell in row:\n",
        "        data_cols.append(cell.value)\n",
        "    data_rows.append(data_cols)\n",
        "# Transform into dataframe\n",
        "df_6 = pd.DataFrame(data_rows)\n",
        "df_6.rename(columns=df_6.iloc[0], inplace = True)\n",
        "df_6.drop(df_6.index[0], inplace = True)\n",
        "df_6.drop('Réplicas', axis=1, inplace=True)\n",
        "df_6 = df_6.astype(float)\n",
        "# print(ws['P4'].value)\n",
        "# print('\\n')\n",
        "# print(df_6)"
      ],
      "metadata": {
        "id": "L0PQGWRhUkHZ",
        "cellView": "form"
      },
      "execution_count": null,
      "outputs": []
    },
    {
      "cell_type": "code",
      "source": [
        "#@title\n",
        "df_6.describe()"
      ],
      "metadata": {
        "colab": {
          "base_uri": "https://localhost:8080/",
          "height": 300
        },
        "id": "fsSn65NrBYjC",
        "outputId": "56858d08-9604-4564-8b2b-af3926241613",
        "cellView": "form",
        "collapsed": true
      },
      "execution_count": null,
      "outputs": [
        {
          "output_type": "execute_result",
          "data": {
            "text/plain": [
              "        Método A    Método B\n",
              "count  10.000000   10.000000\n",
              "mean   20.300000  102.300000\n",
              "std     3.743142    4.854551\n",
              "min    14.000000   91.000000\n",
              "25%    19.000000  100.500000\n",
              "50%    20.000000  103.500000\n",
              "75%    21.750000  104.750000\n",
              "max    28.000000  108.000000"
            ],
            "text/html": [
              "\n",
              "  <div id=\"df-73bef2ec-37a0-4ac2-b778-5989fa01e9ed\">\n",
              "    <div class=\"colab-df-container\">\n",
              "      <div>\n",
              "<style scoped>\n",
              "    .dataframe tbody tr th:only-of-type {\n",
              "        vertical-align: middle;\n",
              "    }\n",
              "\n",
              "    .dataframe tbody tr th {\n",
              "        vertical-align: top;\n",
              "    }\n",
              "\n",
              "    .dataframe thead th {\n",
              "        text-align: right;\n",
              "    }\n",
              "</style>\n",
              "<table border=\"1\" class=\"dataframe\">\n",
              "  <thead>\n",
              "    <tr style=\"text-align: right;\">\n",
              "      <th></th>\n",
              "      <th>Método A</th>\n",
              "      <th>Método B</th>\n",
              "    </tr>\n",
              "  </thead>\n",
              "  <tbody>\n",
              "    <tr>\n",
              "      <th>count</th>\n",
              "      <td>10.000000</td>\n",
              "      <td>10.000000</td>\n",
              "    </tr>\n",
              "    <tr>\n",
              "      <th>mean</th>\n",
              "      <td>20.300000</td>\n",
              "      <td>102.300000</td>\n",
              "    </tr>\n",
              "    <tr>\n",
              "      <th>std</th>\n",
              "      <td>3.743142</td>\n",
              "      <td>4.854551</td>\n",
              "    </tr>\n",
              "    <tr>\n",
              "      <th>min</th>\n",
              "      <td>14.000000</td>\n",
              "      <td>91.000000</td>\n",
              "    </tr>\n",
              "    <tr>\n",
              "      <th>25%</th>\n",
              "      <td>19.000000</td>\n",
              "      <td>100.500000</td>\n",
              "    </tr>\n",
              "    <tr>\n",
              "      <th>50%</th>\n",
              "      <td>20.000000</td>\n",
              "      <td>103.500000</td>\n",
              "    </tr>\n",
              "    <tr>\n",
              "      <th>75%</th>\n",
              "      <td>21.750000</td>\n",
              "      <td>104.750000</td>\n",
              "    </tr>\n",
              "    <tr>\n",
              "      <th>max</th>\n",
              "      <td>28.000000</td>\n",
              "      <td>108.000000</td>\n",
              "    </tr>\n",
              "  </tbody>\n",
              "</table>\n",
              "</div>\n",
              "      <button class=\"colab-df-convert\" onclick=\"convertToInteractive('df-73bef2ec-37a0-4ac2-b778-5989fa01e9ed')\"\n",
              "              title=\"Convert this dataframe to an interactive table.\"\n",
              "              style=\"display:none;\">\n",
              "        \n",
              "  <svg xmlns=\"http://www.w3.org/2000/svg\" height=\"24px\"viewBox=\"0 0 24 24\"\n",
              "       width=\"24px\">\n",
              "    <path d=\"M0 0h24v24H0V0z\" fill=\"none\"/>\n",
              "    <path d=\"M18.56 5.44l.94 2.06.94-2.06 2.06-.94-2.06-.94-.94-2.06-.94 2.06-2.06.94zm-11 1L8.5 8.5l.94-2.06 2.06-.94-2.06-.94L8.5 2.5l-.94 2.06-2.06.94zm10 10l.94 2.06.94-2.06 2.06-.94-2.06-.94-.94-2.06-.94 2.06-2.06.94z\"/><path d=\"M17.41 7.96l-1.37-1.37c-.4-.4-.92-.59-1.43-.59-.52 0-1.04.2-1.43.59L10.3 9.45l-7.72 7.72c-.78.78-.78 2.05 0 2.83L4 21.41c.39.39.9.59 1.41.59.51 0 1.02-.2 1.41-.59l7.78-7.78 2.81-2.81c.8-.78.8-2.07 0-2.86zM5.41 20L4 18.59l7.72-7.72 1.47 1.35L5.41 20z\"/>\n",
              "  </svg>\n",
              "      </button>\n",
              "      \n",
              "  <style>\n",
              "    .colab-df-container {\n",
              "      display:flex;\n",
              "      flex-wrap:wrap;\n",
              "      gap: 12px;\n",
              "    }\n",
              "\n",
              "    .colab-df-convert {\n",
              "      background-color: #E8F0FE;\n",
              "      border: none;\n",
              "      border-radius: 50%;\n",
              "      cursor: pointer;\n",
              "      display: none;\n",
              "      fill: #1967D2;\n",
              "      height: 32px;\n",
              "      padding: 0 0 0 0;\n",
              "      width: 32px;\n",
              "    }\n",
              "\n",
              "    .colab-df-convert:hover {\n",
              "      background-color: #E2EBFA;\n",
              "      box-shadow: 0px 1px 2px rgba(60, 64, 67, 0.3), 0px 1px 3px 1px rgba(60, 64, 67, 0.15);\n",
              "      fill: #174EA6;\n",
              "    }\n",
              "\n",
              "    [theme=dark] .colab-df-convert {\n",
              "      background-color: #3B4455;\n",
              "      fill: #D2E3FC;\n",
              "    }\n",
              "\n",
              "    [theme=dark] .colab-df-convert:hover {\n",
              "      background-color: #434B5C;\n",
              "      box-shadow: 0px 1px 3px 1px rgba(0, 0, 0, 0.15);\n",
              "      filter: drop-shadow(0px 1px 2px rgba(0, 0, 0, 0.3));\n",
              "      fill: #FFFFFF;\n",
              "    }\n",
              "  </style>\n",
              "\n",
              "      <script>\n",
              "        const buttonEl =\n",
              "          document.querySelector('#df-73bef2ec-37a0-4ac2-b778-5989fa01e9ed button.colab-df-convert');\n",
              "        buttonEl.style.display =\n",
              "          google.colab.kernel.accessAllowed ? 'block' : 'none';\n",
              "\n",
              "        async function convertToInteractive(key) {\n",
              "          const element = document.querySelector('#df-73bef2ec-37a0-4ac2-b778-5989fa01e9ed');\n",
              "          const dataTable =\n",
              "            await google.colab.kernel.invokeFunction('convertToInteractive',\n",
              "                                                     [key], {});\n",
              "          if (!dataTable) return;\n",
              "\n",
              "          const docLinkHtml = 'Like what you see? Visit the ' +\n",
              "            '<a target=\"_blank\" href=https://colab.research.google.com/notebooks/data_table.ipynb>data table notebook</a>'\n",
              "            + ' to learn more about interactive tables.';\n",
              "          element.innerHTML = '';\n",
              "          dataTable['output_type'] = 'display_data';\n",
              "          await google.colab.output.renderOutput(dataTable, element);\n",
              "          const docLink = document.createElement('div');\n",
              "          docLink.innerHTML = docLinkHtml;\n",
              "          element.appendChild(docLink);\n",
              "        }\n",
              "      </script>\n",
              "    </div>\n",
              "  </div>\n",
              "  "
            ]
          },
          "metadata": {},
          "execution_count": 16
        }
      ]
    },
    {
      "cell_type": "code",
      "source": [
        "#@title\n",
        "df_7 = df_6.agg(['std','var'])\n",
        "\n",
        "a = df_6['Método A']\n",
        "b = df_6['Método B']\n",
        "\n",
        "data  = [['coeff of var',a.std()/a.mean(),b.std()/b.mean()],\n",
        "         ['amplitude',a.max()-a.min(),b.max()-b.min()]]\n",
        "\n",
        "df_8 = pd.DataFrame(data, columns =['','Método A','Método B']) \n",
        "df_8.set_index('', inplace=True) \n",
        "\n",
        "df = pd.concat([df_7,df_8], axis=0) #df_6\n",
        "df = df.astype(float)\n",
        "df"
      ],
      "metadata": {
        "colab": {
          "base_uri": "https://localhost:8080/",
          "height": 175
        },
        "id": "FN9F_aZYCSHK",
        "outputId": "89745018-065f-4bfb-8420-6e7570420caf",
        "cellView": "form",
        "collapsed": true
      },
      "execution_count": null,
      "outputs": [
        {
          "output_type": "execute_result",
          "data": {
            "text/plain": [
              "               Método A   Método B\n",
              "std            3.743142   4.854551\n",
              "var           14.011111  23.566667\n",
              "coeff of var   0.184391   0.047454\n",
              "amplitude     14.000000  17.000000"
            ],
            "text/html": [
              "\n",
              "  <div id=\"df-7c261e24-c1a8-43f1-96dd-cd42e5b56c58\">\n",
              "    <div class=\"colab-df-container\">\n",
              "      <div>\n",
              "<style scoped>\n",
              "    .dataframe tbody tr th:only-of-type {\n",
              "        vertical-align: middle;\n",
              "    }\n",
              "\n",
              "    .dataframe tbody tr th {\n",
              "        vertical-align: top;\n",
              "    }\n",
              "\n",
              "    .dataframe thead th {\n",
              "        text-align: right;\n",
              "    }\n",
              "</style>\n",
              "<table border=\"1\" class=\"dataframe\">\n",
              "  <thead>\n",
              "    <tr style=\"text-align: right;\">\n",
              "      <th></th>\n",
              "      <th>Método A</th>\n",
              "      <th>Método B</th>\n",
              "    </tr>\n",
              "  </thead>\n",
              "  <tbody>\n",
              "    <tr>\n",
              "      <th>std</th>\n",
              "      <td>3.743142</td>\n",
              "      <td>4.854551</td>\n",
              "    </tr>\n",
              "    <tr>\n",
              "      <th>var</th>\n",
              "      <td>14.011111</td>\n",
              "      <td>23.566667</td>\n",
              "    </tr>\n",
              "    <tr>\n",
              "      <th>coeff of var</th>\n",
              "      <td>0.184391</td>\n",
              "      <td>0.047454</td>\n",
              "    </tr>\n",
              "    <tr>\n",
              "      <th>amplitude</th>\n",
              "      <td>14.000000</td>\n",
              "      <td>17.000000</td>\n",
              "    </tr>\n",
              "  </tbody>\n",
              "</table>\n",
              "</div>\n",
              "      <button class=\"colab-df-convert\" onclick=\"convertToInteractive('df-7c261e24-c1a8-43f1-96dd-cd42e5b56c58')\"\n",
              "              title=\"Convert this dataframe to an interactive table.\"\n",
              "              style=\"display:none;\">\n",
              "        \n",
              "  <svg xmlns=\"http://www.w3.org/2000/svg\" height=\"24px\"viewBox=\"0 0 24 24\"\n",
              "       width=\"24px\">\n",
              "    <path d=\"M0 0h24v24H0V0z\" fill=\"none\"/>\n",
              "    <path d=\"M18.56 5.44l.94 2.06.94-2.06 2.06-.94-2.06-.94-.94-2.06-.94 2.06-2.06.94zm-11 1L8.5 8.5l.94-2.06 2.06-.94-2.06-.94L8.5 2.5l-.94 2.06-2.06.94zm10 10l.94 2.06.94-2.06 2.06-.94-2.06-.94-.94-2.06-.94 2.06-2.06.94z\"/><path d=\"M17.41 7.96l-1.37-1.37c-.4-.4-.92-.59-1.43-.59-.52 0-1.04.2-1.43.59L10.3 9.45l-7.72 7.72c-.78.78-.78 2.05 0 2.83L4 21.41c.39.39.9.59 1.41.59.51 0 1.02-.2 1.41-.59l7.78-7.78 2.81-2.81c.8-.78.8-2.07 0-2.86zM5.41 20L4 18.59l7.72-7.72 1.47 1.35L5.41 20z\"/>\n",
              "  </svg>\n",
              "      </button>\n",
              "      \n",
              "  <style>\n",
              "    .colab-df-container {\n",
              "      display:flex;\n",
              "      flex-wrap:wrap;\n",
              "      gap: 12px;\n",
              "    }\n",
              "\n",
              "    .colab-df-convert {\n",
              "      background-color: #E8F0FE;\n",
              "      border: none;\n",
              "      border-radius: 50%;\n",
              "      cursor: pointer;\n",
              "      display: none;\n",
              "      fill: #1967D2;\n",
              "      height: 32px;\n",
              "      padding: 0 0 0 0;\n",
              "      width: 32px;\n",
              "    }\n",
              "\n",
              "    .colab-df-convert:hover {\n",
              "      background-color: #E2EBFA;\n",
              "      box-shadow: 0px 1px 2px rgba(60, 64, 67, 0.3), 0px 1px 3px 1px rgba(60, 64, 67, 0.15);\n",
              "      fill: #174EA6;\n",
              "    }\n",
              "\n",
              "    [theme=dark] .colab-df-convert {\n",
              "      background-color: #3B4455;\n",
              "      fill: #D2E3FC;\n",
              "    }\n",
              "\n",
              "    [theme=dark] .colab-df-convert:hover {\n",
              "      background-color: #434B5C;\n",
              "      box-shadow: 0px 1px 3px 1px rgba(0, 0, 0, 0.15);\n",
              "      filter: drop-shadow(0px 1px 2px rgba(0, 0, 0, 0.3));\n",
              "      fill: #FFFFFF;\n",
              "    }\n",
              "  </style>\n",
              "\n",
              "      <script>\n",
              "        const buttonEl =\n",
              "          document.querySelector('#df-7c261e24-c1a8-43f1-96dd-cd42e5b56c58 button.colab-df-convert');\n",
              "        buttonEl.style.display =\n",
              "          google.colab.kernel.accessAllowed ? 'block' : 'none';\n",
              "\n",
              "        async function convertToInteractive(key) {\n",
              "          const element = document.querySelector('#df-7c261e24-c1a8-43f1-96dd-cd42e5b56c58');\n",
              "          const dataTable =\n",
              "            await google.colab.kernel.invokeFunction('convertToInteractive',\n",
              "                                                     [key], {});\n",
              "          if (!dataTable) return;\n",
              "\n",
              "          const docLinkHtml = 'Like what you see? Visit the ' +\n",
              "            '<a target=\"_blank\" href=https://colab.research.google.com/notebooks/data_table.ipynb>data table notebook</a>'\n",
              "            + ' to learn more about interactive tables.';\n",
              "          element.innerHTML = '';\n",
              "          dataTable['output_type'] = 'display_data';\n",
              "          await google.colab.output.renderOutput(dataTable, element);\n",
              "          const docLink = document.createElement('div');\n",
              "          docLink.innerHTML = docLinkHtml;\n",
              "          element.appendChild(docLink);\n",
              "        }\n",
              "      </script>\n",
              "    </div>\n",
              "  </div>\n",
              "  "
            ]
          },
          "metadata": {},
          "execution_count": 17
        }
      ]
    },
    {
      "cell_type": "code",
      "source": [
        "#@title\n",
        "# get the column name of max values in every row\n",
        "maxValueIndexObj = df.idxmax(axis=1)\n",
        "print(\"Valores máximos de cada linha nas colunas :\")\n",
        "print('\\n')\n",
        "print(maxValueIndexObj)"
      ],
      "metadata": {
        "colab": {
          "base_uri": "https://localhost:8080/"
        },
        "id": "rPZLUIypDibm",
        "outputId": "fa947fed-0145-4a08-9832-87d3e7c34cd6",
        "cellView": "form"
      },
      "execution_count": null,
      "outputs": [
        {
          "output_type": "stream",
          "name": "stdout",
          "text": [
            "Valores máximos de cada linha nas colunas :\n",
            "\n",
            "\n",
            "std             Método B\n",
            "var             Método B\n",
            "coeff of var    Método A\n",
            "amplitude       Método B\n",
            "dtype: object\n"
          ]
        }
      ]
    },
    {
      "cell_type": "code",
      "source": [
        "#@title\n",
        "data  = [['mode',[a.mode()],[b.mode()]]]\n",
        "\n",
        "df_5 = pd.DataFrame(data, columns =['','Método A','Método B']) \n",
        "df_5.set_index('', inplace=True) \n",
        "df_5"
      ],
      "metadata": {
        "colab": {
          "base_uri": "https://localhost:8080/",
          "height": 95
        },
        "id": "85QSQ3deD_HF",
        "outputId": "9bc9b9b9-f2f3-4a21-843b-2c95032a760a",
        "cellView": "form"
      },
      "execution_count": null,
      "outputs": [
        {
          "output_type": "execute_result",
          "data": {
            "text/plain": [
              "      Método A   Método B\n",
              "                         \n",
              "mode  [[19.0]]  [[104.0]]"
            ],
            "text/html": [
              "\n",
              "  <div id=\"df-2f96ebf1-e987-42ce-965f-d623370e100a\">\n",
              "    <div class=\"colab-df-container\">\n",
              "      <div>\n",
              "<style scoped>\n",
              "    .dataframe tbody tr th:only-of-type {\n",
              "        vertical-align: middle;\n",
              "    }\n",
              "\n",
              "    .dataframe tbody tr th {\n",
              "        vertical-align: top;\n",
              "    }\n",
              "\n",
              "    .dataframe thead th {\n",
              "        text-align: right;\n",
              "    }\n",
              "</style>\n",
              "<table border=\"1\" class=\"dataframe\">\n",
              "  <thead>\n",
              "    <tr style=\"text-align: right;\">\n",
              "      <th></th>\n",
              "      <th>Método A</th>\n",
              "      <th>Método B</th>\n",
              "    </tr>\n",
              "    <tr>\n",
              "      <th></th>\n",
              "      <th></th>\n",
              "      <th></th>\n",
              "    </tr>\n",
              "  </thead>\n",
              "  <tbody>\n",
              "    <tr>\n",
              "      <th>mode</th>\n",
              "      <td>[[19.0]]</td>\n",
              "      <td>[[104.0]]</td>\n",
              "    </tr>\n",
              "  </tbody>\n",
              "</table>\n",
              "</div>\n",
              "      <button class=\"colab-df-convert\" onclick=\"convertToInteractive('df-2f96ebf1-e987-42ce-965f-d623370e100a')\"\n",
              "              title=\"Convert this dataframe to an interactive table.\"\n",
              "              style=\"display:none;\">\n",
              "        \n",
              "  <svg xmlns=\"http://www.w3.org/2000/svg\" height=\"24px\"viewBox=\"0 0 24 24\"\n",
              "       width=\"24px\">\n",
              "    <path d=\"M0 0h24v24H0V0z\" fill=\"none\"/>\n",
              "    <path d=\"M18.56 5.44l.94 2.06.94-2.06 2.06-.94-2.06-.94-.94-2.06-.94 2.06-2.06.94zm-11 1L8.5 8.5l.94-2.06 2.06-.94-2.06-.94L8.5 2.5l-.94 2.06-2.06.94zm10 10l.94 2.06.94-2.06 2.06-.94-2.06-.94-.94-2.06-.94 2.06-2.06.94z\"/><path d=\"M17.41 7.96l-1.37-1.37c-.4-.4-.92-.59-1.43-.59-.52 0-1.04.2-1.43.59L10.3 9.45l-7.72 7.72c-.78.78-.78 2.05 0 2.83L4 21.41c.39.39.9.59 1.41.59.51 0 1.02-.2 1.41-.59l7.78-7.78 2.81-2.81c.8-.78.8-2.07 0-2.86zM5.41 20L4 18.59l7.72-7.72 1.47 1.35L5.41 20z\"/>\n",
              "  </svg>\n",
              "      </button>\n",
              "      \n",
              "  <style>\n",
              "    .colab-df-container {\n",
              "      display:flex;\n",
              "      flex-wrap:wrap;\n",
              "      gap: 12px;\n",
              "    }\n",
              "\n",
              "    .colab-df-convert {\n",
              "      background-color: #E8F0FE;\n",
              "      border: none;\n",
              "      border-radius: 50%;\n",
              "      cursor: pointer;\n",
              "      display: none;\n",
              "      fill: #1967D2;\n",
              "      height: 32px;\n",
              "      padding: 0 0 0 0;\n",
              "      width: 32px;\n",
              "    }\n",
              "\n",
              "    .colab-df-convert:hover {\n",
              "      background-color: #E2EBFA;\n",
              "      box-shadow: 0px 1px 2px rgba(60, 64, 67, 0.3), 0px 1px 3px 1px rgba(60, 64, 67, 0.15);\n",
              "      fill: #174EA6;\n",
              "    }\n",
              "\n",
              "    [theme=dark] .colab-df-convert {\n",
              "      background-color: #3B4455;\n",
              "      fill: #D2E3FC;\n",
              "    }\n",
              "\n",
              "    [theme=dark] .colab-df-convert:hover {\n",
              "      background-color: #434B5C;\n",
              "      box-shadow: 0px 1px 3px 1px rgba(0, 0, 0, 0.15);\n",
              "      filter: drop-shadow(0px 1px 2px rgba(0, 0, 0, 0.3));\n",
              "      fill: #FFFFFF;\n",
              "    }\n",
              "  </style>\n",
              "\n",
              "      <script>\n",
              "        const buttonEl =\n",
              "          document.querySelector('#df-2f96ebf1-e987-42ce-965f-d623370e100a button.colab-df-convert');\n",
              "        buttonEl.style.display =\n",
              "          google.colab.kernel.accessAllowed ? 'block' : 'none';\n",
              "\n",
              "        async function convertToInteractive(key) {\n",
              "          const element = document.querySelector('#df-2f96ebf1-e987-42ce-965f-d623370e100a');\n",
              "          const dataTable =\n",
              "            await google.colab.kernel.invokeFunction('convertToInteractive',\n",
              "                                                     [key], {});\n",
              "          if (!dataTable) return;\n",
              "\n",
              "          const docLinkHtml = 'Like what you see? Visit the ' +\n",
              "            '<a target=\"_blank\" href=https://colab.research.google.com/notebooks/data_table.ipynb>data table notebook</a>'\n",
              "            + ' to learn more about interactive tables.';\n",
              "          element.innerHTML = '';\n",
              "          dataTable['output_type'] = 'display_data';\n",
              "          await google.colab.output.renderOutput(dataTable, element);\n",
              "          const docLink = document.createElement('div');\n",
              "          docLink.innerHTML = docLinkHtml;\n",
              "          element.appendChild(docLink);\n",
              "        }\n",
              "      </script>\n",
              "    </div>\n",
              "  </div>\n",
              "  "
            ]
          },
          "metadata": {},
          "execution_count": 19
        }
      ]
    },
    {
      "cell_type": "markdown",
      "source": [
        "###Tabela"
      ],
      "metadata": {
        "id": "22jf9cXItOAy"
      }
    },
    {
      "cell_type": "code",
      "source": [
        "#@title\n",
        "\"\"\" \n",
        "Customized Percentiles\n",
        "df.describe(percentiles=[0.1, 0.3, 0.7])\n",
        "\"\"\"\n",
        "\n",
        "df_7 = df_6.describe()\n",
        "\n",
        "df_8 = df_6.agg(['median','var'])\n",
        "\n",
        "a = df_6['Método A']\n",
        "b = df_6['Método B']\n",
        "\n",
        "data  = [['coeff of var',a.std()/a.mean(),b.std()/b.mean()],\n",
        "         ['amplitude',a.max()-a.min(),b.max()-b.min()]]\n",
        "\n",
        "df_9 = pd.DataFrame(data, columns =['','Método A','Método B']) \n",
        "df_9.set_index('', inplace=True) \n",
        "\n",
        "df = pd.concat([df_7,df_8,df_9], axis=0) #df_2\n",
        "df = df.astype(float)\n",
        "df"
      ],
      "metadata": {
        "id": "G7sz-s3GtQXY",
        "colab": {
          "base_uri": "https://localhost:8080/",
          "height": 426
        },
        "outputId": "ba7da946-f38f-4721-ce34-41c95929a441",
        "cellView": "form"
      },
      "execution_count": null,
      "outputs": [
        {
          "output_type": "execute_result",
          "data": {
            "text/plain": [
              "               Método A    Método B\n",
              "count         10.000000   10.000000\n",
              "mean          20.300000  102.300000\n",
              "std            3.743142    4.854551\n",
              "min           14.000000   91.000000\n",
              "25%           19.000000  100.500000\n",
              "50%           20.000000  103.500000\n",
              "75%           21.750000  104.750000\n",
              "max           28.000000  108.000000\n",
              "median        20.000000  103.500000\n",
              "var           14.011111   23.566667\n",
              "coeff of var   0.184391    0.047454\n",
              "amplitude     14.000000   17.000000"
            ],
            "text/html": [
              "\n",
              "  <div id=\"df-03aa95e1-28cb-4fe8-a117-b352a640c016\">\n",
              "    <div class=\"colab-df-container\">\n",
              "      <div>\n",
              "<style scoped>\n",
              "    .dataframe tbody tr th:only-of-type {\n",
              "        vertical-align: middle;\n",
              "    }\n",
              "\n",
              "    .dataframe tbody tr th {\n",
              "        vertical-align: top;\n",
              "    }\n",
              "\n",
              "    .dataframe thead th {\n",
              "        text-align: right;\n",
              "    }\n",
              "</style>\n",
              "<table border=\"1\" class=\"dataframe\">\n",
              "  <thead>\n",
              "    <tr style=\"text-align: right;\">\n",
              "      <th></th>\n",
              "      <th>Método A</th>\n",
              "      <th>Método B</th>\n",
              "    </tr>\n",
              "  </thead>\n",
              "  <tbody>\n",
              "    <tr>\n",
              "      <th>count</th>\n",
              "      <td>10.000000</td>\n",
              "      <td>10.000000</td>\n",
              "    </tr>\n",
              "    <tr>\n",
              "      <th>mean</th>\n",
              "      <td>20.300000</td>\n",
              "      <td>102.300000</td>\n",
              "    </tr>\n",
              "    <tr>\n",
              "      <th>std</th>\n",
              "      <td>3.743142</td>\n",
              "      <td>4.854551</td>\n",
              "    </tr>\n",
              "    <tr>\n",
              "      <th>min</th>\n",
              "      <td>14.000000</td>\n",
              "      <td>91.000000</td>\n",
              "    </tr>\n",
              "    <tr>\n",
              "      <th>25%</th>\n",
              "      <td>19.000000</td>\n",
              "      <td>100.500000</td>\n",
              "    </tr>\n",
              "    <tr>\n",
              "      <th>50%</th>\n",
              "      <td>20.000000</td>\n",
              "      <td>103.500000</td>\n",
              "    </tr>\n",
              "    <tr>\n",
              "      <th>75%</th>\n",
              "      <td>21.750000</td>\n",
              "      <td>104.750000</td>\n",
              "    </tr>\n",
              "    <tr>\n",
              "      <th>max</th>\n",
              "      <td>28.000000</td>\n",
              "      <td>108.000000</td>\n",
              "    </tr>\n",
              "    <tr>\n",
              "      <th>median</th>\n",
              "      <td>20.000000</td>\n",
              "      <td>103.500000</td>\n",
              "    </tr>\n",
              "    <tr>\n",
              "      <th>var</th>\n",
              "      <td>14.011111</td>\n",
              "      <td>23.566667</td>\n",
              "    </tr>\n",
              "    <tr>\n",
              "      <th>coeff of var</th>\n",
              "      <td>0.184391</td>\n",
              "      <td>0.047454</td>\n",
              "    </tr>\n",
              "    <tr>\n",
              "      <th>amplitude</th>\n",
              "      <td>14.000000</td>\n",
              "      <td>17.000000</td>\n",
              "    </tr>\n",
              "  </tbody>\n",
              "</table>\n",
              "</div>\n",
              "      <button class=\"colab-df-convert\" onclick=\"convertToInteractive('df-03aa95e1-28cb-4fe8-a117-b352a640c016')\"\n",
              "              title=\"Convert this dataframe to an interactive table.\"\n",
              "              style=\"display:none;\">\n",
              "        \n",
              "  <svg xmlns=\"http://www.w3.org/2000/svg\" height=\"24px\"viewBox=\"0 0 24 24\"\n",
              "       width=\"24px\">\n",
              "    <path d=\"M0 0h24v24H0V0z\" fill=\"none\"/>\n",
              "    <path d=\"M18.56 5.44l.94 2.06.94-2.06 2.06-.94-2.06-.94-.94-2.06-.94 2.06-2.06.94zm-11 1L8.5 8.5l.94-2.06 2.06-.94-2.06-.94L8.5 2.5l-.94 2.06-2.06.94zm10 10l.94 2.06.94-2.06 2.06-.94-2.06-.94-.94-2.06-.94 2.06-2.06.94z\"/><path d=\"M17.41 7.96l-1.37-1.37c-.4-.4-.92-.59-1.43-.59-.52 0-1.04.2-1.43.59L10.3 9.45l-7.72 7.72c-.78.78-.78 2.05 0 2.83L4 21.41c.39.39.9.59 1.41.59.51 0 1.02-.2 1.41-.59l7.78-7.78 2.81-2.81c.8-.78.8-2.07 0-2.86zM5.41 20L4 18.59l7.72-7.72 1.47 1.35L5.41 20z\"/>\n",
              "  </svg>\n",
              "      </button>\n",
              "      \n",
              "  <style>\n",
              "    .colab-df-container {\n",
              "      display:flex;\n",
              "      flex-wrap:wrap;\n",
              "      gap: 12px;\n",
              "    }\n",
              "\n",
              "    .colab-df-convert {\n",
              "      background-color: #E8F0FE;\n",
              "      border: none;\n",
              "      border-radius: 50%;\n",
              "      cursor: pointer;\n",
              "      display: none;\n",
              "      fill: #1967D2;\n",
              "      height: 32px;\n",
              "      padding: 0 0 0 0;\n",
              "      width: 32px;\n",
              "    }\n",
              "\n",
              "    .colab-df-convert:hover {\n",
              "      background-color: #E2EBFA;\n",
              "      box-shadow: 0px 1px 2px rgba(60, 64, 67, 0.3), 0px 1px 3px 1px rgba(60, 64, 67, 0.15);\n",
              "      fill: #174EA6;\n",
              "    }\n",
              "\n",
              "    [theme=dark] .colab-df-convert {\n",
              "      background-color: #3B4455;\n",
              "      fill: #D2E3FC;\n",
              "    }\n",
              "\n",
              "    [theme=dark] .colab-df-convert:hover {\n",
              "      background-color: #434B5C;\n",
              "      box-shadow: 0px 1px 3px 1px rgba(0, 0, 0, 0.15);\n",
              "      filter: drop-shadow(0px 1px 2px rgba(0, 0, 0, 0.3));\n",
              "      fill: #FFFFFF;\n",
              "    }\n",
              "  </style>\n",
              "\n",
              "      <script>\n",
              "        const buttonEl =\n",
              "          document.querySelector('#df-03aa95e1-28cb-4fe8-a117-b352a640c016 button.colab-df-convert');\n",
              "        buttonEl.style.display =\n",
              "          google.colab.kernel.accessAllowed ? 'block' : 'none';\n",
              "\n",
              "        async function convertToInteractive(key) {\n",
              "          const element = document.querySelector('#df-03aa95e1-28cb-4fe8-a117-b352a640c016');\n",
              "          const dataTable =\n",
              "            await google.colab.kernel.invokeFunction('convertToInteractive',\n",
              "                                                     [key], {});\n",
              "          if (!dataTable) return;\n",
              "\n",
              "          const docLinkHtml = 'Like what you see? Visit the ' +\n",
              "            '<a target=\"_blank\" href=https://colab.research.google.com/notebooks/data_table.ipynb>data table notebook</a>'\n",
              "            + ' to learn more about interactive tables.';\n",
              "          element.innerHTML = '';\n",
              "          dataTable['output_type'] = 'display_data';\n",
              "          await google.colab.output.renderOutput(dataTable, element);\n",
              "          const docLink = document.createElement('div');\n",
              "          docLink.innerHTML = docLinkHtml;\n",
              "          element.appendChild(docLink);\n",
              "        }\n",
              "      </script>\n",
              "    </div>\n",
              "  </div>\n",
              "  "
            ]
          },
          "metadata": {},
          "execution_count": 20
        }
      ]
    },
    {
      "cell_type": "markdown",
      "source": [
        "###Interpretação dos resultados\n",
        "\n",
        "Como nos conjuntos de dados apresentados, há um ou mais dados que se afastam do geral das observações (valores discrepantes ou outliers) a média passa a ser uma medida de tendência central inadequada, sendo a mediana uma medida mais indicada.\n",
        "$$ \\\\ $$\n",
        "Está evidente que o Método A apresentou o melhor desempenho, pois a dispersão das medidas em torno da média é menor, ou seja, o Método A apresentou o maior número de medidas de dispersão com os menores valores comparativamente."
      ],
      "metadata": {
        "id": "DrV95GIktSDS"
      }
    },
    {
      "cell_type": "markdown",
      "source": [
        "#Frequência e histograma - Parte 1"
      ],
      "metadata": {
        "id": "K5JGNFuYVvFJ"
      }
    },
    {
      "cell_type": "code",
      "source": [
        "#@title\n",
        "ws = wb[' frequencia e histograma 1']\n",
        "ws['E2'].value"
      ],
      "metadata": {
        "id": "R_QCZHTkU6JC",
        "colab": {
          "base_uri": "https://localhost:8080/",
          "height": 53
        },
        "outputId": "c8f79bda-4a78-4cf8-f40d-16e00bd5de58"
      },
      "execution_count": null,
      "outputs": [
        {
          "output_type": "execute_result",
          "data": {
            "text/plain": [
              "'Considerando o monitoramento da temperatura de uma reação química, apresentados na Tabela abaixo, monte e organize uma tabela de distribuição de frequência por intervalos e plote os histogramas responda as seguintes questões: '"
            ],
            "application/vnd.google.colaboratory.intrinsic+json": {
              "type": "string"
            }
          },
          "metadata": {},
          "execution_count": 95
        }
      ]
    },
    {
      "cell_type": "code",
      "source": [
        "#@title\n",
        "# Read the cell values into a list of lists\n",
        "data_rows = []\n",
        "for row in ws['B3':'C71']:\n",
        "    data_cols = []\n",
        "    for cell in row:\n",
        "        data_cols.append(cell.value)\n",
        "    data_rows.append(data_cols)\n",
        "# Transform into dataframe\n",
        "df = pd.DataFrame(data_rows)\n",
        "df.rename(columns=df.iloc[0], inplace = True)\n",
        "df.drop(df.index[0], inplace = True)\n",
        "df = df.astype(float)\n",
        "df.head()"
      ],
      "metadata": {
        "colab": {
          "base_uri": "https://localhost:8080/",
          "height": 206
        },
        "id": "6rcEiqEyUtvy",
        "outputId": "2841ed6c-c948-49be-f18c-fb14bb6b1dfb"
      },
      "execution_count": null,
      "outputs": [
        {
          "output_type": "execute_result",
          "data": {
            "text/plain": [
              "   Reação  Temperatura\n",
              "1     1.0         95.0\n",
              "2     2.0         98.0\n",
              "3     3.0         99.0\n",
              "4     4.0        100.0\n",
              "5     5.0        101.0"
            ],
            "text/html": [
              "\n",
              "  <div id=\"df-c62ca421-db83-4649-85d8-7a16c122f607\">\n",
              "    <div class=\"colab-df-container\">\n",
              "      <div>\n",
              "<style scoped>\n",
              "    .dataframe tbody tr th:only-of-type {\n",
              "        vertical-align: middle;\n",
              "    }\n",
              "\n",
              "    .dataframe tbody tr th {\n",
              "        vertical-align: top;\n",
              "    }\n",
              "\n",
              "    .dataframe thead th {\n",
              "        text-align: right;\n",
              "    }\n",
              "</style>\n",
              "<table border=\"1\" class=\"dataframe\">\n",
              "  <thead>\n",
              "    <tr style=\"text-align: right;\">\n",
              "      <th></th>\n",
              "      <th>Reação</th>\n",
              "      <th>Temperatura</th>\n",
              "    </tr>\n",
              "  </thead>\n",
              "  <tbody>\n",
              "    <tr>\n",
              "      <th>1</th>\n",
              "      <td>1.0</td>\n",
              "      <td>95.0</td>\n",
              "    </tr>\n",
              "    <tr>\n",
              "      <th>2</th>\n",
              "      <td>2.0</td>\n",
              "      <td>98.0</td>\n",
              "    </tr>\n",
              "    <tr>\n",
              "      <th>3</th>\n",
              "      <td>3.0</td>\n",
              "      <td>99.0</td>\n",
              "    </tr>\n",
              "    <tr>\n",
              "      <th>4</th>\n",
              "      <td>4.0</td>\n",
              "      <td>100.0</td>\n",
              "    </tr>\n",
              "    <tr>\n",
              "      <th>5</th>\n",
              "      <td>5.0</td>\n",
              "      <td>101.0</td>\n",
              "    </tr>\n",
              "  </tbody>\n",
              "</table>\n",
              "</div>\n",
              "      <button class=\"colab-df-convert\" onclick=\"convertToInteractive('df-c62ca421-db83-4649-85d8-7a16c122f607')\"\n",
              "              title=\"Convert this dataframe to an interactive table.\"\n",
              "              style=\"display:none;\">\n",
              "        \n",
              "  <svg xmlns=\"http://www.w3.org/2000/svg\" height=\"24px\"viewBox=\"0 0 24 24\"\n",
              "       width=\"24px\">\n",
              "    <path d=\"M0 0h24v24H0V0z\" fill=\"none\"/>\n",
              "    <path d=\"M18.56 5.44l.94 2.06.94-2.06 2.06-.94-2.06-.94-.94-2.06-.94 2.06-2.06.94zm-11 1L8.5 8.5l.94-2.06 2.06-.94-2.06-.94L8.5 2.5l-.94 2.06-2.06.94zm10 10l.94 2.06.94-2.06 2.06-.94-2.06-.94-.94-2.06-.94 2.06-2.06.94z\"/><path d=\"M17.41 7.96l-1.37-1.37c-.4-.4-.92-.59-1.43-.59-.52 0-1.04.2-1.43.59L10.3 9.45l-7.72 7.72c-.78.78-.78 2.05 0 2.83L4 21.41c.39.39.9.59 1.41.59.51 0 1.02-.2 1.41-.59l7.78-7.78 2.81-2.81c.8-.78.8-2.07 0-2.86zM5.41 20L4 18.59l7.72-7.72 1.47 1.35L5.41 20z\"/>\n",
              "  </svg>\n",
              "      </button>\n",
              "      \n",
              "  <style>\n",
              "    .colab-df-container {\n",
              "      display:flex;\n",
              "      flex-wrap:wrap;\n",
              "      gap: 12px;\n",
              "    }\n",
              "\n",
              "    .colab-df-convert {\n",
              "      background-color: #E8F0FE;\n",
              "      border: none;\n",
              "      border-radius: 50%;\n",
              "      cursor: pointer;\n",
              "      display: none;\n",
              "      fill: #1967D2;\n",
              "      height: 32px;\n",
              "      padding: 0 0 0 0;\n",
              "      width: 32px;\n",
              "    }\n",
              "\n",
              "    .colab-df-convert:hover {\n",
              "      background-color: #E2EBFA;\n",
              "      box-shadow: 0px 1px 2px rgba(60, 64, 67, 0.3), 0px 1px 3px 1px rgba(60, 64, 67, 0.15);\n",
              "      fill: #174EA6;\n",
              "    }\n",
              "\n",
              "    [theme=dark] .colab-df-convert {\n",
              "      background-color: #3B4455;\n",
              "      fill: #D2E3FC;\n",
              "    }\n",
              "\n",
              "    [theme=dark] .colab-df-convert:hover {\n",
              "      background-color: #434B5C;\n",
              "      box-shadow: 0px 1px 3px 1px rgba(0, 0, 0, 0.15);\n",
              "      filter: drop-shadow(0px 1px 2px rgba(0, 0, 0, 0.3));\n",
              "      fill: #FFFFFF;\n",
              "    }\n",
              "  </style>\n",
              "\n",
              "      <script>\n",
              "        const buttonEl =\n",
              "          document.querySelector('#df-c62ca421-db83-4649-85d8-7a16c122f607 button.colab-df-convert');\n",
              "        buttonEl.style.display =\n",
              "          google.colab.kernel.accessAllowed ? 'block' : 'none';\n",
              "\n",
              "        async function convertToInteractive(key) {\n",
              "          const element = document.querySelector('#df-c62ca421-db83-4649-85d8-7a16c122f607');\n",
              "          const dataTable =\n",
              "            await google.colab.kernel.invokeFunction('convertToInteractive',\n",
              "                                                     [key], {});\n",
              "          if (!dataTable) return;\n",
              "\n",
              "          const docLinkHtml = 'Like what you see? Visit the ' +\n",
              "            '<a target=\"_blank\" href=https://colab.research.google.com/notebooks/data_table.ipynb>data table notebook</a>'\n",
              "            + ' to learn more about interactive tables.';\n",
              "          element.innerHTML = '';\n",
              "          dataTable['output_type'] = 'display_data';\n",
              "          await google.colab.output.renderOutput(dataTable, element);\n",
              "          const docLink = document.createElement('div');\n",
              "          docLink.innerHTML = docLinkHtml;\n",
              "          element.appendChild(docLink);\n",
              "        }\n",
              "      </script>\n",
              "    </div>\n",
              "  </div>\n",
              "  "
            ]
          },
          "metadata": {},
          "execution_count": 96
        }
      ]
    },
    {
      "cell_type": "code",
      "source": [
        "#@title\n",
        "plt.style.use('fivethirtyeight')"
      ],
      "metadata": {
        "id": "jhSeXe3RWyZP"
      },
      "execution_count": null,
      "outputs": []
    },
    {
      "cell_type": "code",
      "source": [
        "#@title\n",
        "temp = df['Temperatura']\n",
        "\n",
        "plt.figure(figsize=(12,8))\n",
        "plt.hist(temp, bins=6, edgecolor='black')\n",
        "#density=True, probability density distribution\n",
        "median_temp = temp.median()\n",
        "color='#fc4f30'\n",
        "\n",
        "plt.axvline(median_temp,\n",
        "            color=color,\n",
        "            label='Mediana',\n",
        "            linewidth=2\n",
        "          )\n",
        "\n",
        "plt.legend()\n",
        "# plt.title('Temperatura de reação')\n",
        "plt.xlabel('Temperatura')\n",
        "plt.ylabel('Número de reações')\n",
        "plt.show()"
      ],
      "metadata": {
        "colab": {
          "base_uri": "https://localhost:8080/",
          "height": 537
        },
        "id": "WAbM0w_MWZGm",
        "outputId": "a8e7f9ce-95e2-48c2-dfbe-eb009a1e2fe6"
      },
      "execution_count": null,
      "outputs": [
        {
          "output_type": "display_data",
          "data": {
            "text/plain": [
              "<Figure size 864x576 with 1 Axes>"
            ],
            "image/png": "[encoded data removed]"
          },
          "metadata": {}
        }
      ]
    },
    {
      "cell_type": "markdown",
      "source": [
        "##a)\t% de resultados iguais ou superiores a uma temperatura de 80 °C."
      ],
      "metadata": {
        "id": "1Q5nkEeXZx01"
      }
    },
    {
      "cell_type": "code",
      "source": [
        "#@title\n",
        "r_1 = (sum(i > 80 for i in temp) / len(temp))*100\n",
        "print('Resposta:',r_1, '%')"
      ],
      "metadata": {
        "colab": {
          "base_uri": "https://localhost:8080/"
        },
        "id": "cXMja8rfaPJC",
        "outputId": "4025e3e3-8ea9-46bf-d00c-63289eda30dc"
      },
      "execution_count": null,
      "outputs": [
        {
          "output_type": "stream",
          "name": "stdout",
          "text": [
            "Resposta: 100.0 %\n"
          ]
        }
      ]
    },
    {
      "cell_type": "markdown",
      "source": [
        "\t\t\n",
        "##b)\t% de resultados entre 96 °C  e 100 °C. \t\t\t\t\t\t\t\t\t\t\t\n"
      ],
      "metadata": {
        "id": "xWs_pRN1Z5a2"
      }
    },
    {
      "cell_type": "code",
      "source": [
        "#@title\n",
        "r_2 = (sum(i < 100 and i > 96 for i in temp) / len(temp))*100 \n",
        "\n",
        "print('Resposta:',round(r_2,1), '%')"
      ],
      "metadata": {
        "colab": {
          "base_uri": "https://localhost:8080/"
        },
        "id": "Yh_buYTBaPjF",
        "outputId": "cf910796-f276-481d-fba0-52e016ed76a8"
      },
      "execution_count": null,
      "outputs": [
        {
          "output_type": "stream",
          "name": "stdout",
          "text": [
            "Resposta: 32.4 %\n"
          ]
        }
      ]
    },
    {
      "cell_type": "markdown",
      "source": [
        "##c)\tNúmero de resultados menores que 97 °C.\t\t\t\t\t\t\t\t\t\t\t\t\t\n"
      ],
      "metadata": {
        "id": "yfiKFshQaChe"
      }
    },
    {
      "cell_type": "code",
      "source": [
        "#@title\n",
        "r_3 = sum(i < 97 for i in temp)\n",
        "print('Resposta:', r_3)"
      ],
      "metadata": {
        "colab": {
          "base_uri": "https://localhost:8080/"
        },
        "id": "PekASUFvaP4s",
        "outputId": "14719e58-5593-4a63-f4a9-44e5f6aae3ac"
      },
      "execution_count": null,
      "outputs": [
        {
          "output_type": "stream",
          "name": "stdout",
          "text": [
            "Resposta: 3\n"
          ]
        }
      ]
    },
    {
      "cell_type": "markdown",
      "source": [
        "##d) \tQuantas reações química apresentaram temperatura maior que 100  °C?\t\t\t\t\t\t\t\t\t\t\t\t\t\n"
      ],
      "metadata": {
        "id": "gv2-LjuTaHAL"
      }
    },
    {
      "cell_type": "code",
      "source": [
        "#@title\n",
        "r_4 = sum(i > 100 for i in temp)\n",
        "print('Resposta:', r_4)"
      ],
      "metadata": {
        "colab": {
          "base_uri": "https://localhost:8080/"
        },
        "id": "9GejMF83aQbe",
        "outputId": "fa548a65-4c7e-4a66-aa63-edf728e5e5b0"
      },
      "execution_count": null,
      "outputs": [
        {
          "output_type": "stream",
          "name": "stdout",
          "text": [
            "Resposta: 25\n"
          ]
        }
      ]
    },
    {
      "cell_type": "markdown",
      "source": [
        "##e)\t Coniderando que a temperatura ideal da reação química é de 100  °C quantas reações químicas não apresentaram temperatura adequada?"
      ],
      "metadata": {
        "id": "ZihxPb2vaK4v"
      }
    },
    {
      "cell_type": "code",
      "source": [
        "#@title\n",
        "r_5 = sum(i != 100.0 for i in temp)\n",
        "print('Resposta:', r_5)"
      ],
      "metadata": {
        "colab": {
          "base_uri": "https://localhost:8080/"
        },
        "id": "fDtH7BxdaRkE",
        "outputId": "cda30a3f-85f9-4718-ecca-77f62dba776b"
      },
      "execution_count": null,
      "outputs": [
        {
          "output_type": "stream",
          "name": "stdout",
          "text": [
            "Resposta: 50\n"
          ]
        }
      ]
    },
    {
      "cell_type": "markdown",
      "source": [
        "#Frequência e histograma - Parte 2"
      ],
      "metadata": {
        "id": "2jLfRMcWV9UC"
      }
    },
    {
      "cell_type": "code",
      "source": [
        "#@title\n",
        "ws = wb['Freuquencia e histograma']\n",
        "ws['B3'].value"
      ],
      "metadata": {
        "colab": {
          "base_uri": "https://localhost:8080/",
          "height": 35
        },
        "id": "4_NqpSYntroP",
        "outputId": "2b7c43f9-ec35-4735-cbe2-686167348a17"
      },
      "execution_count": null,
      "outputs": [
        {
          "output_type": "execute_result",
          "data": {
            "text/plain": [
              "'Nos exercícios 31 a 34, construa uma distribuição de frequência e um histograma de frequência para o conjunto de dados. Descreva suas interpretações'"
            ],
            "application/vnd.google.colaboratory.intrinsic+json": {
              "type": "string"
            }
          },
          "metadata": {},
          "execution_count": 30
        }
      ]
    },
    {
      "cell_type": "markdown",
      "source": [
        "##1) Número de vendas no ano de 2020\t"
      ],
      "metadata": {
        "id": "3344uSVeUIM0"
      }
    },
    {
      "cell_type": "code",
      "source": [
        "#@title\n",
        "data = {'vendedor':  list(range(1,22+1)),\n",
        "        'num_vendas_2020': [2114,\t2468,\t7119,\t1876,\t4105,\t3183,\n",
        "                            1932,\t1355,\t4278,\t1030,\t2000,\t1077,\n",
        "                            5835,\t1512,\t1697,\t2478,\t3981,\t1643,\n",
        "                            1858,\t1500,\t4608,\t1000]\n",
        "        }\n",
        "\n",
        "df = pd.DataFrame(data)\n",
        "df.set_index('vendedor', inplace = True)"
      ],
      "metadata": {
        "id": "w7qPUmFdWAA9"
      },
      "execution_count": null,
      "outputs": []
    },
    {
      "cell_type": "code",
      "source": [
        "#@title\n",
        "amostra = df['num_vendas_2020']\n",
        "\n",
        "step = 500\n",
        "bins=np.arange(amostra.min()-step, amostra.max()+step, step)\n",
        "\n",
        "plt.figure(figsize=(12,8))\n",
        "plt.hist(amostra, bins=bins, edgecolor='black')\n",
        "median_conc = amostra.median()\n",
        "color='#fc4f30'\n",
        "\n",
        "plt.axvline(median_conc,\n",
        "            color=color,\n",
        "            label='Mediana',\n",
        "            linewidth=2\n",
        "          )\n",
        "\n",
        "plt.legend()\n",
        "# plt.title('Temperatura de reação')\n",
        "plt.xlabel('')\n",
        "plt.ylabel('Número de vendas (un.)')\n",
        "plt.xticks(bins)\n",
        "# plt.yticks(np.arange(0, 1, 0.1)) \n",
        "plt.show()"
      ],
      "metadata": {
        "colab": {
          "base_uri": "https://localhost:8080/",
          "height": 515
        },
        "cellView": "form",
        "id": "oTG9_rFuwXQn",
        "outputId": "95d33960-5d06-487e-9b7e-a13d8228c33a"
      },
      "execution_count": null,
      "outputs": [
        {
          "output_type": "display_data",
          "data": {
            "text/plain": [
              "<Figure size 864x576 with 1 Axes>"
            ],
            "image/png": "[encoded data removed]"
          },
          "metadata": {}
        }
      ]
    },
    {
      "cell_type": "code",
      "source": [
        "#@title\n",
        "#Set bin sizes\n",
        "step = 500\n",
        "bins = list(range(df['num_vendas_2020'].min() - step, df['num_vendas_2020'].max() + step, step))\n",
        "\n",
        "#Give list\n",
        "sample = df['num_vendas_2020']\n",
        "\n",
        "df.rename(columns={'num_vendas_2020' : 'nums'}, inplace = True)\n",
        "\n",
        "#Put into dataframe\n",
        "newdf = pd.DataFrame(pd.cut(df['nums'], bins=bins).value_counts()).sort_index()\n",
        "newdf.reset_index(inplace=True)\n",
        "\n",
        "#Convert to String\n",
        "newdf['index'] = newdf['index'].astype(str)\n",
        "\n",
        "#Set 'easy-to-read' names for bins\n",
        "left = newdf['index'].str.split(',').str[0].str.split('(').str[1].astype('int32') + 1\n",
        "right = newdf['index'].str.split(',').str[1].str.split(']').str[0]\n",
        "\n",
        "fullname = left.astype(str) + ' -' + right\n",
        "newdf['index'] = fullname\n",
        "\n",
        "#cummulative frequency\n",
        "newdf['cumfreq'] = newdf['nums'].cumsum()\n",
        "\n",
        "#relative frequency\n",
        "newdf['relfreq'] = round(newdf['nums'] / newdf['nums'].sum()*100,1)\n",
        "\n",
        "#cummulative relative frequency\n",
        "newdf['cumrelfreq'] = round(newdf['relfreq'].cumsum())\n",
        "\n",
        "#Add column names\n",
        "newdf.columns =['Intervalo de tempo (s)', \n",
        "                'Frequência simples', \n",
        "                'Frequência simples acumulada',\n",
        "                'Frequência relativa (%)', \n",
        "                'Frequência relativa acumulada (%)']\n",
        "\n",
        "#Show frequency table\n",
        "newdf"
      ],
      "metadata": {
        "colab": {
          "base_uri": "https://localhost:8080/",
          "height": 488
        },
        "id": "rZJ67QjyumU4",
        "outputId": "2327d590-3d4b-4de1-a12c-b67b1d598c34"
      },
      "execution_count": null,
      "outputs": [
        {
          "output_type": "execute_result",
          "data": {
            "text/plain": [
              "   Intervalo de tempo (s)  Frequência simples  Frequência simples acumulada  \\\n",
              "0              501 - 1000                   1                             1   \n",
              "1             1001 - 1500                   4                             5   \n",
              "2             1501 - 2000                   7                            12   \n",
              "3             2001 - 2500                   3                            15   \n",
              "4             2501 - 3000                   0                            15   \n",
              "5             3001 - 3500                   1                            16   \n",
              "6             3501 - 4000                   1                            17   \n",
              "7             4001 - 4500                   2                            19   \n",
              "8             4501 - 5000                   1                            20   \n",
              "9             5001 - 5500                   0                            20   \n",
              "10            5501 - 6000                   1                            21   \n",
              "11            6001 - 6500                   0                            21   \n",
              "12            6501 - 7000                   0                            21   \n",
              "13            7001 - 7500                   1                            22   \n",
              "\n",
              "    Frequência relativa (%)  Frequência relativa acumulada (%)  \n",
              "0                       4.5                                4.0  \n",
              "1                      18.2                               23.0  \n",
              "2                      31.8                               54.0  \n",
              "3                      13.6                               68.0  \n",
              "4                       0.0                               68.0  \n",
              "5                       4.5                               73.0  \n",
              "6                       4.5                               77.0  \n",
              "7                       9.1                               86.0  \n",
              "8                       4.5                               91.0  \n",
              "9                       0.0                               91.0  \n",
              "10                      4.5                               95.0  \n",
              "11                      0.0                               95.0  \n",
              "12                      0.0                               95.0  \n",
              "13                      4.5                              100.0  "
            ],
            "text/html": [
              "\n",
              "  <div id=\"df-ed88c7c6-bd8b-4a45-9cf7-d57164ac5e13\">\n",
              "    <div class=\"colab-df-container\">\n",
              "      <div>\n",
              "<style scoped>\n",
              "    .dataframe tbody tr th:only-of-type {\n",
              "        vertical-align: middle;\n",
              "    }\n",
              "\n",
              "    .dataframe tbody tr th {\n",
              "        vertical-align: top;\n",
              "    }\n",
              "\n",
              "    .dataframe thead th {\n",
              "        text-align: right;\n",
              "    }\n",
              "</style>\n",
              "<table border=\"1\" class=\"dataframe\">\n",
              "  <thead>\n",
              "    <tr style=\"text-align: right;\">\n",
              "      <th></th>\n",
              "      <th>Intervalo de tempo (s)</th>\n",
              "      <th>Frequência simples</th>\n",
              "      <th>Frequência simples acumulada</th>\n",
              "      <th>Frequência relativa (%)</th>\n",
              "      <th>Frequência relativa acumulada (%)</th>\n",
              "    </tr>\n",
              "  </thead>\n",
              "  <tbody>\n",
              "    <tr>\n",
              "      <th>0</th>\n",
              "      <td>501 - 1000</td>\n",
              "      <td>1</td>\n",
              "      <td>1</td>\n",
              "      <td>4.5</td>\n",
              "      <td>4.0</td>\n",
              "    </tr>\n",
              "    <tr>\n",
              "      <th>1</th>\n",
              "      <td>1001 - 1500</td>\n",
              "      <td>4</td>\n",
              "      <td>5</td>\n",
              "      <td>18.2</td>\n",
              "      <td>23.0</td>\n",
              "    </tr>\n",
              "    <tr>\n",
              "      <th>2</th>\n",
              "      <td>1501 - 2000</td>\n",
              "      <td>7</td>\n",
              "      <td>12</td>\n",
              "      <td>31.8</td>\n",
              "      <td>54.0</td>\n",
              "    </tr>\n",
              "    <tr>\n",
              "      <th>3</th>\n",
              "      <td>2001 - 2500</td>\n",
              "      <td>3</td>\n",
              "      <td>15</td>\n",
              "      <td>13.6</td>\n",
              "      <td>68.0</td>\n",
              "    </tr>\n",
              "    <tr>\n",
              "      <th>4</th>\n",
              "      <td>2501 - 3000</td>\n",
              "      <td>0</td>\n",
              "      <td>15</td>\n",
              "      <td>0.0</td>\n",
              "      <td>68.0</td>\n",
              "    </tr>\n",
              "    <tr>\n",
              "      <th>5</th>\n",
              "      <td>3001 - 3500</td>\n",
              "      <td>1</td>\n",
              "      <td>16</td>\n",
              "      <td>4.5</td>\n",
              "      <td>73.0</td>\n",
              "    </tr>\n",
              "    <tr>\n",
              "      <th>6</th>\n",
              "      <td>3501 - 4000</td>\n",
              "      <td>1</td>\n",
              "      <td>17</td>\n",
              "      <td>4.5</td>\n",
              "      <td>77.0</td>\n",
              "    </tr>\n",
              "    <tr>\n",
              "      <th>7</th>\n",
              "      <td>4001 - 4500</td>\n",
              "      <td>2</td>\n",
              "      <td>19</td>\n",
              "      <td>9.1</td>\n",
              "      <td>86.0</td>\n",
              "    </tr>\n",
              "    <tr>\n",
              "      <th>8</th>\n",
              "      <td>4501 - 5000</td>\n",
              "      <td>1</td>\n",
              "      <td>20</td>\n",
              "      <td>4.5</td>\n",
              "      <td>91.0</td>\n",
              "    </tr>\n",
              "    <tr>\n",
              "      <th>9</th>\n",
              "      <td>5001 - 5500</td>\n",
              "      <td>0</td>\n",
              "      <td>20</td>\n",
              "      <td>0.0</td>\n",
              "      <td>91.0</td>\n",
              "    </tr>\n",
              "    <tr>\n",
              "      <th>10</th>\n",
              "      <td>5501 - 6000</td>\n",
              "      <td>1</td>\n",
              "      <td>21</td>\n",
              "      <td>4.5</td>\n",
              "      <td>95.0</td>\n",
              "    </tr>\n",
              "    <tr>\n",
              "      <th>11</th>\n",
              "      <td>6001 - 6500</td>\n",
              "      <td>0</td>\n",
              "      <td>21</td>\n",
              "      <td>0.0</td>\n",
              "      <td>95.0</td>\n",
              "    </tr>\n",
              "    <tr>\n",
              "      <th>12</th>\n",
              "      <td>6501 - 7000</td>\n",
              "      <td>0</td>\n",
              "      <td>21</td>\n",
              "      <td>0.0</td>\n",
              "      <td>95.0</td>\n",
              "    </tr>\n",
              "    <tr>\n",
              "      <th>13</th>\n",
              "      <td>7001 - 7500</td>\n",
              "      <td>1</td>\n",
              "      <td>22</td>\n",
              "      <td>4.5</td>\n",
              "      <td>100.0</td>\n",
              "    </tr>\n",
              "  </tbody>\n",
              "</table>\n",
              "</div>\n",
              "      <button class=\"colab-df-convert\" onclick=\"convertToInteractive('df-ed88c7c6-bd8b-4a45-9cf7-d57164ac5e13')\"\n",
              "              title=\"Convert this dataframe to an interactive table.\"\n",
              "              style=\"display:none;\">\n",
              "        \n",
              "  <svg xmlns=\"http://www.w3.org/2000/svg\" height=\"24px\"viewBox=\"0 0 24 24\"\n",
              "       width=\"24px\">\n",
              "    <path d=\"M0 0h24v24H0V0z\" fill=\"none\"/>\n",
              "    <path d=\"M18.56 5.44l.94 2.06.94-2.06 2.06-.94-2.06-.94-.94-2.06-.94 2.06-2.06.94zm-11 1L8.5 8.5l.94-2.06 2.06-.94-2.06-.94L8.5 2.5l-.94 2.06-2.06.94zm10 10l.94 2.06.94-2.06 2.06-.94-2.06-.94-.94-2.06-.94 2.06-2.06.94z\"/><path d=\"M17.41 7.96l-1.37-1.37c-.4-.4-.92-.59-1.43-.59-.52 0-1.04.2-1.43.59L10.3 9.45l-7.72 7.72c-.78.78-.78 2.05 0 2.83L4 21.41c.39.39.9.59 1.41.59.51 0 1.02-.2 1.41-.59l7.78-7.78 2.81-2.81c.8-.78.8-2.07 0-2.86zM5.41 20L4 18.59l7.72-7.72 1.47 1.35L5.41 20z\"/>\n",
              "  </svg>\n",
              "      </button>\n",
              "      \n",
              "  <style>\n",
              "    .colab-df-container {\n",
              "      display:flex;\n",
              "      flex-wrap:wrap;\n",
              "      gap: 12px;\n",
              "    }\n",
              "\n",
              "    .colab-df-convert {\n",
              "      background-color: #E8F0FE;\n",
              "      border: none;\n",
              "      border-radius: 50%;\n",
              "      cursor: pointer;\n",
              "      display: none;\n",
              "      fill: #1967D2;\n",
              "      height: 32px;\n",
              "      padding: 0 0 0 0;\n",
              "      width: 32px;\n",
              "    }\n",
              "\n",
              "    .colab-df-convert:hover {\n",
              "      background-color: #E2EBFA;\n",
              "      box-shadow: 0px 1px 2px rgba(60, 64, 67, 0.3), 0px 1px 3px 1px rgba(60, 64, 67, 0.15);\n",
              "      fill: #174EA6;\n",
              "    }\n",
              "\n",
              "    [theme=dark] .colab-df-convert {\n",
              "      background-color: #3B4455;\n",
              "      fill: #D2E3FC;\n",
              "    }\n",
              "\n",
              "    [theme=dark] .colab-df-convert:hover {\n",
              "      background-color: #434B5C;\n",
              "      box-shadow: 0px 1px 3px 1px rgba(0, 0, 0, 0.15);\n",
              "      filter: drop-shadow(0px 1px 2px rgba(0, 0, 0, 0.3));\n",
              "      fill: #FFFFFF;\n",
              "    }\n",
              "  </style>\n",
              "\n",
              "      <script>\n",
              "        const buttonEl =\n",
              "          document.querySelector('#df-ed88c7c6-bd8b-4a45-9cf7-d57164ac5e13 button.colab-df-convert');\n",
              "        buttonEl.style.display =\n",
              "          google.colab.kernel.accessAllowed ? 'block' : 'none';\n",
              "\n",
              "        async function convertToInteractive(key) {\n",
              "          const element = document.querySelector('#df-ed88c7c6-bd8b-4a45-9cf7-d57164ac5e13');\n",
              "          const dataTable =\n",
              "            await google.colab.kernel.invokeFunction('convertToInteractive',\n",
              "                                                     [key], {});\n",
              "          if (!dataTable) return;\n",
              "\n",
              "          const docLinkHtml = 'Like what you see? Visit the ' +\n",
              "            '<a target=\"_blank\" href=https://colab.research.google.com/notebooks/data_table.ipynb>data table notebook</a>'\n",
              "            + ' to learn more about interactive tables.';\n",
              "          element.innerHTML = '';\n",
              "          dataTable['output_type'] = 'display_data';\n",
              "          await google.colab.output.renderOutput(dataTable, element);\n",
              "          const docLink = document.createElement('div');\n",
              "          docLink.innerHTML = docLinkHtml;\n",
              "          element.appendChild(docLink);\n",
              "        }\n",
              "      </script>\n",
              "    </div>\n",
              "  </div>\n",
              "  "
            ]
          },
          "metadata": {},
          "execution_count": 33
        }
      ]
    },
    {
      "cell_type": "markdown",
      "source": [
        "##2) Rendimento de uma reação química (%)\t"
      ],
      "metadata": {
        "id": "_eA29l20ULUi"
      }
    },
    {
      "cell_type": "code",
      "source": [
        "#@title\n",
        "data = {'amostras':  list(range(1,24+1)),\n",
        "        'rendimento': [35,\t51,\t44,\t42,\t37,\t38,\t36,\t39,\n",
        "                       44,\t43,\t40,\t40,\t32,\t39,\t41,\t38,\n",
        "                       42,\t39,\t40,\t46,\t37,\t35,\t41,\t39,]\n",
        "        }\n",
        "\n",
        "df = pd.DataFrame(data)\n",
        "df.set_index('amostras', inplace = True)"
      ],
      "metadata": {
        "id": "rm2BwHTZUR9A"
      },
      "execution_count": null,
      "outputs": []
    },
    {
      "cell_type": "code",
      "source": [
        "#@title\n",
        "amostra = df['rendimento']\n",
        "\n",
        "step = 2\n",
        "bins=np.arange(amostra.min()-step, amostra.max()+step,step)\n",
        "\n",
        "plt.figure(figsize=(12,8))\n",
        "plt.hist(amostra, bins=bins, edgecolor='black')\n",
        "median_conc = amostra.median()\n",
        "color='#fc4f30'\n",
        "\n",
        "plt.axvline(median_conc,\n",
        "            color=color,\n",
        "            label='Mediana',\n",
        "            linewidth=2\n",
        "          )\n",
        "\n",
        "plt.legend()\n",
        "# plt.title('Temperatura de reação')\n",
        "plt.xlabel('')\n",
        "plt.ylabel('Número de amostras (un.)')\n",
        "plt.xticks(bins)\n",
        "# plt.yticks(np.arange(0, 1, 0.1)) \n",
        "plt.show()"
      ],
      "metadata": {
        "colab": {
          "base_uri": "https://localhost:8080/",
          "height": 515
        },
        "id": "6LgPZ1ac3IRP",
        "outputId": "e960df5a-c6f7-4dce-8654-c1a90c80e767"
      },
      "execution_count": null,
      "outputs": [
        {
          "output_type": "display_data",
          "data": {
            "text/plain": [
              "<Figure size 864x576 with 1 Axes>"
            ],
            "image/png": "[encoded data removed]"
          },
          "metadata": {}
        }
      ]
    },
    {
      "cell_type": "code",
      "source": [
        "#@title\n",
        "#Set bin sizes\n",
        "step = 2\n",
        "bins = list(range(df['rendimento'].min() - step, df['rendimento'].max() + step, step))\n",
        "\n",
        "#Give list\n",
        "sample = df['rendimento']\n",
        "\n",
        "df.rename(columns={'rendimento' : 'nums'}, inplace = True)\n",
        "\n",
        "#Put into dataframe\n",
        "newdf = pd.DataFrame(pd.cut(df['nums'], bins=bins).value_counts()).sort_index()\n",
        "newdf.reset_index(inplace=True)\n",
        "\n",
        "#Convert to String\n",
        "newdf['index'] = newdf['index'].astype(str)\n",
        "\n",
        "#Set 'easy-to-read' names for bins\n",
        "left = newdf['index'].str.split(',').str[0].str.split('(').str[1].astype('int32') + 1\n",
        "right = newdf['index'].str.split(',').str[1].str.split(']').str[0]\n",
        "\n",
        "fullname = left.astype(str) + ' -' + right\n",
        "newdf['index'] = fullname\n",
        "\n",
        "#cummulative frequency\n",
        "newdf['cumfreq'] = newdf['nums'].cumsum()\n",
        "\n",
        "#relative frequency\n",
        "newdf['relfreq'] = round(newdf['nums'] / newdf['nums'].sum()*100,1)\n",
        "\n",
        "#cummulative relative frequency\n",
        "newdf['cumrelfreq'] = round(newdf['relfreq'].cumsum())\n",
        "\n",
        "#Add column names\n",
        "newdf.columns =['Intervalo de tempo (s)', \n",
        "                'Frequência simples', \n",
        "                'Frequência simples acumulada',\n",
        "                'Frequência relativa (%)', \n",
        "                'Frequência relativa acumulada (%)']\n",
        "\n",
        "#Show frequency table\n",
        "newdf"
      ],
      "metadata": {
        "colab": {
          "base_uri": "https://localhost:8080/",
          "height": 394
        },
        "id": "yI6jsFlx4qf2",
        "outputId": "dc9ed3da-0763-48cd-c747-4af474b82f82"
      },
      "execution_count": null,
      "outputs": [
        {
          "output_type": "execute_result",
          "data": {
            "text/plain": [
              "   Intervalo de tempo (s)  Frequência simples  Frequência simples acumulada  \\\n",
              "0                 31 - 32                   1                             1   \n",
              "1                 33 - 34                   0                             1   \n",
              "2                 35 - 36                   3                             4   \n",
              "3                 37 - 38                   4                             8   \n",
              "4                 39 - 40                   7                            15   \n",
              "5                 41 - 42                   4                            19   \n",
              "6                 43 - 44                   3                            22   \n",
              "7                 45 - 46                   1                            23   \n",
              "8                 47 - 48                   0                            23   \n",
              "9                 49 - 50                   0                            23   \n",
              "10                51 - 52                   1                            24   \n",
              "\n",
              "    Frequência relativa (%)  Frequência relativa acumulada (%)  \n",
              "0                       4.2                                4.0  \n",
              "1                       0.0                                4.0  \n",
              "2                      12.5                               17.0  \n",
              "3                      16.7                               33.0  \n",
              "4                      29.2                               63.0  \n",
              "5                      16.7                               79.0  \n",
              "6                      12.5                               92.0  \n",
              "7                       4.2                               96.0  \n",
              "8                       0.0                               96.0  \n",
              "9                       0.0                               96.0  \n",
              "10                      4.2                              100.0  "
            ],
            "text/html": [
              "\n",
              "  <div id=\"df-a1c3ba85-7cec-4ccd-9b5f-75692b404f69\">\n",
              "    <div class=\"colab-df-container\">\n",
              "      <div>\n",
              "<style scoped>\n",
              "    .dataframe tbody tr th:only-of-type {\n",
              "        vertical-align: middle;\n",
              "    }\n",
              "\n",
              "    .dataframe tbody tr th {\n",
              "        vertical-align: top;\n",
              "    }\n",
              "\n",
              "    .dataframe thead th {\n",
              "        text-align: right;\n",
              "    }\n",
              "</style>\n",
              "<table border=\"1\" class=\"dataframe\">\n",
              "  <thead>\n",
              "    <tr style=\"text-align: right;\">\n",
              "      <th></th>\n",
              "      <th>Intervalo de tempo (s)</th>\n",
              "      <th>Frequência simples</th>\n",
              "      <th>Frequência simples acumulada</th>\n",
              "      <th>Frequência relativa (%)</th>\n",
              "      <th>Frequência relativa acumulada (%)</th>\n",
              "    </tr>\n",
              "  </thead>\n",
              "  <tbody>\n",
              "    <tr>\n",
              "      <th>0</th>\n",
              "      <td>31 - 32</td>\n",
              "      <td>1</td>\n",
              "      <td>1</td>\n",
              "      <td>4.2</td>\n",
              "      <td>4.0</td>\n",
              "    </tr>\n",
              "    <tr>\n",
              "      <th>1</th>\n",
              "      <td>33 - 34</td>\n",
              "      <td>0</td>\n",
              "      <td>1</td>\n",
              "      <td>0.0</td>\n",
              "      <td>4.0</td>\n",
              "    </tr>\n",
              "    <tr>\n",
              "      <th>2</th>\n",
              "      <td>35 - 36</td>\n",
              "      <td>3</td>\n",
              "      <td>4</td>\n",
              "      <td>12.5</td>\n",
              "      <td>17.0</td>\n",
              "    </tr>\n",
              "    <tr>\n",
              "      <th>3</th>\n",
              "      <td>37 - 38</td>\n",
              "      <td>4</td>\n",
              "      <td>8</td>\n",
              "      <td>16.7</td>\n",
              "      <td>33.0</td>\n",
              "    </tr>\n",
              "    <tr>\n",
              "      <th>4</th>\n",
              "      <td>39 - 40</td>\n",
              "      <td>7</td>\n",
              "      <td>15</td>\n",
              "      <td>29.2</td>\n",
              "      <td>63.0</td>\n",
              "    </tr>\n",
              "    <tr>\n",
              "      <th>5</th>\n",
              "      <td>41 - 42</td>\n",
              "      <td>4</td>\n",
              "      <td>19</td>\n",
              "      <td>16.7</td>\n",
              "      <td>79.0</td>\n",
              "    </tr>\n",
              "    <tr>\n",
              "      <th>6</th>\n",
              "      <td>43 - 44</td>\n",
              "      <td>3</td>\n",
              "      <td>22</td>\n",
              "      <td>12.5</td>\n",
              "      <td>92.0</td>\n",
              "    </tr>\n",
              "    <tr>\n",
              "      <th>7</th>\n",
              "      <td>45 - 46</td>\n",
              "      <td>1</td>\n",
              "      <td>23</td>\n",
              "      <td>4.2</td>\n",
              "      <td>96.0</td>\n",
              "    </tr>\n",
              "    <tr>\n",
              "      <th>8</th>\n",
              "      <td>47 - 48</td>\n",
              "      <td>0</td>\n",
              "      <td>23</td>\n",
              "      <td>0.0</td>\n",
              "      <td>96.0</td>\n",
              "    </tr>\n",
              "    <tr>\n",
              "      <th>9</th>\n",
              "      <td>49 - 50</td>\n",
              "      <td>0</td>\n",
              "      <td>23</td>\n",
              "      <td>0.0</td>\n",
              "      <td>96.0</td>\n",
              "    </tr>\n",
              "    <tr>\n",
              "      <th>10</th>\n",
              "      <td>51 - 52</td>\n",
              "      <td>1</td>\n",
              "      <td>24</td>\n",
              "      <td>4.2</td>\n",
              "      <td>100.0</td>\n",
              "    </tr>\n",
              "  </tbody>\n",
              "</table>\n",
              "</div>\n",
              "      <button class=\"colab-df-convert\" onclick=\"convertToInteractive('df-a1c3ba85-7cec-4ccd-9b5f-75692b404f69')\"\n",
              "              title=\"Convert this dataframe to an interactive table.\"\n",
              "              style=\"display:none;\">\n",
              "        \n",
              "  <svg xmlns=\"http://www.w3.org/2000/svg\" height=\"24px\"viewBox=\"0 0 24 24\"\n",
              "       width=\"24px\">\n",
              "    <path d=\"M0 0h24v24H0V0z\" fill=\"none\"/>\n",
              "    <path d=\"M18.56 5.44l.94 2.06.94-2.06 2.06-.94-2.06-.94-.94-2.06-.94 2.06-2.06.94zm-11 1L8.5 8.5l.94-2.06 2.06-.94-2.06-.94L8.5 2.5l-.94 2.06-2.06.94zm10 10l.94 2.06.94-2.06 2.06-.94-2.06-.94-.94-2.06-.94 2.06-2.06.94z\"/><path d=\"M17.41 7.96l-1.37-1.37c-.4-.4-.92-.59-1.43-.59-.52 0-1.04.2-1.43.59L10.3 9.45l-7.72 7.72c-.78.78-.78 2.05 0 2.83L4 21.41c.39.39.9.59 1.41.59.51 0 1.02-.2 1.41-.59l7.78-7.78 2.81-2.81c.8-.78.8-2.07 0-2.86zM5.41 20L4 18.59l7.72-7.72 1.47 1.35L5.41 20z\"/>\n",
              "  </svg>\n",
              "      </button>\n",
              "      \n",
              "  <style>\n",
              "    .colab-df-container {\n",
              "      display:flex;\n",
              "      flex-wrap:wrap;\n",
              "      gap: 12px;\n",
              "    }\n",
              "\n",
              "    .colab-df-convert {\n",
              "      background-color: #E8F0FE;\n",
              "      border: none;\n",
              "      border-radius: 50%;\n",
              "      cursor: pointer;\n",
              "      display: none;\n",
              "      fill: #1967D2;\n",
              "      height: 32px;\n",
              "      padding: 0 0 0 0;\n",
              "      width: 32px;\n",
              "    }\n",
              "\n",
              "    .colab-df-convert:hover {\n",
              "      background-color: #E2EBFA;\n",
              "      box-shadow: 0px 1px 2px rgba(60, 64, 67, 0.3), 0px 1px 3px 1px rgba(60, 64, 67, 0.15);\n",
              "      fill: #174EA6;\n",
              "    }\n",
              "\n",
              "    [theme=dark] .colab-df-convert {\n",
              "      background-color: #3B4455;\n",
              "      fill: #D2E3FC;\n",
              "    }\n",
              "\n",
              "    [theme=dark] .colab-df-convert:hover {\n",
              "      background-color: #434B5C;\n",
              "      box-shadow: 0px 1px 3px 1px rgba(0, 0, 0, 0.15);\n",
              "      filter: drop-shadow(0px 1px 2px rgba(0, 0, 0, 0.3));\n",
              "      fill: #FFFFFF;\n",
              "    }\n",
              "  </style>\n",
              "\n",
              "      <script>\n",
              "        const buttonEl =\n",
              "          document.querySelector('#df-a1c3ba85-7cec-4ccd-9b5f-75692b404f69 button.colab-df-convert');\n",
              "        buttonEl.style.display =\n",
              "          google.colab.kernel.accessAllowed ? 'block' : 'none';\n",
              "\n",
              "        async function convertToInteractive(key) {\n",
              "          const element = document.querySelector('#df-a1c3ba85-7cec-4ccd-9b5f-75692b404f69');\n",
              "          const dataTable =\n",
              "            await google.colab.kernel.invokeFunction('convertToInteractive',\n",
              "                                                     [key], {});\n",
              "          if (!dataTable) return;\n",
              "\n",
              "          const docLinkHtml = 'Like what you see? Visit the ' +\n",
              "            '<a target=\"_blank\" href=https://colab.research.google.com/notebooks/data_table.ipynb>data table notebook</a>'\n",
              "            + ' to learn more about interactive tables.';\n",
              "          element.innerHTML = '';\n",
              "          dataTable['output_type'] = 'display_data';\n",
              "          await google.colab.output.renderOutput(dataTable, element);\n",
              "          const docLink = document.createElement('div');\n",
              "          docLink.innerHTML = docLinkHtml;\n",
              "          element.appendChild(docLink);\n",
              "        }\n",
              "      </script>\n",
              "    </div>\n",
              "  </div>\n",
              "  "
            ]
          },
          "metadata": {},
          "execution_count": 36
        }
      ]
    },
    {
      "cell_type": "markdown",
      "source": [
        "##3) Níveis de proteína (mg) em urina de rato."
      ],
      "metadata": {
        "id": "BWs4Od01UScO"
      }
    },
    {
      "cell_type": "code",
      "source": [
        "#@title\n",
        "data = {'amostras':  list(range(1,30+1)),\n",
        "        'nivel_proteina': [507,\t389,\t305,\t291,\t336,\t310,\t514,\t442,\n",
        "                       373,\t428,\t387,\t454,\t323,\t441,\t388,\t426,\n",
        "                       411,\t382,\t320,\t450,\t309,\t416,\t359,\t388,\n",
        "                       307,\t337,\t469,\t351,\t422,\t413]\n",
        "        }\n",
        "\n",
        "df = pd.DataFrame(data)\n",
        "df.set_index('amostras', inplace = True)"
      ],
      "metadata": {
        "id": "gKjEoMnBUcUj"
      },
      "execution_count": null,
      "outputs": []
    },
    {
      "cell_type": "code",
      "source": [
        "#@title\n",
        "amostra = df['nivel_proteina']\n",
        "\n",
        "step = 30\n",
        "bins=np.arange(amostra.min()-step, amostra.max()+step,step)\n",
        "\n",
        "plt.figure(figsize=(12,8))\n",
        "plt.hist(amostra, bins=bins, edgecolor='black')\n",
        "median_conc = amostra.median()\n",
        "color='#fc4f30'\n",
        "\n",
        "plt.axvline(median_conc,\n",
        "            color=color,\n",
        "            label='Mediana',\n",
        "            linewidth=2\n",
        "          )\n",
        "\n",
        "plt.legend()\n",
        "# plt.title('Temperatura de reação')\n",
        "plt.xlabel('Nível de proteína (mg)')\n",
        "plt.ylabel('Número de amostras (un.)')\n",
        "plt.xticks(bins)\n",
        "# plt.yticks(np.arange(0, 1, 0.1)) \n",
        "plt.show()"
      ],
      "metadata": {
        "colab": {
          "base_uri": "https://localhost:8080/"
        },
        "id": "xrGOPWDG7GBy",
        "outputId": "fee09194-b86c-4137-ff46-e0c1f7645ffc"
      },
      "execution_count": null,
      "outputs": [
        {
          "output_type": "display_data",
          "data": {
            "text/plain": [
              "<Figure size 864x576 with 1 Axes>"
            ],
            "image/png": "[encoded data removed]"
          },
          "metadata": {}
        }
      ]
    },
    {
      "cell_type": "code",
      "source": [
        "#@title\n",
        "#Set bin sizes\n",
        "step = 30\n",
        "bins = list(range(df['nivel_proteina'].min() - step, df['nivel_proteina'].max() + step, step))\n",
        "\n",
        "#Give list\n",
        "sample = df['nivel_proteina']\n",
        "\n",
        "df.rename(columns={'nivel_proteina' : 'nums'}, inplace = True)\n",
        "\n",
        "#Put into dataframe\n",
        "newdf = pd.DataFrame(pd.cut(df['nums'], bins=bins).value_counts()).sort_index()\n",
        "newdf.reset_index(inplace=True)\n",
        "\n",
        "#Convert to String\n",
        "newdf['index'] = newdf['index'].astype(str)\n",
        "\n",
        "#Set 'easy-to-read' names for bins\n",
        "left = newdf['index'].str.split(',').str[0].str.split('(').str[1].astype('int32') + 1\n",
        "right = newdf['index'].str.split(',').str[1].str.split(']').str[0]\n",
        "\n",
        "fullname = left.astype(str) + ' -' + right\n",
        "newdf['index'] = fullname\n",
        "\n",
        "#cummulative frequency\n",
        "newdf['cumfreq'] = newdf['nums'].cumsum()\n",
        "\n",
        "#relative frequency\n",
        "newdf['relfreq'] = round(newdf['nums'] / newdf['nums'].sum()*100,1)\n",
        "\n",
        "#cummulative relative frequency\n",
        "newdf['cumrelfreq'] = round(newdf['relfreq'].cumsum())\n",
        "\n",
        "#Add column names\n",
        "newdf.columns =['Intervalo de tempo (s)', \n",
        "                'Frequência simples', \n",
        "                'Frequência simples acumulada',\n",
        "                'Frequência relativa (%)', \n",
        "                'Frequência relativa acumulada (%)']\n",
        "\n",
        "#Show frequency table\n",
        "newdf"
      ],
      "metadata": {
        "colab": {
          "base_uri": "https://localhost:8080/"
        },
        "id": "-JR-toxZ7t3v",
        "outputId": "2eae725b-98c6-47fe-c2ba-648cd85d29ca"
      },
      "execution_count": null,
      "outputs": [
        {
          "output_type": "execute_result",
          "data": {
            "text/plain": [
              "  Intervalo de tempo (s)  Frequência simples  Frequência simples acumulada  \\\n",
              "0              262 - 291                   1                             1   \n",
              "1              292 - 321                   5                             6   \n",
              "2              322 - 351                   4                            10   \n",
              "3              352 - 381                   2                            12   \n",
              "4              382 - 411                   6                            18   \n",
              "5              412 - 441                   6                            24   \n",
              "6              442 - 471                   4                            28   \n",
              "7              472 - 501                   0                            28   \n",
              "8              502 - 531                   2                            30   \n",
              "\n",
              "   Frequência relativa (%)  Frequência relativa acumulada (%)  \n",
              "0                      3.3                                3.0  \n",
              "1                     16.7                               20.0  \n",
              "2                     13.3                               33.0  \n",
              "3                      6.7                               40.0  \n",
              "4                     20.0                               60.0  \n",
              "5                     20.0                               80.0  \n",
              "6                     13.3                               93.0  \n",
              "7                      0.0                               93.0  \n",
              "8                      6.7                              100.0  "
            ],
            "text/html": [
              "\n",
              "  <div id=\"df-edbf1a3d-18e1-46d4-9574-3c126904788d\">\n",
              "    <div class=\"colab-df-container\">\n",
              "      <div>\n",
              "<style scoped>\n",
              "    .dataframe tbody tr th:only-of-type {\n",
              "        vertical-align: middle;\n",
              "    }\n",
              "\n",
              "    .dataframe tbody tr th {\n",
              "        vertical-align: top;\n",
              "    }\n",
              "\n",
              "    .dataframe thead th {\n",
              "        text-align: right;\n",
              "    }\n",
              "</style>\n",
              "<table border=\"1\" class=\"dataframe\">\n",
              "  <thead>\n",
              "    <tr style=\"text-align: right;\">\n",
              "      <th></th>\n",
              "      <th>Intervalo de tempo (s)</th>\n",
              "      <th>Frequência simples</th>\n",
              "      <th>Frequência simples acumulada</th>\n",
              "      <th>Frequência relativa (%)</th>\n",
              "      <th>Frequência relativa acumulada (%)</th>\n",
              "    </tr>\n",
              "  </thead>\n",
              "  <tbody>\n",
              "    <tr>\n",
              "      <th>0</th>\n",
              "      <td>262 - 291</td>\n",
              "      <td>1</td>\n",
              "      <td>1</td>\n",
              "      <td>3.3</td>\n",
              "      <td>3.0</td>\n",
              "    </tr>\n",
              "    <tr>\n",
              "      <th>1</th>\n",
              "      <td>292 - 321</td>\n",
              "      <td>5</td>\n",
              "      <td>6</td>\n",
              "      <td>16.7</td>\n",
              "      <td>20.0</td>\n",
              "    </tr>\n",
              "    <tr>\n",
              "      <th>2</th>\n",
              "      <td>322 - 351</td>\n",
              "      <td>4</td>\n",
              "      <td>10</td>\n",
              "      <td>13.3</td>\n",
              "      <td>33.0</td>\n",
              "    </tr>\n",
              "    <tr>\n",
              "      <th>3</th>\n",
              "      <td>352 - 381</td>\n",
              "      <td>2</td>\n",
              "      <td>12</td>\n",
              "      <td>6.7</td>\n",
              "      <td>40.0</td>\n",
              "    </tr>\n",
              "    <tr>\n",
              "      <th>4</th>\n",
              "      <td>382 - 411</td>\n",
              "      <td>6</td>\n",
              "      <td>18</td>\n",
              "      <td>20.0</td>\n",
              "      <td>60.0</td>\n",
              "    </tr>\n",
              "    <tr>\n",
              "      <th>5</th>\n",
              "      <td>412 - 441</td>\n",
              "      <td>6</td>\n",
              "      <td>24</td>\n",
              "      <td>20.0</td>\n",
              "      <td>80.0</td>\n",
              "    </tr>\n",
              "    <tr>\n",
              "      <th>6</th>\n",
              "      <td>442 - 471</td>\n",
              "      <td>4</td>\n",
              "      <td>28</td>\n",
              "      <td>13.3</td>\n",
              "      <td>93.0</td>\n",
              "    </tr>\n",
              "    <tr>\n",
              "      <th>7</th>\n",
              "      <td>472 - 501</td>\n",
              "      <td>0</td>\n",
              "      <td>28</td>\n",
              "      <td>0.0</td>\n",
              "      <td>93.0</td>\n",
              "    </tr>\n",
              "    <tr>\n",
              "      <th>8</th>\n",
              "      <td>502 - 531</td>\n",
              "      <td>2</td>\n",
              "      <td>30</td>\n",
              "      <td>6.7</td>\n",
              "      <td>100.0</td>\n",
              "    </tr>\n",
              "  </tbody>\n",
              "</table>\n",
              "</div>\n",
              "      <button class=\"colab-df-convert\" onclick=\"convertToInteractive('df-edbf1a3d-18e1-46d4-9574-3c126904788d')\"\n",
              "              title=\"Convert this dataframe to an interactive table.\"\n",
              "              style=\"display:none;\">\n",
              "        \n",
              "  <svg xmlns=\"http://www.w3.org/2000/svg\" height=\"24px\"viewBox=\"0 0 24 24\"\n",
              "       width=\"24px\">\n",
              "    <path d=\"M0 0h24v24H0V0z\" fill=\"none\"/>\n",
              "    <path d=\"M18.56 5.44l.94 2.06.94-2.06 2.06-.94-2.06-.94-.94-2.06-.94 2.06-2.06.94zm-11 1L8.5 8.5l.94-2.06 2.06-.94-2.06-.94L8.5 2.5l-.94 2.06-2.06.94zm10 10l.94 2.06.94-2.06 2.06-.94-2.06-.94-.94-2.06-.94 2.06-2.06.94z\"/><path d=\"M17.41 7.96l-1.37-1.37c-.4-.4-.92-.59-1.43-.59-.52 0-1.04.2-1.43.59L10.3 9.45l-7.72 7.72c-.78.78-.78 2.05 0 2.83L4 21.41c.39.39.9.59 1.41.59.51 0 1.02-.2 1.41-.59l7.78-7.78 2.81-2.81c.8-.78.8-2.07 0-2.86zM5.41 20L4 18.59l7.72-7.72 1.47 1.35L5.41 20z\"/>\n",
              "  </svg>\n",
              "      </button>\n",
              "      \n",
              "  <style>\n",
              "    .colab-df-container {\n",
              "      display:flex;\n",
              "      flex-wrap:wrap;\n",
              "      gap: 12px;\n",
              "    }\n",
              "\n",
              "    .colab-df-convert {\n",
              "      background-color: #E8F0FE;\n",
              "      border: none;\n",
              "      border-radius: 50%;\n",
              "      cursor: pointer;\n",
              "      display: none;\n",
              "      fill: #1967D2;\n",
              "      height: 32px;\n",
              "      padding: 0 0 0 0;\n",
              "      width: 32px;\n",
              "    }\n",
              "\n",
              "    .colab-df-convert:hover {\n",
              "      background-color: #E2EBFA;\n",
              "      box-shadow: 0px 1px 2px rgba(60, 64, 67, 0.3), 0px 1px 3px 1px rgba(60, 64, 67, 0.15);\n",
              "      fill: #174EA6;\n",
              "    }\n",
              "\n",
              "    [theme=dark] .colab-df-convert {\n",
              "      background-color: #3B4455;\n",
              "      fill: #D2E3FC;\n",
              "    }\n",
              "\n",
              "    [theme=dark] .colab-df-convert:hover {\n",
              "      background-color: #434B5C;\n",
              "      box-shadow: 0px 1px 3px 1px rgba(0, 0, 0, 0.15);\n",
              "      filter: drop-shadow(0px 1px 2px rgba(0, 0, 0, 0.3));\n",
              "      fill: #FFFFFF;\n",
              "    }\n",
              "  </style>\n",
              "\n",
              "      <script>\n",
              "        const buttonEl =\n",
              "          document.querySelector('#df-edbf1a3d-18e1-46d4-9574-3c126904788d button.colab-df-convert');\n",
              "        buttonEl.style.display =\n",
              "          google.colab.kernel.accessAllowed ? 'block' : 'none';\n",
              "\n",
              "        async function convertToInteractive(key) {\n",
              "          const element = document.querySelector('#df-edbf1a3d-18e1-46d4-9574-3c126904788d');\n",
              "          const dataTable =\n",
              "            await google.colab.kernel.invokeFunction('convertToInteractive',\n",
              "                                                     [key], {});\n",
              "          if (!dataTable) return;\n",
              "\n",
              "          const docLinkHtml = 'Like what you see? Visit the ' +\n",
              "            '<a target=\"_blank\" href=https://colab.research.google.com/notebooks/data_table.ipynb>data table notebook</a>'\n",
              "            + ' to learn more about interactive tables.';\n",
              "          element.innerHTML = '';\n",
              "          dataTable['output_type'] = 'display_data';\n",
              "          await google.colab.output.renderOutput(dataTable, element);\n",
              "          const docLink = document.createElement('div');\n",
              "          docLink.innerHTML = docLinkHtml;\n",
              "          element.appendChild(docLink);\n",
              "        }\n",
              "      </script>\n",
              "    </div>\n",
              "  </div>\n",
              "  "
            ]
          },
          "metadata": {},
          "execution_count": 39
        }
      ]
    },
    {
      "cell_type": "markdown",
      "source": [
        "##4)Tempo em horas  de um procedimento de precipitação de proteína"
      ],
      "metadata": {
        "id": "AkRquBEtUcwQ"
      }
    },
    {
      "cell_type": "code",
      "source": [
        "#@title\n",
        "data = {'procedimentos':  list(range(1,20+1)),\n",
        "        'tempo_ppt_proteina': [1595,\t1472,\t1820,\t1580,\t1804,\t1635,\n",
        "                               1959,\t2020,\t1480,\t1250,\t2083,\t1522,\n",
        "                               1306,\t1572,\t1778,\t2296,\t1445,\t1716,\n",
        "                               1618,\t1824]\n",
        "        }\n",
        "\n",
        "df = pd.DataFrame(data)\n",
        "df.set_index('procedimentos', inplace = True)"
      ],
      "metadata": {
        "id": "mILAcZrD59Ck"
      },
      "execution_count": null,
      "outputs": []
    },
    {
      "cell_type": "code",
      "source": [
        "#@title\n",
        "amostra = df['tempo_ppt_proteina']\n",
        "\n",
        "step = 100\n",
        "bins=np.arange(amostra.min()-step, amostra.max()+step,step)\n",
        "\n",
        "plt.figure(figsize=(12,8))\n",
        "plt.hist(amostra, bins=bins, edgecolor='black')\n",
        "median_conc = amostra.median()\n",
        "color='#fc4f30'\n",
        "\n",
        "plt.axvline(median_conc,\n",
        "            color=color,\n",
        "            label='Mediana',\n",
        "            linewidth=2\n",
        "          )\n",
        "\n",
        "plt.legend()\n",
        "# plt.title('Temperatura de reação')\n",
        "plt.xlabel('Tempo de precipipação da proteína (h)')\n",
        "plt.ylabel('Número de procedimentos (un.)')\n",
        "plt.xticks(bins)\n",
        "# plt.yticks(np.arange(0, 1, 0.1)) \n",
        "plt.show()"
      ],
      "metadata": {
        "colab": {
          "base_uri": "https://localhost:8080/"
        },
        "id": "6zkFItJw9HcY",
        "outputId": "e7def11f-a7ab-4e14-c9f7-4cb01792558a"
      },
      "execution_count": null,
      "outputs": [
        {
          "output_type": "display_data",
          "data": {
            "text/plain": [
              "<Figure size 864x576 with 1 Axes>"
            ],
            "image/png": "[encoded data removed]"
          },
          "metadata": {}
        }
      ]
    },
    {
      "cell_type": "code",
      "source": [
        "#@title\n",
        "#Set bin sizes\n",
        "step = 100\n",
        "bins = list(range(df['tempo_ppt_proteina'].min() - step, df['tempo_ppt_proteina'].max() + step, step))\n",
        "\n",
        "#Give list\n",
        "sample = df['tempo_ppt_proteina']\n",
        "\n",
        "df.rename(columns={'tempo_ppt_proteina' : 'nums'}, inplace = True)\n",
        "\n",
        "#Put into dataframe\n",
        "newdf = pd.DataFrame(pd.cut(df['nums'], bins=bins).value_counts()).sort_index()\n",
        "newdf.reset_index(inplace=True)\n",
        "\n",
        "#Convert to String\n",
        "newdf['index'] = newdf['index'].astype(str)\n",
        "\n",
        "#Set 'easy-to-read' names for bins\n",
        "left = newdf['index'].str.split(',').str[0].str.split('(').str[1].astype('int32') + 1\n",
        "right = newdf['index'].str.split(',').str[1].str.split(']').str[0]\n",
        "\n",
        "fullname = left.astype(str) + ' -' + right\n",
        "newdf['index'] = fullname\n",
        "\n",
        "#cummulative frequency\n",
        "newdf['cumfreq'] = newdf['nums'].cumsum()\n",
        "\n",
        "#relative frequency\n",
        "newdf['relfreq'] = round(newdf['nums'] / newdf['nums'].sum()*100,1)\n",
        "\n",
        "#cummulative relative frequency\n",
        "newdf['cumrelfreq'] = round(newdf['relfreq'].cumsum())\n",
        "\n",
        "#Add column names\n",
        "newdf.columns =['Intervalo de tempo (s)', \n",
        "                'Frequência simples', \n",
        "                'Frequência simples acumulada',\n",
        "                'Frequência relativa (%)', \n",
        "                'Frequência relativa acumulada (%)']\n",
        "\n",
        "#Show frequency table\n",
        "newdf"
      ],
      "metadata": {
        "colab": {
          "base_uri": "https://localhost:8080/"
        },
        "id": "krzHtu7l9xo0",
        "outputId": "b805cfd6-9861-4932-ae28-16e757dd3d06"
      },
      "execution_count": null,
      "outputs": [
        {
          "output_type": "execute_result",
          "data": {
            "text/plain": [
              "   Intervalo de tempo (s)  Frequência simples  Frequência simples acumulada  \\\n",
              "0             1151 - 1250                   1                             1   \n",
              "1             1251 - 1350                   1                             2   \n",
              "2             1351 - 1450                   1                             3   \n",
              "3             1451 - 1550                   3                             6   \n",
              "4             1551 - 1650                   5                            11   \n",
              "5             1651 - 1750                   1                            12   \n",
              "6             1751 - 1850                   4                            16   \n",
              "7             1851 - 1950                   0                            16   \n",
              "8             1951 - 2050                   2                            18   \n",
              "9             2051 - 2150                   1                            19   \n",
              "10            2151 - 2250                   0                            19   \n",
              "11            2251 - 2350                   1                            20   \n",
              "\n",
              "    Frequência relativa (%)  Frequência relativa acumulada (%)  \n",
              "0                       5.0                                5.0  \n",
              "1                       5.0                               10.0  \n",
              "2                       5.0                               15.0  \n",
              "3                      15.0                               30.0  \n",
              "4                      25.0                               55.0  \n",
              "5                       5.0                               60.0  \n",
              "6                      20.0                               80.0  \n",
              "7                       0.0                               80.0  \n",
              "8                      10.0                               90.0  \n",
              "9                       5.0                               95.0  \n",
              "10                      0.0                               95.0  \n",
              "11                      5.0                              100.0  "
            ],
            "text/html": [
              "\n",
              "  <div id=\"df-2ae4bf21-7163-4a9e-9441-d267c9c23aae\">\n",
              "    <div class=\"colab-df-container\">\n",
              "      <div>\n",
              "<style scoped>\n",
              "    .dataframe tbody tr th:only-of-type {\n",
              "        vertical-align: middle;\n",
              "    }\n",
              "\n",
              "    .dataframe tbody tr th {\n",
              "        vertical-align: top;\n",
              "    }\n",
              "\n",
              "    .dataframe thead th {\n",
              "        text-align: right;\n",
              "    }\n",
              "</style>\n",
              "<table border=\"1\" class=\"dataframe\">\n",
              "  <thead>\n",
              "    <tr style=\"text-align: right;\">\n",
              "      <th></th>\n",
              "      <th>Intervalo de tempo (s)</th>\n",
              "      <th>Frequência simples</th>\n",
              "      <th>Frequência simples acumulada</th>\n",
              "      <th>Frequência relativa (%)</th>\n",
              "      <th>Frequência relativa acumulada (%)</th>\n",
              "    </tr>\n",
              "  </thead>\n",
              "  <tbody>\n",
              "    <tr>\n",
              "      <th>0</th>\n",
              "      <td>1151 - 1250</td>\n",
              "      <td>1</td>\n",
              "      <td>1</td>\n",
              "      <td>5.0</td>\n",
              "      <td>5.0</td>\n",
              "    </tr>\n",
              "    <tr>\n",
              "      <th>1</th>\n",
              "      <td>1251 - 1350</td>\n",
              "      <td>1</td>\n",
              "      <td>2</td>\n",
              "      <td>5.0</td>\n",
              "      <td>10.0</td>\n",
              "    </tr>\n",
              "    <tr>\n",
              "      <th>2</th>\n",
              "      <td>1351 - 1450</td>\n",
              "      <td>1</td>\n",
              "      <td>3</td>\n",
              "      <td>5.0</td>\n",
              "      <td>15.0</td>\n",
              "    </tr>\n",
              "    <tr>\n",
              "      <th>3</th>\n",
              "      <td>1451 - 1550</td>\n",
              "      <td>3</td>\n",
              "      <td>6</td>\n",
              "      <td>15.0</td>\n",
              "      <td>30.0</td>\n",
              "    </tr>\n",
              "    <tr>\n",
              "      <th>4</th>\n",
              "      <td>1551 - 1650</td>\n",
              "      <td>5</td>\n",
              "      <td>11</td>\n",
              "      <td>25.0</td>\n",
              "      <td>55.0</td>\n",
              "    </tr>\n",
              "    <tr>\n",
              "      <th>5</th>\n",
              "      <td>1651 - 1750</td>\n",
              "      <td>1</td>\n",
              "      <td>12</td>\n",
              "      <td>5.0</td>\n",
              "      <td>60.0</td>\n",
              "    </tr>\n",
              "    <tr>\n",
              "      <th>6</th>\n",
              "      <td>1751 - 1850</td>\n",
              "      <td>4</td>\n",
              "      <td>16</td>\n",
              "      <td>20.0</td>\n",
              "      <td>80.0</td>\n",
              "    </tr>\n",
              "    <tr>\n",
              "      <th>7</th>\n",
              "      <td>1851 - 1950</td>\n",
              "      <td>0</td>\n",
              "      <td>16</td>\n",
              "      <td>0.0</td>\n",
              "      <td>80.0</td>\n",
              "    </tr>\n",
              "    <tr>\n",
              "      <th>8</th>\n",
              "      <td>1951 - 2050</td>\n",
              "      <td>2</td>\n",
              "      <td>18</td>\n",
              "      <td>10.0</td>\n",
              "      <td>90.0</td>\n",
              "    </tr>\n",
              "    <tr>\n",
              "      <th>9</th>\n",
              "      <td>2051 - 2150</td>\n",
              "      <td>1</td>\n",
              "      <td>19</td>\n",
              "      <td>5.0</td>\n",
              "      <td>95.0</td>\n",
              "    </tr>\n",
              "    <tr>\n",
              "      <th>10</th>\n",
              "      <td>2151 - 2250</td>\n",
              "      <td>0</td>\n",
              "      <td>19</td>\n",
              "      <td>0.0</td>\n",
              "      <td>95.0</td>\n",
              "    </tr>\n",
              "    <tr>\n",
              "      <th>11</th>\n",
              "      <td>2251 - 2350</td>\n",
              "      <td>1</td>\n",
              "      <td>20</td>\n",
              "      <td>5.0</td>\n",
              "      <td>100.0</td>\n",
              "    </tr>\n",
              "  </tbody>\n",
              "</table>\n",
              "</div>\n",
              "      <button class=\"colab-df-convert\" onclick=\"convertToInteractive('df-2ae4bf21-7163-4a9e-9441-d267c9c23aae')\"\n",
              "              title=\"Convert this dataframe to an interactive table.\"\n",
              "              style=\"display:none;\">\n",
              "        \n",
              "  <svg xmlns=\"http://www.w3.org/2000/svg\" height=\"24px\"viewBox=\"0 0 24 24\"\n",
              "       width=\"24px\">\n",
              "    <path d=\"M0 0h24v24H0V0z\" fill=\"none\"/>\n",
              "    <path d=\"M18.56 5.44l.94 2.06.94-2.06 2.06-.94-2.06-.94-.94-2.06-.94 2.06-2.06.94zm-11 1L8.5 8.5l.94-2.06 2.06-.94-2.06-.94L8.5 2.5l-.94 2.06-2.06.94zm10 10l.94 2.06.94-2.06 2.06-.94-2.06-.94-.94-2.06-.94 2.06-2.06.94z\"/><path d=\"M17.41 7.96l-1.37-1.37c-.4-.4-.92-.59-1.43-.59-.52 0-1.04.2-1.43.59L10.3 9.45l-7.72 7.72c-.78.78-.78 2.05 0 2.83L4 21.41c.39.39.9.59 1.41.59.51 0 1.02-.2 1.41-.59l7.78-7.78 2.81-2.81c.8-.78.8-2.07 0-2.86zM5.41 20L4 18.59l7.72-7.72 1.47 1.35L5.41 20z\"/>\n",
              "  </svg>\n",
              "      </button>\n",
              "      \n",
              "  <style>\n",
              "    .colab-df-container {\n",
              "      display:flex;\n",
              "      flex-wrap:wrap;\n",
              "      gap: 12px;\n",
              "    }\n",
              "\n",
              "    .colab-df-convert {\n",
              "      background-color: #E8F0FE;\n",
              "      border: none;\n",
              "      border-radius: 50%;\n",
              "      cursor: pointer;\n",
              "      display: none;\n",
              "      fill: #1967D2;\n",
              "      height: 32px;\n",
              "      padding: 0 0 0 0;\n",
              "      width: 32px;\n",
              "    }\n",
              "\n",
              "    .colab-df-convert:hover {\n",
              "      background-color: #E2EBFA;\n",
              "      box-shadow: 0px 1px 2px rgba(60, 64, 67, 0.3), 0px 1px 3px 1px rgba(60, 64, 67, 0.15);\n",
              "      fill: #174EA6;\n",
              "    }\n",
              "\n",
              "    [theme=dark] .colab-df-convert {\n",
              "      background-color: #3B4455;\n",
              "      fill: #D2E3FC;\n",
              "    }\n",
              "\n",
              "    [theme=dark] .colab-df-convert:hover {\n",
              "      background-color: #434B5C;\n",
              "      box-shadow: 0px 1px 3px 1px rgba(0, 0, 0, 0.15);\n",
              "      filter: drop-shadow(0px 1px 2px rgba(0, 0, 0, 0.3));\n",
              "      fill: #FFFFFF;\n",
              "    }\n",
              "  </style>\n",
              "\n",
              "      <script>\n",
              "        const buttonEl =\n",
              "          document.querySelector('#df-2ae4bf21-7163-4a9e-9441-d267c9c23aae button.colab-df-convert');\n",
              "        buttonEl.style.display =\n",
              "          google.colab.kernel.accessAllowed ? 'block' : 'none';\n",
              "\n",
              "        async function convertToInteractive(key) {\n",
              "          const element = document.querySelector('#df-2ae4bf21-7163-4a9e-9441-d267c9c23aae');\n",
              "          const dataTable =\n",
              "            await google.colab.kernel.invokeFunction('convertToInteractive',\n",
              "                                                     [key], {});\n",
              "          if (!dataTable) return;\n",
              "\n",
              "          const docLinkHtml = 'Like what you see? Visit the ' +\n",
              "            '<a target=\"_blank\" href=https://colab.research.google.com/notebooks/data_table.ipynb>data table notebook</a>'\n",
              "            + ' to learn more about interactive tables.';\n",
              "          element.innerHTML = '';\n",
              "          dataTable['output_type'] = 'display_data';\n",
              "          await google.colab.output.renderOutput(dataTable, element);\n",
              "          const docLink = document.createElement('div');\n",
              "          docLink.innerHTML = docLinkHtml;\n",
              "          element.appendChild(docLink);\n",
              "        }\n",
              "      </script>\n",
              "    </div>\n",
              "  </div>\n",
              "  "
            ]
          },
          "metadata": {},
          "execution_count": 42
        }
      ]
    },
    {
      "cell_type": "markdown",
      "source": [
        "#Frequência e histograma - Parte 3"
      ],
      "metadata": {
        "id": "xS5tIh2bWFXn"
      }
    },
    {
      "cell_type": "code",
      "source": [
        "#@title\n",
        "ws = wb['frequencia_histograma']\n",
        "ws['A3'].value"
      ],
      "metadata": {
        "id": "HfjzNZv47h9C",
        "colab": {
          "base_uri": "https://localhost:8080/",
          "height": 53
        },
        "outputId": "7480e3ae-295a-4d33-b338-a1fa1d863524"
      },
      "execution_count": null,
      "outputs": [
        {
          "output_type": "execute_result",
          "data": {
            "text/plain": [
              "'A concentração de manganês (mg/kg) em grãos de café foi determinada por espectrometria de emissão atômica com plasma indutivamente acoplado. De posse das informações da Tabela 1 preencha a tabela 2 e responda  as questões a), b), c), d) e e).'"
            ],
            "application/vnd.google.colaboratory.intrinsic+json": {
              "type": "string"
            }
          },
          "metadata": {},
          "execution_count": 43
        }
      ]
    },
    {
      "cell_type": "markdown",
      "source": [
        "##Tabela 1"
      ],
      "metadata": {
        "id": "xtay6Gv2KeiO"
      }
    },
    {
      "cell_type": "code",
      "source": [
        "#@title\n",
        "# Read the cell values into a list of lists\n",
        "data_rows = []\n",
        "for row in ws['H5':'I58']:\n",
        "    data_cols = []\n",
        "    for cell in row:\n",
        "        data_cols.append(cell.value)\n",
        "    data_rows.append(data_cols)\n",
        "# Transform into dataframe\n",
        "df = pd.DataFrame(data_rows)\n",
        "df.rename(columns=df.iloc[0], inplace = True)\n",
        "df.drop(df.index[0], inplace = True)\n",
        "df = df.astype('int64')\n",
        "df.head()"
      ],
      "metadata": {
        "colab": {
          "base_uri": "https://localhost:8080/"
        },
        "id": "BrsUSyRl_u5e",
        "outputId": "5a5b26c0-345c-4d98-815d-852dc746b873",
        "collapsed": true
      },
      "execution_count": null,
      "outputs": [
        {
          "output_type": "execute_result",
          "data": {
            "text/plain": [
              "   Amostras  Amotras ordenadas\n",
              "1         1                 27\n",
              "2         2                 27\n",
              "3         3                 28\n",
              "4         4                 28\n",
              "5         5                 28"
            ],
            "text/html": [
              "\n",
              "  <div id=\"df-4c2e7cb1-a04d-4bf3-a3bc-1dd2d6299c75\">\n",
              "    <div class=\"colab-df-container\">\n",
              "      <div>\n",
              "<style scoped>\n",
              "    .dataframe tbody tr th:only-of-type {\n",
              "        vertical-align: middle;\n",
              "    }\n",
              "\n",
              "    .dataframe tbody tr th {\n",
              "        vertical-align: top;\n",
              "    }\n",
              "\n",
              "    .dataframe thead th {\n",
              "        text-align: right;\n",
              "    }\n",
              "</style>\n",
              "<table border=\"1\" class=\"dataframe\">\n",
              "  <thead>\n",
              "    <tr style=\"text-align: right;\">\n",
              "      <th></th>\n",
              "      <th>Amostras</th>\n",
              "      <th>Amotras ordenadas</th>\n",
              "    </tr>\n",
              "  </thead>\n",
              "  <tbody>\n",
              "    <tr>\n",
              "      <th>1</th>\n",
              "      <td>1</td>\n",
              "      <td>27</td>\n",
              "    </tr>\n",
              "    <tr>\n",
              "      <th>2</th>\n",
              "      <td>2</td>\n",
              "      <td>27</td>\n",
              "    </tr>\n",
              "    <tr>\n",
              "      <th>3</th>\n",
              "      <td>3</td>\n",
              "      <td>28</td>\n",
              "    </tr>\n",
              "    <tr>\n",
              "      <th>4</th>\n",
              "      <td>4</td>\n",
              "      <td>28</td>\n",
              "    </tr>\n",
              "    <tr>\n",
              "      <th>5</th>\n",
              "      <td>5</td>\n",
              "      <td>28</td>\n",
              "    </tr>\n",
              "  </tbody>\n",
              "</table>\n",
              "</div>\n",
              "      <button class=\"colab-df-convert\" onclick=\"convertToInteractive('df-4c2e7cb1-a04d-4bf3-a3bc-1dd2d6299c75')\"\n",
              "              title=\"Convert this dataframe to an interactive table.\"\n",
              "              style=\"display:none;\">\n",
              "        \n",
              "  <svg xmlns=\"http://www.w3.org/2000/svg\" height=\"24px\"viewBox=\"0 0 24 24\"\n",
              "       width=\"24px\">\n",
              "    <path d=\"M0 0h24v24H0V0z\" fill=\"none\"/>\n",
              "    <path d=\"M18.56 5.44l.94 2.06.94-2.06 2.06-.94-2.06-.94-.94-2.06-.94 2.06-2.06.94zm-11 1L8.5 8.5l.94-2.06 2.06-.94-2.06-.94L8.5 2.5l-.94 2.06-2.06.94zm10 10l.94 2.06.94-2.06 2.06-.94-2.06-.94-.94-2.06-.94 2.06-2.06.94z\"/><path d=\"M17.41 7.96l-1.37-1.37c-.4-.4-.92-.59-1.43-.59-.52 0-1.04.2-1.43.59L10.3 9.45l-7.72 7.72c-.78.78-.78 2.05 0 2.83L4 21.41c.39.39.9.59 1.41.59.51 0 1.02-.2 1.41-.59l7.78-7.78 2.81-2.81c.8-.78.8-2.07 0-2.86zM5.41 20L4 18.59l7.72-7.72 1.47 1.35L5.41 20z\"/>\n",
              "  </svg>\n",
              "      </button>\n",
              "      \n",
              "  <style>\n",
              "    .colab-df-container {\n",
              "      display:flex;\n",
              "      flex-wrap:wrap;\n",
              "      gap: 12px;\n",
              "    }\n",
              "\n",
              "    .colab-df-convert {\n",
              "      background-color: #E8F0FE;\n",
              "      border: none;\n",
              "      border-radius: 50%;\n",
              "      cursor: pointer;\n",
              "      display: none;\n",
              "      fill: #1967D2;\n",
              "      height: 32px;\n",
              "      padding: 0 0 0 0;\n",
              "      width: 32px;\n",
              "    }\n",
              "\n",
              "    .colab-df-convert:hover {\n",
              "      background-color: #E2EBFA;\n",
              "      box-shadow: 0px 1px 2px rgba(60, 64, 67, 0.3), 0px 1px 3px 1px rgba(60, 64, 67, 0.15);\n",
              "      fill: #174EA6;\n",
              "    }\n",
              "\n",
              "    [theme=dark] .colab-df-convert {\n",
              "      background-color: #3B4455;\n",
              "      fill: #D2E3FC;\n",
              "    }\n",
              "\n",
              "    [theme=dark] .colab-df-convert:hover {\n",
              "      background-color: #434B5C;\n",
              "      box-shadow: 0px 1px 3px 1px rgba(0, 0, 0, 0.15);\n",
              "      filter: drop-shadow(0px 1px 2px rgba(0, 0, 0, 0.3));\n",
              "      fill: #FFFFFF;\n",
              "    }\n",
              "  </style>\n",
              "\n",
              "      <script>\n",
              "        const buttonEl =\n",
              "          document.querySelector('#df-4c2e7cb1-a04d-4bf3-a3bc-1dd2d6299c75 button.colab-df-convert');\n",
              "        buttonEl.style.display =\n",
              "          google.colab.kernel.accessAllowed ? 'block' : 'none';\n",
              "\n",
              "        async function convertToInteractive(key) {\n",
              "          const element = document.querySelector('#df-4c2e7cb1-a04d-4bf3-a3bc-1dd2d6299c75');\n",
              "          const dataTable =\n",
              "            await google.colab.kernel.invokeFunction('convertToInteractive',\n",
              "                                                     [key], {});\n",
              "          if (!dataTable) return;\n",
              "\n",
              "          const docLinkHtml = 'Like what you see? Visit the ' +\n",
              "            '<a target=\"_blank\" href=https://colab.research.google.com/notebooks/data_table.ipynb>data table notebook</a>'\n",
              "            + ' to learn more about interactive tables.';\n",
              "          element.innerHTML = '';\n",
              "          dataTable['output_type'] = 'display_data';\n",
              "          await google.colab.output.renderOutput(dataTable, element);\n",
              "          const docLink = document.createElement('div');\n",
              "          docLink.innerHTML = docLinkHtml;\n",
              "          element.appendChild(docLink);\n",
              "        }\n",
              "      </script>\n",
              "    </div>\n",
              "  </div>\n",
              "  "
            ]
          },
          "metadata": {},
          "execution_count": 44
        }
      ]
    },
    {
      "cell_type": "code",
      "source": [
        "#@title\n",
        "amostra = df['Amotras ordenadas']\n",
        "\n",
        "plt.figure(figsize=(12,8))\n",
        "plt.hist(amostra, density=True, bins=6, edgecolor='black')\n",
        "median_conc = amostra.median()\n",
        "color='#fc4f30'\n",
        "\n",
        "plt.axvline(median_conc,\n",
        "            color=color,\n",
        "            label='Mediana',\n",
        "            linewidth=2\n",
        "          )\n",
        "\n",
        "plt.legend()\n",
        "# plt.title('Temperatura de reação')\n",
        "plt.xlabel('Concentração de Mn (mg/kg)')\n",
        "plt.ylabel('Porcentagem de amostras (%)')\n",
        "plt.show()"
      ],
      "metadata": {
        "colab": {
          "base_uri": "https://localhost:8080/"
        },
        "id": "8YbWO7HGAKYj",
        "outputId": "c834b911-e6c0-4eab-8037-588feb072ff7"
      },
      "execution_count": null,
      "outputs": [
        {
          "output_type": "display_data",
          "data": {
            "text/plain": [
              "<Figure size 864x576 with 1 Axes>"
            ],
            "image/png": "[encoded data removed]"
          },
          "metadata": {}
        }
      ]
    },
    {
      "cell_type": "markdown",
      "source": [
        "##a) Qual a porcentagem dos resultados que apresentaram concentração maior que 30?\t\t\t\t\t\t"
      ],
      "metadata": {
        "id": "a4IeAqbP7UHt"
      }
    },
    {
      "cell_type": "code",
      "source": [
        "#@title\n",
        "r_1 = (sum(i > 30 for i in amostra) / len(amostra))*100\n",
        "print('Resposta:',round(r_1, 1), '%')"
      ],
      "metadata": {
        "id": "1ehMC_09WGdc",
        "colab": {
          "base_uri": "https://localhost:8080/"
        },
        "outputId": "ebc3e47c-4f41-4226-d410-e159e5b806fa"
      },
      "execution_count": null,
      "outputs": [
        {
          "output_type": "stream",
          "name": "stdout",
          "text": [
            "Resposta: 24.5 %\n"
          ]
        }
      ]
    },
    {
      "cell_type": "markdown",
      "source": [
        "##b) Qual a porcentagem de resultados menores que 30?\t\t\t\t\t"
      ],
      "metadata": {
        "id": "fS0z6Os67Znn"
      }
    },
    {
      "cell_type": "code",
      "source": [
        "#@title\n",
        "r_2 = (sum(i < 30 for i in amostra) / len(amostra))*100\n",
        "print('Resposta:',round(r_2, 1), '%')"
      ],
      "metadata": {
        "id": "DX2oW2Ja7gW1",
        "colab": {
          "base_uri": "https://localhost:8080/"
        },
        "outputId": "f482a03b-54b6-40c1-e4b6-cacd428f6435"
      },
      "execution_count": null,
      "outputs": [
        {
          "output_type": "stream",
          "name": "stdout",
          "text": [
            "Resposta: 32.1 %\n"
          ]
        }
      ]
    },
    {
      "cell_type": "markdown",
      "source": [
        "##c) Qual a porcentagem de resultados entre 29 (inclusive) e 31 (Inclusive)?\t\t\t\t\t\t"
      ],
      "metadata": {
        "id": "dAl_S1_Q7jB1"
      }
    },
    {
      "cell_type": "code",
      "source": [
        "#@title\n",
        "r_3 = (sum(i <= 31 and i >= 29 for i in amostra) / len(amostra))*100 \n",
        "print('Resposta:',round(r_3, 1), '%')"
      ],
      "metadata": {
        "id": "EtquncPv7p2d",
        "colab": {
          "base_uri": "https://localhost:8080/"
        },
        "outputId": "df10950d-5548-4125-ffb6-a5618f6c1b20"
      },
      "execution_count": null,
      "outputs": [
        {
          "output_type": "stream",
          "name": "stdout",
          "text": [
            "Resposta: 79.2 %\n"
          ]
        }
      ]
    },
    {
      "cell_type": "markdown",
      "source": [
        "##d) Qual a porcentagem de resultados entre 27 (inclusive) e 29 (inclusive)?\t\t\t\t\t\t"
      ],
      "metadata": {
        "id": "nzsCwjkW7qR5"
      }
    },
    {
      "cell_type": "code",
      "source": [
        "#@title\n",
        "r_4 = (sum(i <= 29 and i >= 27 for i in amostra) / len(amostra))*100 \n",
        "print('Resposta:',round(r_4, 1), '%')"
      ],
      "metadata": {
        "id": "P-fHLTJ_7sAh",
        "colab": {
          "base_uri": "https://localhost:8080/"
        },
        "outputId": "22057237-c365-4c31-e973-cded7f5df0e8"
      },
      "execution_count": null,
      "outputs": [
        {
          "output_type": "stream",
          "name": "stdout",
          "text": [
            "Resposta: 32.1 %\n"
          ]
        }
      ]
    },
    {
      "cell_type": "markdown",
      "source": [
        "##e) A concentração que se repetiu com maior número de vezes foi:\t\t\t\t\t\t"
      ],
      "metadata": {
        "id": "w0d8m08o7vQ7"
      }
    },
    {
      "cell_type": "code",
      "source": [
        "#@title\n",
        "print('Resposta:')\n",
        "amostra.mode()"
      ],
      "metadata": {
        "id": "9B8briPo7xF7",
        "colab": {
          "base_uri": "https://localhost:8080/"
        },
        "outputId": "255ccc34-ee14-4a26-d9dc-21254f53b419"
      },
      "execution_count": null,
      "outputs": [
        {
          "output_type": "stream",
          "name": "stdout",
          "text": [
            "Resposta:\n"
          ]
        },
        {
          "output_type": "execute_result",
          "data": {
            "text/plain": [
              "0    30\n",
              "dtype: int64"
            ]
          },
          "metadata": {},
          "execution_count": 50
        }
      ]
    },
    {
      "cell_type": "markdown",
      "source": [
        "##Tabela 2\n",
        "\n",
        "Distribuição de Frequências"
      ],
      "metadata": {
        "id": "d8gfalQqKmyv"
      }
    },
    {
      "cell_type": "code",
      "source": [
        "#@title\n",
        "#Set bin sizes\n",
        "step = 2\n",
        "bins = list(range(amostra.min() - step, amostra.max() + step, step))\n",
        "\n",
        "# def round_up(n, decimals=0):\n",
        "#     multiplier = 10 ** decimals\n",
        "#     return math.ceil(n * multiplier) / multiplier\n",
        "\n",
        "#Number of intervals\n",
        "n_int = ((amostra.max()+step) - (amostra.min()-step)) / step\n",
        "print('Número de intervalos:', round(n_int + 1))"
      ],
      "metadata": {
        "colab": {
          "base_uri": "https://localhost:8080/"
        },
        "id": "zkAyonm8AREQ",
        "outputId": "d75e743c-80c6-4244-caff-9060d18b72dd"
      },
      "execution_count": null,
      "outputs": [
        {
          "output_type": "stream",
          "name": "stdout",
          "text": [
            "Número de intervalos: 6\n"
          ]
        }
      ]
    },
    {
      "cell_type": "code",
      "source": [
        "#@title\n",
        "#Give list\n",
        "sample = df['Amotras ordenadas']\n",
        "\n",
        "df.rename(columns={'Amotras ordenadas' : 'nums'}, inplace = True)\n",
        "\n",
        "#Put into dataframe\n",
        "newdf = pd.DataFrame(pd.cut(df['nums'], bins=bins).value_counts()).sort_index()\n",
        "newdf.reset_index(inplace=True)\n",
        "\n",
        "#Convert to String\n",
        "newdf['index'] = newdf['index'].astype(str)\n",
        "\n",
        "#Set 'easy-to-read' names for bins\n",
        "left = newdf['index'].str.split(',').str[0].str.split('(').str[1].astype('int32') + 1\n",
        "right = newdf['index'].str.split(',').str[1].str.split(']').str[0]\n",
        "\n",
        "fullname = left.astype(str) + ' -' + right\n",
        "newdf['index'] = fullname\n",
        "\n",
        "#cummulative frequency\n",
        "newdf['cumfreq'] = newdf['nums'].cumsum()\n",
        "\n",
        "#relative frequency\n",
        "newdf['relfreq'] = round(newdf['nums'] / newdf['nums'].sum()*100,1)\n",
        "\n",
        "#cummulative relative frequency\n",
        "newdf['cumrelfreq'] = round(newdf['relfreq'].cumsum())\n",
        "\n",
        "#Add column names\n",
        "newdf.columns =['Intervalo de concentração (mg/kg)', \n",
        "                'Frequência simples', \n",
        "                'Frequência simples acumulada',\n",
        "                'Frequência relativa', \n",
        "                'Frequência relativa acumulada ']\n",
        "\n",
        "#Show frequency table\n",
        "newdf"
      ],
      "metadata": {
        "colab": {
          "base_uri": "https://localhost:8080/"
        },
        "id": "FMe4YaikPG2y",
        "outputId": "269826c3-2f2a-41c5-ebb0-9094f0eb3aac"
      },
      "execution_count": null,
      "outputs": [
        {
          "output_type": "execute_result",
          "data": {
            "text/plain": [
              "  Intervalo de concentração (mg/kg)  Frequência simples  \\\n",
              "0                           26 - 27                   2   \n",
              "1                           28 - 29                  15   \n",
              "2                           30 - 31                  32   \n",
              "3                           32 - 33                   4   \n",
              "\n",
              "   Frequência simples acumulada  Frequência relativa  \\\n",
              "0                             2                  3.8   \n",
              "1                            17                 28.3   \n",
              "2                            49                 60.4   \n",
              "3                            53                  7.5   \n",
              "\n",
              "   Frequência relativa acumulada   \n",
              "0                             4.0  \n",
              "1                            32.0  \n",
              "2                            92.0  \n",
              "3                           100.0  "
            ],
            "text/html": [
              "\n",
              "  <div id=\"df-783e84da-1c2c-4382-b3d5-f03fb9ded4b0\">\n",
              "    <div class=\"colab-df-container\">\n",
              "      <div>\n",
              "<style scoped>\n",
              "    .dataframe tbody tr th:only-of-type {\n",
              "        vertical-align: middle;\n",
              "    }\n",
              "\n",
              "    .dataframe tbody tr th {\n",
              "        vertical-align: top;\n",
              "    }\n",
              "\n",
              "    .dataframe thead th {\n",
              "        text-align: right;\n",
              "    }\n",
              "</style>\n",
              "<table border=\"1\" class=\"dataframe\">\n",
              "  <thead>\n",
              "    <tr style=\"text-align: right;\">\n",
              "      <th></th>\n",
              "      <th>Intervalo de concentração (mg/kg)</th>\n",
              "      <th>Frequência simples</th>\n",
              "      <th>Frequência simples acumulada</th>\n",
              "      <th>Frequência relativa</th>\n",
              "      <th>Frequência relativa acumulada</th>\n",
              "    </tr>\n",
              "  </thead>\n",
              "  <tbody>\n",
              "    <tr>\n",
              "      <th>0</th>\n",
              "      <td>26 - 27</td>\n",
              "      <td>2</td>\n",
              "      <td>2</td>\n",
              "      <td>3.8</td>\n",
              "      <td>4.0</td>\n",
              "    </tr>\n",
              "    <tr>\n",
              "      <th>1</th>\n",
              "      <td>28 - 29</td>\n",
              "      <td>15</td>\n",
              "      <td>17</td>\n",
              "      <td>28.3</td>\n",
              "      <td>32.0</td>\n",
              "    </tr>\n",
              "    <tr>\n",
              "      <th>2</th>\n",
              "      <td>30 - 31</td>\n",
              "      <td>32</td>\n",
              "      <td>49</td>\n",
              "      <td>60.4</td>\n",
              "      <td>92.0</td>\n",
              "    </tr>\n",
              "    <tr>\n",
              "      <th>3</th>\n",
              "      <td>32 - 33</td>\n",
              "      <td>4</td>\n",
              "      <td>53</td>\n",
              "      <td>7.5</td>\n",
              "      <td>100.0</td>\n",
              "    </tr>\n",
              "  </tbody>\n",
              "</table>\n",
              "</div>\n",
              "      <button class=\"colab-df-convert\" onclick=\"convertToInteractive('df-783e84da-1c2c-4382-b3d5-f03fb9ded4b0')\"\n",
              "              title=\"Convert this dataframe to an interactive table.\"\n",
              "              style=\"display:none;\">\n",
              "        \n",
              "  <svg xmlns=\"http://www.w3.org/2000/svg\" height=\"24px\"viewBox=\"0 0 24 24\"\n",
              "       width=\"24px\">\n",
              "    <path d=\"M0 0h24v24H0V0z\" fill=\"none\"/>\n",
              "    <path d=\"M18.56 5.44l.94 2.06.94-2.06 2.06-.94-2.06-.94-.94-2.06-.94 2.06-2.06.94zm-11 1L8.5 8.5l.94-2.06 2.06-.94-2.06-.94L8.5 2.5l-.94 2.06-2.06.94zm10 10l.94 2.06.94-2.06 2.06-.94-2.06-.94-.94-2.06-.94 2.06-2.06.94z\"/><path d=\"M17.41 7.96l-1.37-1.37c-.4-.4-.92-.59-1.43-.59-.52 0-1.04.2-1.43.59L10.3 9.45l-7.72 7.72c-.78.78-.78 2.05 0 2.83L4 21.41c.39.39.9.59 1.41.59.51 0 1.02-.2 1.41-.59l7.78-7.78 2.81-2.81c.8-.78.8-2.07 0-2.86zM5.41 20L4 18.59l7.72-7.72 1.47 1.35L5.41 20z\"/>\n",
              "  </svg>\n",
              "      </button>\n",
              "      \n",
              "  <style>\n",
              "    .colab-df-container {\n",
              "      display:flex;\n",
              "      flex-wrap:wrap;\n",
              "      gap: 12px;\n",
              "    }\n",
              "\n",
              "    .colab-df-convert {\n",
              "      background-color: #E8F0FE;\n",
              "      border: none;\n",
              "      border-radius: 50%;\n",
              "      cursor: pointer;\n",
              "      display: none;\n",
              "      fill: #1967D2;\n",
              "      height: 32px;\n",
              "      padding: 0 0 0 0;\n",
              "      width: 32px;\n",
              "    }\n",
              "\n",
              "    .colab-df-convert:hover {\n",
              "      background-color: #E2EBFA;\n",
              "      box-shadow: 0px 1px 2px rgba(60, 64, 67, 0.3), 0px 1px 3px 1px rgba(60, 64, 67, 0.15);\n",
              "      fill: #174EA6;\n",
              "    }\n",
              "\n",
              "    [theme=dark] .colab-df-convert {\n",
              "      background-color: #3B4455;\n",
              "      fill: #D2E3FC;\n",
              "    }\n",
              "\n",
              "    [theme=dark] .colab-df-convert:hover {\n",
              "      background-color: #434B5C;\n",
              "      box-shadow: 0px 1px 3px 1px rgba(0, 0, 0, 0.15);\n",
              "      filter: drop-shadow(0px 1px 2px rgba(0, 0, 0, 0.3));\n",
              "      fill: #FFFFFF;\n",
              "    }\n",
              "  </style>\n",
              "\n",
              "      <script>\n",
              "        const buttonEl =\n",
              "          document.querySelector('#df-783e84da-1c2c-4382-b3d5-f03fb9ded4b0 button.colab-df-convert');\n",
              "        buttonEl.style.display =\n",
              "          google.colab.kernel.accessAllowed ? 'block' : 'none';\n",
              "\n",
              "        async function convertToInteractive(key) {\n",
              "          const element = document.querySelector('#df-783e84da-1c2c-4382-b3d5-f03fb9ded4b0');\n",
              "          const dataTable =\n",
              "            await google.colab.kernel.invokeFunction('convertToInteractive',\n",
              "                                                     [key], {});\n",
              "          if (!dataTable) return;\n",
              "\n",
              "          const docLinkHtml = 'Like what you see? Visit the ' +\n",
              "            '<a target=\"_blank\" href=https://colab.research.google.com/notebooks/data_table.ipynb>data table notebook</a>'\n",
              "            + ' to learn more about interactive tables.';\n",
              "          element.innerHTML = '';\n",
              "          dataTable['output_type'] = 'display_data';\n",
              "          await google.colab.output.renderOutput(dataTable, element);\n",
              "          const docLink = document.createElement('div');\n",
              "          docLink.innerHTML = docLinkHtml;\n",
              "          element.appendChild(docLink);\n",
              "        }\n",
              "      </script>\n",
              "    </div>\n",
              "  </div>\n",
              "  "
            ]
          },
          "metadata": {},
          "execution_count": 52
        }
      ]
    },
    {
      "cell_type": "markdown",
      "source": [
        "#Boxplot"
      ],
      "metadata": {
        "id": "8oAHKKvgWJm7"
      }
    },
    {
      "cell_type": "markdown",
      "source": [
        "##Teor de Ca"
      ],
      "metadata": {
        "id": "8_OUiu1Oa0gH"
      }
    },
    {
      "cell_type": "code",
      "source": [
        "#@title\n",
        "ws = wb['box-plot']\n",
        "ws['A2'].value"
      ],
      "metadata": {
        "id": "68mk9eBgWPZy",
        "colab": {
          "base_uri": "https://localhost:8080/"
        },
        "outputId": "d4820822-6e33-43f8-e406-1a9def4a7c54"
      },
      "execution_count": null,
      "outputs": [
        {
          "output_type": "execute_result",
          "data": {
            "text/plain": [
              "'Dois métodos analíticos foram comparados para a determinação de Ca em leite. Os resultados estão descritos abaixo:'"
            ],
            "application/vnd.google.colaboratory.intrinsic+json": {
              "type": "string"
            }
          },
          "metadata": {},
          "execution_count": 53
        }
      ]
    },
    {
      "cell_type": "code",
      "source": [
        "#@title\n",
        "# Read the cell values into a list of lists\n",
        "data_rows = []\n",
        "for row in ws['A4':'B14']:\n",
        "    data_cols = []\n",
        "    for cell in row:\n",
        "        data_cols.append(cell.value)\n",
        "    data_rows.append(data_cols)\n",
        "# Transform into dataframe\n",
        "df = pd.DataFrame(data_rows)\n",
        "df.rename(columns=df.iloc[0], inplace = True)\n",
        "df.drop(df.index[0], inplace = True)\n",
        "df = df.astype('int64')\n",
        "# df.head()"
      ],
      "metadata": {
        "id": "lO29t3E_X3yh"
      },
      "execution_count": null,
      "outputs": []
    },
    {
      "cell_type": "code",
      "source": [
        "#@title\n",
        "print('Teor de Ca (mg/L)\\n')\n",
        "df.head()"
      ],
      "metadata": {
        "colab": {
          "base_uri": "https://localhost:8080/"
        },
        "id": "DEy0krVIZymi",
        "outputId": "cddfeba5-5804-4349-85d6-fec6d20ddc97",
        "collapsed": true
      },
      "execution_count": null,
      "outputs": [
        {
          "output_type": "stream",
          "name": "stdout",
          "text": [
            "Teor de Ca (mg/L)\n",
            "\n"
          ]
        },
        {
          "output_type": "execute_result",
          "data": {
            "text/plain": [
              "   Método A  Método B\n",
              "1        15        23\n",
              "2        20        31\n",
              "3        11        13\n",
              "4        23        19\n",
              "5        16        23"
            ],
            "text/html": [
              "\n",
              "  <div id=\"df-46f0ed1f-38f6-4b32-8b23-c7d7fc2ff888\">\n",
              "    <div class=\"colab-df-container\">\n",
              "      <div>\n",
              "<style scoped>\n",
              "    .dataframe tbody tr th:only-of-type {\n",
              "        vertical-align: middle;\n",
              "    }\n",
              "\n",
              "    .dataframe tbody tr th {\n",
              "        vertical-align: top;\n",
              "    }\n",
              "\n",
              "    .dataframe thead th {\n",
              "        text-align: right;\n",
              "    }\n",
              "</style>\n",
              "<table border=\"1\" class=\"dataframe\">\n",
              "  <thead>\n",
              "    <tr style=\"text-align: right;\">\n",
              "      <th></th>\n",
              "      <th>Método A</th>\n",
              "      <th>Método B</th>\n",
              "    </tr>\n",
              "  </thead>\n",
              "  <tbody>\n",
              "    <tr>\n",
              "      <th>1</th>\n",
              "      <td>15</td>\n",
              "      <td>23</td>\n",
              "    </tr>\n",
              "    <tr>\n",
              "      <th>2</th>\n",
              "      <td>20</td>\n",
              "      <td>31</td>\n",
              "    </tr>\n",
              "    <tr>\n",
              "      <th>3</th>\n",
              "      <td>11</td>\n",
              "      <td>13</td>\n",
              "    </tr>\n",
              "    <tr>\n",
              "      <th>4</th>\n",
              "      <td>23</td>\n",
              "      <td>19</td>\n",
              "    </tr>\n",
              "    <tr>\n",
              "      <th>5</th>\n",
              "      <td>16</td>\n",
              "      <td>23</td>\n",
              "    </tr>\n",
              "  </tbody>\n",
              "</table>\n",
              "</div>\n",
              "      <button class=\"colab-df-convert\" onclick=\"convertToInteractive('df-46f0ed1f-38f6-4b32-8b23-c7d7fc2ff888')\"\n",
              "              title=\"Convert this dataframe to an interactive table.\"\n",
              "              style=\"display:none;\">\n",
              "        \n",
              "  <svg xmlns=\"http://www.w3.org/2000/svg\" height=\"24px\"viewBox=\"0 0 24 24\"\n",
              "       width=\"24px\">\n",
              "    <path d=\"M0 0h24v24H0V0z\" fill=\"none\"/>\n",
              "    <path d=\"M18.56 5.44l.94 2.06.94-2.06 2.06-.94-2.06-.94-.94-2.06-.94 2.06-2.06.94zm-11 1L8.5 8.5l.94-2.06 2.06-.94-2.06-.94L8.5 2.5l-.94 2.06-2.06.94zm10 10l.94 2.06.94-2.06 2.06-.94-2.06-.94-.94-2.06-.94 2.06-2.06.94z\"/><path d=\"M17.41 7.96l-1.37-1.37c-.4-.4-.92-.59-1.43-.59-.52 0-1.04.2-1.43.59L10.3 9.45l-7.72 7.72c-.78.78-.78 2.05 0 2.83L4 21.41c.39.39.9.59 1.41.59.51 0 1.02-.2 1.41-.59l7.78-7.78 2.81-2.81c.8-.78.8-2.07 0-2.86zM5.41 20L4 18.59l7.72-7.72 1.47 1.35L5.41 20z\"/>\n",
              "  </svg>\n",
              "      </button>\n",
              "      \n",
              "  <style>\n",
              "    .colab-df-container {\n",
              "      display:flex;\n",
              "      flex-wrap:wrap;\n",
              "      gap: 12px;\n",
              "    }\n",
              "\n",
              "    .colab-df-convert {\n",
              "      background-color: #E8F0FE;\n",
              "      border: none;\n",
              "      border-radius: 50%;\n",
              "      cursor: pointer;\n",
              "      display: none;\n",
              "      fill: #1967D2;\n",
              "      height: 32px;\n",
              "      padding: 0 0 0 0;\n",
              "      width: 32px;\n",
              "    }\n",
              "\n",
              "    .colab-df-convert:hover {\n",
              "      background-color: #E2EBFA;\n",
              "      box-shadow: 0px 1px 2px rgba(60, 64, 67, 0.3), 0px 1px 3px 1px rgba(60, 64, 67, 0.15);\n",
              "      fill: #174EA6;\n",
              "    }\n",
              "\n",
              "    [theme=dark] .colab-df-convert {\n",
              "      background-color: #3B4455;\n",
              "      fill: #D2E3FC;\n",
              "    }\n",
              "\n",
              "    [theme=dark] .colab-df-convert:hover {\n",
              "      background-color: #434B5C;\n",
              "      box-shadow: 0px 1px 3px 1px rgba(0, 0, 0, 0.15);\n",
              "      filter: drop-shadow(0px 1px 2px rgba(0, 0, 0, 0.3));\n",
              "      fill: #FFFFFF;\n",
              "    }\n",
              "  </style>\n",
              "\n",
              "      <script>\n",
              "        const buttonEl =\n",
              "          document.querySelector('#df-46f0ed1f-38f6-4b32-8b23-c7d7fc2ff888 button.colab-df-convert');\n",
              "        buttonEl.style.display =\n",
              "          google.colab.kernel.accessAllowed ? 'block' : 'none';\n",
              "\n",
              "        async function convertToInteractive(key) {\n",
              "          const element = document.querySelector('#df-46f0ed1f-38f6-4b32-8b23-c7d7fc2ff888');\n",
              "          const dataTable =\n",
              "            await google.colab.kernel.invokeFunction('convertToInteractive',\n",
              "                                                     [key], {});\n",
              "          if (!dataTable) return;\n",
              "\n",
              "          const docLinkHtml = 'Like what you see? Visit the ' +\n",
              "            '<a target=\"_blank\" href=https://colab.research.google.com/notebooks/data_table.ipynb>data table notebook</a>'\n",
              "            + ' to learn more about interactive tables.';\n",
              "          element.innerHTML = '';\n",
              "          dataTable['output_type'] = 'display_data';\n",
              "          await google.colab.output.renderOutput(dataTable, element);\n",
              "          const docLink = document.createElement('div');\n",
              "          docLink.innerHTML = docLinkHtml;\n",
              "          element.appendChild(docLink);\n",
              "        }\n",
              "      </script>\n",
              "    </div>\n",
              "  </div>\n",
              "  "
            ]
          },
          "metadata": {},
          "execution_count": 55
        }
      ]
    },
    {
      "cell_type": "code",
      "source": [
        "#@title\n",
        "boxplot = df.boxplot(column=['Método A', \n",
        "                             'Método B'],\n",
        "                     #  grid=False, \n",
        "                     #  rot=45, \n",
        "                     fontsize=15,\n",
        "                     figsize = (10,8)\n",
        "                    )"
      ],
      "metadata": {
        "colab": {
          "base_uri": "https://localhost:8080/"
        },
        "id": "0E6_hZfydYid",
        "outputId": "0aa06c2f-b3da-4679-972e-1fbfa2207a81"
      },
      "execution_count": null,
      "outputs": [
        {
          "output_type": "display_data",
          "data": {
            "text/plain": [
              "<Figure size 720x576 with 1 Axes>"
            ],
            "image/png": "[encoded data removed]"
          },
          "metadata": {}
        }
      ]
    },
    {
      "cell_type": "code",
      "source": [
        "#@title\n",
        "df.describe()"
      ],
      "metadata": {
        "colab": {
          "base_uri": "https://localhost:8080/"
        },
        "id": "0wsNV3NJ4U1-",
        "outputId": "e77f650a-d7b4-4d53-d493-ab725a8b3df6"
      },
      "execution_count": null,
      "outputs": [
        {
          "output_type": "execute_result",
          "data": {
            "text/plain": [
              "        Método A   Método B\n",
              "count  10.000000  10.000000\n",
              "mean   19.100000  23.300000\n",
              "std     4.817791   5.558777\n",
              "min    11.000000  13.000000\n",
              "25%    16.000000  20.000000\n",
              "50%    19.000000  24.000000\n",
              "75%    22.500000  27.500000\n",
              "max    27.000000  31.000000"
            ],
            "text/html": [
              "\n",
              "  <div id=\"df-730aed84-ce86-4f2a-a36b-3d7021518797\">\n",
              "    <div class=\"colab-df-container\">\n",
              "      <div>\n",
              "<style scoped>\n",
              "    .dataframe tbody tr th:only-of-type {\n",
              "        vertical-align: middle;\n",
              "    }\n",
              "\n",
              "    .dataframe tbody tr th {\n",
              "        vertical-align: top;\n",
              "    }\n",
              "\n",
              "    .dataframe thead th {\n",
              "        text-align: right;\n",
              "    }\n",
              "</style>\n",
              "<table border=\"1\" class=\"dataframe\">\n",
              "  <thead>\n",
              "    <tr style=\"text-align: right;\">\n",
              "      <th></th>\n",
              "      <th>Método A</th>\n",
              "      <th>Método B</th>\n",
              "    </tr>\n",
              "  </thead>\n",
              "  <tbody>\n",
              "    <tr>\n",
              "      <th>count</th>\n",
              "      <td>10.000000</td>\n",
              "      <td>10.000000</td>\n",
              "    </tr>\n",
              "    <tr>\n",
              "      <th>mean</th>\n",
              "      <td>19.100000</td>\n",
              "      <td>23.300000</td>\n",
              "    </tr>\n",
              "    <tr>\n",
              "      <th>std</th>\n",
              "      <td>4.817791</td>\n",
              "      <td>5.558777</td>\n",
              "    </tr>\n",
              "    <tr>\n",
              "      <th>min</th>\n",
              "      <td>11.000000</td>\n",
              "      <td>13.000000</td>\n",
              "    </tr>\n",
              "    <tr>\n",
              "      <th>25%</th>\n",
              "      <td>16.000000</td>\n",
              "      <td>20.000000</td>\n",
              "    </tr>\n",
              "    <tr>\n",
              "      <th>50%</th>\n",
              "      <td>19.000000</td>\n",
              "      <td>24.000000</td>\n",
              "    </tr>\n",
              "    <tr>\n",
              "      <th>75%</th>\n",
              "      <td>22.500000</td>\n",
              "      <td>27.500000</td>\n",
              "    </tr>\n",
              "    <tr>\n",
              "      <th>max</th>\n",
              "      <td>27.000000</td>\n",
              "      <td>31.000000</td>\n",
              "    </tr>\n",
              "  </tbody>\n",
              "</table>\n",
              "</div>\n",
              "      <button class=\"colab-df-convert\" onclick=\"convertToInteractive('df-730aed84-ce86-4f2a-a36b-3d7021518797')\"\n",
              "              title=\"Convert this dataframe to an interactive table.\"\n",
              "              style=\"display:none;\">\n",
              "        \n",
              "  <svg xmlns=\"http://www.w3.org/2000/svg\" height=\"24px\"viewBox=\"0 0 24 24\"\n",
              "       width=\"24px\">\n",
              "    <path d=\"M0 0h24v24H0V0z\" fill=\"none\"/>\n",
              "    <path d=\"M18.56 5.44l.94 2.06.94-2.06 2.06-.94-2.06-.94-.94-2.06-.94 2.06-2.06.94zm-11 1L8.5 8.5l.94-2.06 2.06-.94-2.06-.94L8.5 2.5l-.94 2.06-2.06.94zm10 10l.94 2.06.94-2.06 2.06-.94-2.06-.94-.94-2.06-.94 2.06-2.06.94z\"/><path d=\"M17.41 7.96l-1.37-1.37c-.4-.4-.92-.59-1.43-.59-.52 0-1.04.2-1.43.59L10.3 9.45l-7.72 7.72c-.78.78-.78 2.05 0 2.83L4 21.41c.39.39.9.59 1.41.59.51 0 1.02-.2 1.41-.59l7.78-7.78 2.81-2.81c.8-.78.8-2.07 0-2.86zM5.41 20L4 18.59l7.72-7.72 1.47 1.35L5.41 20z\"/>\n",
              "  </svg>\n",
              "      </button>\n",
              "      \n",
              "  <style>\n",
              "    .colab-df-container {\n",
              "      display:flex;\n",
              "      flex-wrap:wrap;\n",
              "      gap: 12px;\n",
              "    }\n",
              "\n",
              "    .colab-df-convert {\n",
              "      background-color: #E8F0FE;\n",
              "      border: none;\n",
              "      border-radius: 50%;\n",
              "      cursor: pointer;\n",
              "      display: none;\n",
              "      fill: #1967D2;\n",
              "      height: 32px;\n",
              "      padding: 0 0 0 0;\n",
              "      width: 32px;\n",
              "    }\n",
              "\n",
              "    .colab-df-convert:hover {\n",
              "      background-color: #E2EBFA;\n",
              "      box-shadow: 0px 1px 2px rgba(60, 64, 67, 0.3), 0px 1px 3px 1px rgba(60, 64, 67, 0.15);\n",
              "      fill: #174EA6;\n",
              "    }\n",
              "\n",
              "    [theme=dark] .colab-df-convert {\n",
              "      background-color: #3B4455;\n",
              "      fill: #D2E3FC;\n",
              "    }\n",
              "\n",
              "    [theme=dark] .colab-df-convert:hover {\n",
              "      background-color: #434B5C;\n",
              "      box-shadow: 0px 1px 3px 1px rgba(0, 0, 0, 0.15);\n",
              "      filter: drop-shadow(0px 1px 2px rgba(0, 0, 0, 0.3));\n",
              "      fill: #FFFFFF;\n",
              "    }\n",
              "  </style>\n",
              "\n",
              "      <script>\n",
              "        const buttonEl =\n",
              "          document.querySelector('#df-730aed84-ce86-4f2a-a36b-3d7021518797 button.colab-df-convert');\n",
              "        buttonEl.style.display =\n",
              "          google.colab.kernel.accessAllowed ? 'block' : 'none';\n",
              "\n",
              "        async function convertToInteractive(key) {\n",
              "          const element = document.querySelector('#df-730aed84-ce86-4f2a-a36b-3d7021518797');\n",
              "          const dataTable =\n",
              "            await google.colab.kernel.invokeFunction('convertToInteractive',\n",
              "                                                     [key], {});\n",
              "          if (!dataTable) return;\n",
              "\n",
              "          const docLinkHtml = 'Like what you see? Visit the ' +\n",
              "            '<a target=\"_blank\" href=https://colab.research.google.com/notebooks/data_table.ipynb>data table notebook</a>'\n",
              "            + ' to learn more about interactive tables.';\n",
              "          element.innerHTML = '';\n",
              "          dataTable['output_type'] = 'display_data';\n",
              "          await google.colab.output.renderOutput(dataTable, element);\n",
              "          const docLink = document.createElement('div');\n",
              "          docLink.innerHTML = docLinkHtml;\n",
              "          element.appendChild(docLink);\n",
              "        }\n",
              "      </script>\n",
              "    </div>\n",
              "  </div>\n",
              "  "
            ]
          },
          "metadata": {},
          "execution_count": 57
        }
      ]
    },
    {
      "cell_type": "code",
      "source": [
        "#@title\n",
        "#calculate interquartile range \n",
        "q1, q2, q3 = np.percentile(df['Método A'], [25 , 50, 75])\n",
        "iqr = q3 - q1\n",
        "\n",
        "q2_q1 = q2 - q1\n",
        "q3_q2 = q3 - q2\n",
        "\n",
        "print('Método A\\n')\n",
        "#display interquartile range \n",
        "print('Intervalo Interquartílico =', iqr, 'mg/L')\n",
        "#display amplitude\n",
        "print('Amplitude =', df['Método A'].max()-df['Método A'].min(), 'mg/L')\n",
        "#simmetry\n",
        "print('Q2 - Q1 =',q2_q1,'(mg/L)\\nQ3 - Q2 =',q3_q2,'mg/L\\n')\n",
        "\n",
        "print('Método B\\n')\n",
        "#calculate interquartile range \n",
        "q1, q2, q3 = np.percentile(df['Método B'], [25 , 50, 75])\n",
        "iqr = q3 - q1\n",
        "\n",
        "q2_q1 = q2 - q1\n",
        "q3_q2 = q3 - q2\n",
        "\n",
        "#display interquartile range \n",
        "print('Intervalo Interquartílico =', iqr, 'mg/L')\n",
        "#display amplitude\n",
        "print('Amplitude  =', df['Método B'].max()-df['Método B'].min(), 'mg/L')\n",
        "#simmetry\n",
        "print('Q2 - Q1 =',q2_q1,'(mg/L)\\nQ3 - Q2 =',q3_q2,'mg/L\\n')"
      ],
      "metadata": {
        "colab": {
          "base_uri": "https://localhost:8080/"
        },
        "id": "GivSQUDo6oT4",
        "outputId": "68c6082c-a1e0-4723-9e70-203208016ed8"
      },
      "execution_count": null,
      "outputs": [
        {
          "output_type": "stream",
          "name": "stdout",
          "text": [
            "Método A\n",
            "\n",
            "Intervalo Interquartílico = 6.5 mg/L\n",
            "Amplitude = 16 mg/L\n",
            "Q2 - Q1 = 3.0 (mg/L)\n",
            "Q3 - Q2 = 3.5 mg/L\n",
            "\n",
            "Método B\n",
            "\n",
            "Intervalo Interquartílico = 7.5 mg/L\n",
            "Amplitude  = 18 mg/L\n",
            "Q2 - Q1 = 4.0 (mg/L)\n",
            "Q3 - Q2 = 3.5 mg/L\n",
            "\n"
          ]
        }
      ]
    },
    {
      "cell_type": "markdown",
      "source": [
        "###Google Sheets\n",
        "\n",
        "Gráfico boxplot disponível no link a seguir:\n",
        "$$ \\\\ $$\n",
        "https://docs.google.com/spreadsheets/d/1kxf8hvv1NDkAEkuqXO4zETJ2VeuP7qAKj6YzB5A-fIE/edit?usp=sharing"
      ],
      "metadata": {
        "id": "Ut-H89ZbQAcL"
      }
    },
    {
      "cell_type": "markdown",
      "source": [
        "###Interpretação dos resultados\n",
        "\n",
        "A mediana da concentração de Ca no método A (Q2 = 19 mg/L) é menor que no método B (Q2 = 24 mg/L).\n",
        "$$ \\\\ $$\n",
        "A dispersão dos dados pode ser representada pelo intervalo interquartílico que é a diferença entre o terceiro quartil e o primeiro quartil (tamanho da caixa), ou ainda pela amplitude que é calculada da seguinte maneira: valor máximo – valor mínimo. O Método A é o mais eficiente, pois apresenta a menor variabilidade, isto é, menores valore sde Intervalo Interquartílico e Amplitude comparativamente ao Método B.\n",
        "$$ \\\\ $$\n",
        "Um conjunto de dados que tem uma distribuição simétrica, terá a linha da mediana no centro do retângulo. Quando a linha da mediana está próxima ao primeiro quartil, os dados são assimétricos positivos e quando a posição da linha da mediana é próxima ao terceiro quartil, os dados são assimétricos negativos. Vale ressaltar que a mediana é a medida de tendência central mais indicada quando os dados possuem distribuição assimétrica, uma vez que a média aritmética é influenciada pelos valores extremos. Neste caso, tanto o Método A quanto o Método B são assimétricos. O Método A apresenta assimetria negativa e o Método B apresenta assimetria positiva.\n",
        " \n"
      ],
      "metadata": {
        "id": "NpTK1mZ4eVFo"
      }
    },
    {
      "cell_type": "markdown",
      "source": [
        "##Parâmetros Clínicos"
      ],
      "metadata": {
        "id": "Rv5ujfbffFg8"
      }
    },
    {
      "cell_type": "code",
      "source": [
        "#@title\n",
        "ws['O2'].value"
      ],
      "metadata": {
        "colab": {
          "base_uri": "https://localhost:8080/"
        },
        "id": "qD_ttU_xfHtM",
        "outputId": "2e576866-e63d-4729-f5f1-ae3c2215d9b4"
      },
      "execution_count": null,
      "outputs": [
        {
          "output_type": "execute_result",
          "data": {
            "text/plain": [
              "'A Tabela contém parâmetros clínicos de pacientes infartados. Obtenha o box-plot para cada um desses parâmetros e interprete os resultados.'"
            ],
            "application/vnd.google.colaboratory.intrinsic+json": {
              "type": "string"
            }
          },
          "metadata": {},
          "execution_count": 59
        }
      ]
    },
    {
      "cell_type": "code",
      "source": [
        "#@title\n",
        "# Read the cell values into a list of lists\n",
        "data_rows = []\n",
        "for row in ws['O3':'R11']:\n",
        "    data_cols = []\n",
        "    for cell in row:\n",
        "        data_cols.append(cell.value)\n",
        "    data_rows.append(data_cols)\n",
        "# Transform into dataframe\n",
        "df = pd.DataFrame(data_rows)\n",
        "df.rename(columns=df.iloc[0], inplace = True)\n",
        "df.drop(df.index[0], inplace = True)\n",
        "df = df.astype('int64')\n",
        "# df.head()"
      ],
      "metadata": {
        "id": "OwqV5qqeepS_"
      },
      "execution_count": null,
      "outputs": []
    },
    {
      "cell_type": "code",
      "source": [
        "#@title\n",
        "print('Parâmetros clínicos de pacientes infartado\\n')\n",
        "df.head()"
      ],
      "metadata": {
        "colab": {
          "base_uri": "https://localhost:8080/"
        },
        "id": "K1liH5LzfZmx",
        "outputId": "665c76d3-4e20-4c32-a4f9-cef92a3813ae",
        "collapsed": true
      },
      "execution_count": null,
      "outputs": [
        {
          "output_type": "stream",
          "name": "stdout",
          "text": [
            "Parâmetros clínicos de pacientes infartado\n",
            "\n"
          ]
        },
        {
          "output_type": "execute_result",
          "data": {
            "text/plain": [
              "   LDL  HDL  Colesterol total_CT  Triglicedídeos_TG\n",
              "1  132   49                  208                152\n",
              "2  110   44                  170                 70\n",
              "3  123   41                  188                129\n",
              "4  161   38                  237                214\n",
              "5  176   41                  279                414"
            ],
            "text/html": [
              "\n",
              "  <div id=\"df-9d574148-3314-49e6-bb16-d1d1eb6afb93\">\n",
              "    <div class=\"colab-df-container\">\n",
              "      <div>\n",
              "<style scoped>\n",
              "    .dataframe tbody tr th:only-of-type {\n",
              "        vertical-align: middle;\n",
              "    }\n",
              "\n",
              "    .dataframe tbody tr th {\n",
              "        vertical-align: top;\n",
              "    }\n",
              "\n",
              "    .dataframe thead th {\n",
              "        text-align: right;\n",
              "    }\n",
              "</style>\n",
              "<table border=\"1\" class=\"dataframe\">\n",
              "  <thead>\n",
              "    <tr style=\"text-align: right;\">\n",
              "      <th></th>\n",
              "      <th>LDL</th>\n",
              "      <th>HDL</th>\n",
              "      <th>Colesterol total_CT</th>\n",
              "      <th>Triglicedídeos_TG</th>\n",
              "    </tr>\n",
              "  </thead>\n",
              "  <tbody>\n",
              "    <tr>\n",
              "      <th>1</th>\n",
              "      <td>132</td>\n",
              "      <td>49</td>\n",
              "      <td>208</td>\n",
              "      <td>152</td>\n",
              "    </tr>\n",
              "    <tr>\n",
              "      <th>2</th>\n",
              "      <td>110</td>\n",
              "      <td>44</td>\n",
              "      <td>170</td>\n",
              "      <td>70</td>\n",
              "    </tr>\n",
              "    <tr>\n",
              "      <th>3</th>\n",
              "      <td>123</td>\n",
              "      <td>41</td>\n",
              "      <td>188</td>\n",
              "      <td>129</td>\n",
              "    </tr>\n",
              "    <tr>\n",
              "      <th>4</th>\n",
              "      <td>161</td>\n",
              "      <td>38</td>\n",
              "      <td>237</td>\n",
              "      <td>214</td>\n",
              "    </tr>\n",
              "    <tr>\n",
              "      <th>5</th>\n",
              "      <td>176</td>\n",
              "      <td>41</td>\n",
              "      <td>279</td>\n",
              "      <td>414</td>\n",
              "    </tr>\n",
              "  </tbody>\n",
              "</table>\n",
              "</div>\n",
              "      <button class=\"colab-df-convert\" onclick=\"convertToInteractive('df-9d574148-3314-49e6-bb16-d1d1eb6afb93')\"\n",
              "              title=\"Convert this dataframe to an interactive table.\"\n",
              "              style=\"display:none;\">\n",
              "        \n",
              "  <svg xmlns=\"http://www.w3.org/2000/svg\" height=\"24px\"viewBox=\"0 0 24 24\"\n",
              "       width=\"24px\">\n",
              "    <path d=\"M0 0h24v24H0V0z\" fill=\"none\"/>\n",
              "    <path d=\"M18.56 5.44l.94 2.06.94-2.06 2.06-.94-2.06-.94-.94-2.06-.94 2.06-2.06.94zm-11 1L8.5 8.5l.94-2.06 2.06-.94-2.06-.94L8.5 2.5l-.94 2.06-2.06.94zm10 10l.94 2.06.94-2.06 2.06-.94-2.06-.94-.94-2.06-.94 2.06-2.06.94z\"/><path d=\"M17.41 7.96l-1.37-1.37c-.4-.4-.92-.59-1.43-.59-.52 0-1.04.2-1.43.59L10.3 9.45l-7.72 7.72c-.78.78-.78 2.05 0 2.83L4 21.41c.39.39.9.59 1.41.59.51 0 1.02-.2 1.41-.59l7.78-7.78 2.81-2.81c.8-.78.8-2.07 0-2.86zM5.41 20L4 18.59l7.72-7.72 1.47 1.35L5.41 20z\"/>\n",
              "  </svg>\n",
              "      </button>\n",
              "      \n",
              "  <style>\n",
              "    .colab-df-container {\n",
              "      display:flex;\n",
              "      flex-wrap:wrap;\n",
              "      gap: 12px;\n",
              "    }\n",
              "\n",
              "    .colab-df-convert {\n",
              "      background-color: #E8F0FE;\n",
              "      border: none;\n",
              "      border-radius: 50%;\n",
              "      cursor: pointer;\n",
              "      display: none;\n",
              "      fill: #1967D2;\n",
              "      height: 32px;\n",
              "      padding: 0 0 0 0;\n",
              "      width: 32px;\n",
              "    }\n",
              "\n",
              "    .colab-df-convert:hover {\n",
              "      background-color: #E2EBFA;\n",
              "      box-shadow: 0px 1px 2px rgba(60, 64, 67, 0.3), 0px 1px 3px 1px rgba(60, 64, 67, 0.15);\n",
              "      fill: #174EA6;\n",
              "    }\n",
              "\n",
              "    [theme=dark] .colab-df-convert {\n",
              "      background-color: #3B4455;\n",
              "      fill: #D2E3FC;\n",
              "    }\n",
              "\n",
              "    [theme=dark] .colab-df-convert:hover {\n",
              "      background-color: #434B5C;\n",
              "      box-shadow: 0px 1px 3px 1px rgba(0, 0, 0, 0.15);\n",
              "      filter: drop-shadow(0px 1px 2px rgba(0, 0, 0, 0.3));\n",
              "      fill: #FFFFFF;\n",
              "    }\n",
              "  </style>\n",
              "\n",
              "      <script>\n",
              "        const buttonEl =\n",
              "          document.querySelector('#df-9d574148-3314-49e6-bb16-d1d1eb6afb93 button.colab-df-convert');\n",
              "        buttonEl.style.display =\n",
              "          google.colab.kernel.accessAllowed ? 'block' : 'none';\n",
              "\n",
              "        async function convertToInteractive(key) {\n",
              "          const element = document.querySelector('#df-9d574148-3314-49e6-bb16-d1d1eb6afb93');\n",
              "          const dataTable =\n",
              "            await google.colab.kernel.invokeFunction('convertToInteractive',\n",
              "                                                     [key], {});\n",
              "          if (!dataTable) return;\n",
              "\n",
              "          const docLinkHtml = 'Like what you see? Visit the ' +\n",
              "            '<a target=\"_blank\" href=https://colab.research.google.com/notebooks/data_table.ipynb>data table notebook</a>'\n",
              "            + ' to learn more about interactive tables.';\n",
              "          element.innerHTML = '';\n",
              "          dataTable['output_type'] = 'display_data';\n",
              "          await google.colab.output.renderOutput(dataTable, element);\n",
              "          const docLink = document.createElement('div');\n",
              "          docLink.innerHTML = docLinkHtml;\n",
              "          element.appendChild(docLink);\n",
              "        }\n",
              "      </script>\n",
              "    </div>\n",
              "  </div>\n",
              "  "
            ]
          },
          "metadata": {},
          "execution_count": 61
        }
      ]
    },
    {
      "cell_type": "code",
      "source": [
        "#@title\n",
        "boxplot = df.boxplot(column=['LDL', \n",
        "                             'HDL', \n",
        "                             'Colesterol total_CT', \n",
        "                             'Triglicedídeos_TG'],\n",
        "                  #  grid=False, \n",
        "                  #  rot=45, \n",
        "                    fontsize=15,\n",
        "                    figsize = (10,8)\n",
        "                    )"
      ],
      "metadata": {
        "colab": {
          "base_uri": "https://localhost:8080/"
        },
        "id": "20WpcQq3gC8r",
        "outputId": "a00c5ec0-7cc9-47a8-e833-b3939a35ded0"
      },
      "execution_count": null,
      "outputs": [
        {
          "output_type": "display_data",
          "data": {
            "text/plain": [
              "<Figure size 720x576 with 1 Axes>"
            ],
            "image/png": "[encoded data removed]"
          },
          "metadata": {}
        }
      ]
    },
    {
      "cell_type": "code",
      "source": [
        "#@title\n",
        "df.describe()"
      ],
      "metadata": {
        "colab": {
          "base_uri": "https://localhost:8080/"
        },
        "id": "Kb3t5B-PEZI5",
        "outputId": "c9c9c894-0b15-4373-dc12-c61d5327a619"
      },
      "execution_count": null,
      "outputs": [
        {
          "output_type": "execute_result",
          "data": {
            "text/plain": [
              "              LDL       HDL  Colesterol total_CT  Triglicedídeos_TG\n",
              "count    8.000000   8.00000             8.000000           8.000000\n",
              "mean   132.875000  42.00000           205.125000         175.125000\n",
              "std     30.879663   8.96023            46.103726         112.831654\n",
              "min     89.000000  31.00000           139.000000          70.000000\n",
              "25%    109.750000  36.75000           173.750000         102.250000\n",
              "50%    127.500000  41.00000           198.000000         140.500000\n",
              "75%    161.500000  45.25000           239.000000         218.750000\n",
              "max    176.000000  59.00000           279.000000         414.000000"
            ],
            "text/html": [
              "\n",
              "  <div id=\"df-e0c3ce67-35cc-4c24-b40f-e4555ba7fa20\">\n",
              "    <div class=\"colab-df-container\">\n",
              "      <div>\n",
              "<style scoped>\n",
              "    .dataframe tbody tr th:only-of-type {\n",
              "        vertical-align: middle;\n",
              "    }\n",
              "\n",
              "    .dataframe tbody tr th {\n",
              "        vertical-align: top;\n",
              "    }\n",
              "\n",
              "    .dataframe thead th {\n",
              "        text-align: right;\n",
              "    }\n",
              "</style>\n",
              "<table border=\"1\" class=\"dataframe\">\n",
              "  <thead>\n",
              "    <tr style=\"text-align: right;\">\n",
              "      <th></th>\n",
              "      <th>LDL</th>\n",
              "      <th>HDL</th>\n",
              "      <th>Colesterol total_CT</th>\n",
              "      <th>Triglicedídeos_TG</th>\n",
              "    </tr>\n",
              "  </thead>\n",
              "  <tbody>\n",
              "    <tr>\n",
              "      <th>count</th>\n",
              "      <td>8.000000</td>\n",
              "      <td>8.00000</td>\n",
              "      <td>8.000000</td>\n",
              "      <td>8.000000</td>\n",
              "    </tr>\n",
              "    <tr>\n",
              "      <th>mean</th>\n",
              "      <td>132.875000</td>\n",
              "      <td>42.00000</td>\n",
              "      <td>205.125000</td>\n",
              "      <td>175.125000</td>\n",
              "    </tr>\n",
              "    <tr>\n",
              "      <th>std</th>\n",
              "      <td>30.879663</td>\n",
              "      <td>8.96023</td>\n",
              "      <td>46.103726</td>\n",
              "      <td>112.831654</td>\n",
              "    </tr>\n",
              "    <tr>\n",
              "      <th>min</th>\n",
              "      <td>89.000000</td>\n",
              "      <td>31.00000</td>\n",
              "      <td>139.000000</td>\n",
              "      <td>70.000000</td>\n",
              "    </tr>\n",
              "    <tr>\n",
              "      <th>25%</th>\n",
              "      <td>109.750000</td>\n",
              "      <td>36.75000</td>\n",
              "      <td>173.750000</td>\n",
              "      <td>102.250000</td>\n",
              "    </tr>\n",
              "    <tr>\n",
              "      <th>50%</th>\n",
              "      <td>127.500000</td>\n",
              "      <td>41.00000</td>\n",
              "      <td>198.000000</td>\n",
              "      <td>140.500000</td>\n",
              "    </tr>\n",
              "    <tr>\n",
              "      <th>75%</th>\n",
              "      <td>161.500000</td>\n",
              "      <td>45.25000</td>\n",
              "      <td>239.000000</td>\n",
              "      <td>218.750000</td>\n",
              "    </tr>\n",
              "    <tr>\n",
              "      <th>max</th>\n",
              "      <td>176.000000</td>\n",
              "      <td>59.00000</td>\n",
              "      <td>279.000000</td>\n",
              "      <td>414.000000</td>\n",
              "    </tr>\n",
              "  </tbody>\n",
              "</table>\n",
              "</div>\n",
              "      <button class=\"colab-df-convert\" onclick=\"convertToInteractive('df-e0c3ce67-35cc-4c24-b40f-e4555ba7fa20')\"\n",
              "              title=\"Convert this dataframe to an interactive table.\"\n",
              "              style=\"display:none;\">\n",
              "        \n",
              "  <svg xmlns=\"http://www.w3.org/2000/svg\" height=\"24px\"viewBox=\"0 0 24 24\"\n",
              "       width=\"24px\">\n",
              "    <path d=\"M0 0h24v24H0V0z\" fill=\"none\"/>\n",
              "    <path d=\"M18.56 5.44l.94 2.06.94-2.06 2.06-.94-2.06-.94-.94-2.06-.94 2.06-2.06.94zm-11 1L8.5 8.5l.94-2.06 2.06-.94-2.06-.94L8.5 2.5l-.94 2.06-2.06.94zm10 10l.94 2.06.94-2.06 2.06-.94-2.06-.94-.94-2.06-.94 2.06-2.06.94z\"/><path d=\"M17.41 7.96l-1.37-1.37c-.4-.4-.92-.59-1.43-.59-.52 0-1.04.2-1.43.59L10.3 9.45l-7.72 7.72c-.78.78-.78 2.05 0 2.83L4 21.41c.39.39.9.59 1.41.59.51 0 1.02-.2 1.41-.59l7.78-7.78 2.81-2.81c.8-.78.8-2.07 0-2.86zM5.41 20L4 18.59l7.72-7.72 1.47 1.35L5.41 20z\"/>\n",
              "  </svg>\n",
              "      </button>\n",
              "      \n",
              "  <style>\n",
              "    .colab-df-container {\n",
              "      display:flex;\n",
              "      flex-wrap:wrap;\n",
              "      gap: 12px;\n",
              "    }\n",
              "\n",
              "    .colab-df-convert {\n",
              "      background-color: #E8F0FE;\n",
              "      border: none;\n",
              "      border-radius: 50%;\n",
              "      cursor: pointer;\n",
              "      display: none;\n",
              "      fill: #1967D2;\n",
              "      height: 32px;\n",
              "      padding: 0 0 0 0;\n",
              "      width: 32px;\n",
              "    }\n",
              "\n",
              "    .colab-df-convert:hover {\n",
              "      background-color: #E2EBFA;\n",
              "      box-shadow: 0px 1px 2px rgba(60, 64, 67, 0.3), 0px 1px 3px 1px rgba(60, 64, 67, 0.15);\n",
              "      fill: #174EA6;\n",
              "    }\n",
              "\n",
              "    [theme=dark] .colab-df-convert {\n",
              "      background-color: #3B4455;\n",
              "      fill: #D2E3FC;\n",
              "    }\n",
              "\n",
              "    [theme=dark] .colab-df-convert:hover {\n",
              "      background-color: #434B5C;\n",
              "      box-shadow: 0px 1px 3px 1px rgba(0, 0, 0, 0.15);\n",
              "      filter: drop-shadow(0px 1px 2px rgba(0, 0, 0, 0.3));\n",
              "      fill: #FFFFFF;\n",
              "    }\n",
              "  </style>\n",
              "\n",
              "      <script>\n",
              "        const buttonEl =\n",
              "          document.querySelector('#df-e0c3ce67-35cc-4c24-b40f-e4555ba7fa20 button.colab-df-convert');\n",
              "        buttonEl.style.display =\n",
              "          google.colab.kernel.accessAllowed ? 'block' : 'none';\n",
              "\n",
              "        async function convertToInteractive(key) {\n",
              "          const element = document.querySelector('#df-e0c3ce67-35cc-4c24-b40f-e4555ba7fa20');\n",
              "          const dataTable =\n",
              "            await google.colab.kernel.invokeFunction('convertToInteractive',\n",
              "                                                     [key], {});\n",
              "          if (!dataTable) return;\n",
              "\n",
              "          const docLinkHtml = 'Like what you see? Visit the ' +\n",
              "            '<a target=\"_blank\" href=https://colab.research.google.com/notebooks/data_table.ipynb>data table notebook</a>'\n",
              "            + ' to learn more about interactive tables.';\n",
              "          element.innerHTML = '';\n",
              "          dataTable['output_type'] = 'display_data';\n",
              "          await google.colab.output.renderOutput(dataTable, element);\n",
              "          const docLink = document.createElement('div');\n",
              "          docLink.innerHTML = docLinkHtml;\n",
              "          element.appendChild(docLink);\n",
              "        }\n",
              "      </script>\n",
              "    </div>\n",
              "  </div>\n",
              "  "
            ]
          },
          "metadata": {},
          "execution_count": 63
        }
      ]
    },
    {
      "cell_type": "code",
      "source": [
        "#@title\n",
        "print('LDL\\n')\n",
        "#calculate interquartile range \n",
        "q1, q2, q3 = np.percentile(df['LDL'], [25 , 50, 75])\n",
        "iqr = q3 - q1\n",
        "\n",
        "q2_q1 = q2 - q1\n",
        "q3_q2 = q3 - q2\n",
        "\n",
        "#display interquartile range \n",
        "print('Intervalo Interquartílico =', iqr)\n",
        "#display amplitude\n",
        "print('Amplitude =', df['LDL'].max()-df['LDL'].min())\n",
        "#simmetry\n",
        "print('Q2 - Q1 =',q2_q1,'\\nQ3 - Q2 =',q3_q2,'\\n')\n",
        "\n",
        "print('HDL\\n')\n",
        "#calculate interquartile range \n",
        "q1, q2, q3 = np.percentile(df['HDL'], [25 , 50, 75])\n",
        "iqr = q3 - q1\n",
        "\n",
        "q2_q1 = q2 - q1\n",
        "q3_q2 = q3 - q2\n",
        "\n",
        "#display interquartile range \n",
        "print('Intervalo Interquartílico =', iqr)\n",
        "#display amplitude\n",
        "print('Amplitude  =', df['HDL'].max()-df['HDL'].min())\n",
        "#simmetry\n",
        "print('Q2 - Q1 =',q2_q1,'\\nQ3 - Q2 =',q3_q2,'\\n')\n",
        "\n",
        "print('Colesterol total_CT\\n')\n",
        "#calculate interquartile range \n",
        "q1, q2, q3 = np.percentile(df['Colesterol total_CT'], [25 , 50, 75])\n",
        "iqr = q3 - q1\n",
        "\n",
        "q2_q1 = q2 - q1\n",
        "q3_q2 = q3 - q2\n",
        "\n",
        "#display interquartile range \n",
        "print('Intervalo Interquartílico =', iqr)\n",
        "#display amplitude\n",
        "print('Amplitude  =', df['Colesterol total_CT'].max()-df['Colesterol total_CT'].min())\n",
        "#simmetry\n",
        "print('Q2 - Q1 =',q2_q1,'\\nQ3 - Q2 =',q3_q2,'\\n')\n",
        "\n",
        "print('Triglicedídeos_TG\\n')\n",
        "#calculate interquartile range \n",
        "q1, q2, q3 = np.percentile(df['Triglicedídeos_TG'], [25 , 50, 75])\n",
        "iqr = q3 - q1\n",
        "\n",
        "q2_q1 = q2 - q1\n",
        "q3_q2 = q3 - q2\n",
        "\n",
        "#display interquartile range \n",
        "print('Intervalo Interquartílico =', iqr)\n",
        "#display amplitude\n",
        "print('Amplitude  =', df['Triglicedídeos_TG'].max()-df['Triglicedídeos_TG'].min())\n",
        "#simmetry\n",
        "print('Q2 - Q1 =',q2_q1,'\\nQ3 - Q2 =',q3_q2,'\\n')"
      ],
      "metadata": {
        "colab": {
          "base_uri": "https://localhost:8080/"
        },
        "id": "ueDS4ZgLEp8n",
        "outputId": "bf59a4c8-549f-4e9b-d2a0-5598937c708f"
      },
      "execution_count": null,
      "outputs": [
        {
          "output_type": "stream",
          "name": "stdout",
          "text": [
            "LDL\n",
            "\n",
            "Intervalo Interquartílico = 51.75\n",
            "Amplitude = 87\n",
            "Q2 - Q1 = 17.75 \n",
            "Q3 - Q2 = 34.0 \n",
            "\n",
            "HDL\n",
            "\n",
            "Intervalo Interquartílico = 8.5\n",
            "Amplitude  = 28\n",
            "Q2 - Q1 = 4.25 \n",
            "Q3 - Q2 = 4.25 \n",
            "\n",
            "Colesterol total_CT\n",
            "\n",
            "Intervalo Interquartílico = 65.25\n",
            "Amplitude  = 140\n",
            "Q2 - Q1 = 24.25 \n",
            "Q3 - Q2 = 41.0 \n",
            "\n",
            "Triglicedídeos_TG\n",
            "\n",
            "Intervalo Interquartílico = 116.5\n",
            "Amplitude  = 344\n",
            "Q2 - Q1 = 38.25 \n",
            "Q3 - Q2 = 78.25 \n",
            "\n"
          ]
        }
      ]
    },
    {
      "cell_type": "markdown",
      "source": [
        "###Interpretação dos Resultados\n",
        "\n",
        "O parâmetro clínico HDL foi o que apresentou a menor mediana (Q2 = 41), este parâmetro também apresentou a menor dispersão (Intervalo Interquartílico = 8,5 e\n",
        "Amplitude  = 28). Ademais, é o único parâmetro com distribuição simétrica (Q2 - Q1 = Q3 - Q2 = 4,25). Entretanto, este conjunto de dados apresenta um valor outlier (uma observação que apresenta um grande afastamento das demais da série), representado por um ponto acima do limite superior, assim como o conjunto Triglicerídeos."
      ],
      "metadata": {
        "id": "8vdWi538ibqk"
      }
    },
    {
      "cell_type": "markdown",
      "source": [
        "#Ramo e folhas"
      ],
      "metadata": {
        "id": "35M9iQkXWTL2"
      }
    },
    {
      "cell_type": "code",
      "source": [
        "#@title\n",
        "!pip install stemgraphic\n",
        "gc.output.clear()\n",
        "import stemgraphic as stem\n",
        "\n",
        "# \"\"\"\n",
        "# The leftmost column in the above plot is the frequency count. \n",
        "# Continuing in the same way, there is total of 10 observations \n",
        "# which is at the top in the same column. Then after a vertical line, \n",
        "# there are two values, one at bottom most we have XXX. While at the \n",
        "# topmost we have XXX, these values are nothing but the minimum and maximum \n",
        "# values respectively in the given data set. After that, we have the \n",
        "# stem values and following that we have leaves values separating \n",
        "# stem by the vertical line.\n",
        "# \"\"\""
      ],
      "metadata": {
        "id": "0pUAe6xoLYEY",
        "collapsed": true
      },
      "execution_count": null,
      "outputs": []
    },
    {
      "cell_type": "markdown",
      "source": [
        "##Diagrama 1"
      ],
      "metadata": {
        "id": "gJarrYvlJ1Fc"
      }
    },
    {
      "cell_type": "code",
      "source": [
        "#@title\n",
        "ws = wb['ramo e folhas']\n",
        "ws['A24'].value"
      ],
      "metadata": {
        "colab": {
          "base_uri": "https://localhost:8080/"
        },
        "id": "yBtT9dGO_o-V",
        "outputId": "e959d05e-e2b4-42bc-edb1-3b2f2bd9b0c0"
      },
      "execution_count": null,
      "outputs": [
        {
          "output_type": "execute_result",
          "data": {
            "text/plain": [
              "'Quantas amostras apresentaram  concentrações maior que 50 mg/kg'"
            ],
            "application/vnd.google.colaboratory.intrinsic+json": {
              "type": "string"
            }
          },
          "metadata": {},
          "execution_count": 66
        }
      ]
    },
    {
      "cell_type": "code",
      "source": [
        "#@title\n",
        "# Read the cell values into a list of lists\n",
        "data_rows = []\n",
        "for row in ws['A28':'A63']:\n",
        "    data_cols = []\n",
        "    for cell in row:\n",
        "        data_cols.append(cell.value)\n",
        "    data_rows.append(data_cols)\n",
        "# Transform into dataframe\n",
        "df = pd.DataFrame(data_rows)\n",
        "df.rename(columns=df.iloc[0], inplace = True)\n",
        "df.drop(df.index[0], inplace = True)\n",
        "df = df.astype('int64')\n",
        "df.head()"
      ],
      "metadata": {
        "colab": {
          "base_uri": "https://localhost:8080/"
        },
        "id": "hS9z0VKDLAAE",
        "outputId": "b6913cd0-a99e-4215-baa1-38fc33fb4572",
        "collapsed": true
      },
      "execution_count": null,
      "outputs": [
        {
          "output_type": "execute_result",
          "data": {
            "text/plain": [
              "   Amostras ordenadas sem valores repetidos\n",
              "1                                        10\n",
              "2                                        15\n",
              "3                                        18\n",
              "4                                        19\n",
              "5                                        12"
            ],
            "text/html": [
              "\n",
              "  <div id=\"df-8b0a2587-0397-48af-89df-f7fda5fbdbb7\">\n",
              "    <div class=\"colab-df-container\">\n",
              "      <div>\n",
              "<style scoped>\n",
              "    .dataframe tbody tr th:only-of-type {\n",
              "        vertical-align: middle;\n",
              "    }\n",
              "\n",
              "    .dataframe tbody tr th {\n",
              "        vertical-align: top;\n",
              "    }\n",
              "\n",
              "    .dataframe thead th {\n",
              "        text-align: right;\n",
              "    }\n",
              "</style>\n",
              "<table border=\"1\" class=\"dataframe\">\n",
              "  <thead>\n",
              "    <tr style=\"text-align: right;\">\n",
              "      <th></th>\n",
              "      <th>Amostras ordenadas sem valores repetidos</th>\n",
              "    </tr>\n",
              "  </thead>\n",
              "  <tbody>\n",
              "    <tr>\n",
              "      <th>1</th>\n",
              "      <td>10</td>\n",
              "    </tr>\n",
              "    <tr>\n",
              "      <th>2</th>\n",
              "      <td>15</td>\n",
              "    </tr>\n",
              "    <tr>\n",
              "      <th>3</th>\n",
              "      <td>18</td>\n",
              "    </tr>\n",
              "    <tr>\n",
              "      <th>4</th>\n",
              "      <td>19</td>\n",
              "    </tr>\n",
              "    <tr>\n",
              "      <th>5</th>\n",
              "      <td>12</td>\n",
              "    </tr>\n",
              "  </tbody>\n",
              "</table>\n",
              "</div>\n",
              "      <button class=\"colab-df-convert\" onclick=\"convertToInteractive('df-8b0a2587-0397-48af-89df-f7fda5fbdbb7')\"\n",
              "              title=\"Convert this dataframe to an interactive table.\"\n",
              "              style=\"display:none;\">\n",
              "        \n",
              "  <svg xmlns=\"http://www.w3.org/2000/svg\" height=\"24px\"viewBox=\"0 0 24 24\"\n",
              "       width=\"24px\">\n",
              "    <path d=\"M0 0h24v24H0V0z\" fill=\"none\"/>\n",
              "    <path d=\"M18.56 5.44l.94 2.06.94-2.06 2.06-.94-2.06-.94-.94-2.06-.94 2.06-2.06.94zm-11 1L8.5 8.5l.94-2.06 2.06-.94-2.06-.94L8.5 2.5l-.94 2.06-2.06.94zm10 10l.94 2.06.94-2.06 2.06-.94-2.06-.94-.94-2.06-.94 2.06-2.06.94z\"/><path d=\"M17.41 7.96l-1.37-1.37c-.4-.4-.92-.59-1.43-.59-.52 0-1.04.2-1.43.59L10.3 9.45l-7.72 7.72c-.78.78-.78 2.05 0 2.83L4 21.41c.39.39.9.59 1.41.59.51 0 1.02-.2 1.41-.59l7.78-7.78 2.81-2.81c.8-.78.8-2.07 0-2.86zM5.41 20L4 18.59l7.72-7.72 1.47 1.35L5.41 20z\"/>\n",
              "  </svg>\n",
              "      </button>\n",
              "      \n",
              "  <style>\n",
              "    .colab-df-container {\n",
              "      display:flex;\n",
              "      flex-wrap:wrap;\n",
              "      gap: 12px;\n",
              "    }\n",
              "\n",
              "    .colab-df-convert {\n",
              "      background-color: #E8F0FE;\n",
              "      border: none;\n",
              "      border-radius: 50%;\n",
              "      cursor: pointer;\n",
              "      display: none;\n",
              "      fill: #1967D2;\n",
              "      height: 32px;\n",
              "      padding: 0 0 0 0;\n",
              "      width: 32px;\n",
              "    }\n",
              "\n",
              "    .colab-df-convert:hover {\n",
              "      background-color: #E2EBFA;\n",
              "      box-shadow: 0px 1px 2px rgba(60, 64, 67, 0.3), 0px 1px 3px 1px rgba(60, 64, 67, 0.15);\n",
              "      fill: #174EA6;\n",
              "    }\n",
              "\n",
              "    [theme=dark] .colab-df-convert {\n",
              "      background-color: #3B4455;\n",
              "      fill: #D2E3FC;\n",
              "    }\n",
              "\n",
              "    [theme=dark] .colab-df-convert:hover {\n",
              "      background-color: #434B5C;\n",
              "      box-shadow: 0px 1px 3px 1px rgba(0, 0, 0, 0.15);\n",
              "      filter: drop-shadow(0px 1px 2px rgba(0, 0, 0, 0.3));\n",
              "      fill: #FFFFFF;\n",
              "    }\n",
              "  </style>\n",
              "\n",
              "      <script>\n",
              "        const buttonEl =\n",
              "          document.querySelector('#df-8b0a2587-0397-48af-89df-f7fda5fbdbb7 button.colab-df-convert');\n",
              "        buttonEl.style.display =\n",
              "          google.colab.kernel.accessAllowed ? 'block' : 'none';\n",
              "\n",
              "        async function convertToInteractive(key) {\n",
              "          const element = document.querySelector('#df-8b0a2587-0397-48af-89df-f7fda5fbdbb7');\n",
              "          const dataTable =\n",
              "            await google.colab.kernel.invokeFunction('convertToInteractive',\n",
              "                                                     [key], {});\n",
              "          if (!dataTable) return;\n",
              "\n",
              "          const docLinkHtml = 'Like what you see? Visit the ' +\n",
              "            '<a target=\"_blank\" href=https://colab.research.google.com/notebooks/data_table.ipynb>data table notebook</a>'\n",
              "            + ' to learn more about interactive tables.';\n",
              "          element.innerHTML = '';\n",
              "          dataTable['output_type'] = 'display_data';\n",
              "          await google.colab.output.renderOutput(dataTable, element);\n",
              "          const docLink = document.createElement('div');\n",
              "          docLink.innerHTML = docLinkHtml;\n",
              "          element.appendChild(docLink);\n",
              "        }\n",
              "      </script>\n",
              "    </div>\n",
              "  </div>\n",
              "  "
            ]
          },
          "metadata": {},
          "execution_count": 67
        }
      ]
    },
    {
      "cell_type": "code",
      "source": [
        "#@title\n",
        "stem.stem_graphic(df['Amostras ordenadas sem valores repetidos'],\n",
        "                  scale =10,\n",
        "                  )\n",
        "\n",
        "plt.show()"
      ],
      "metadata": {
        "colab": {
          "base_uri": "https://localhost:8080/"
        },
        "id": "91KquC2Y_VTs",
        "outputId": "11bd0fcf-3afd-40cb-e1b2-a5e2fc2fa7f3"
      },
      "execution_count": null,
      "outputs": [
        {
          "output_type": "display_data",
          "data": {
            "text/plain": [
              "<Figure size 540x198 with 1 Axes>"
            ],
            "image/png": "[encoded data removed]"
          },
          "metadata": {}
        }
      ]
    },
    {
      "cell_type": "code",
      "source": [
        "#@title\n",
        "amostra = df['Amostras ordenadas sem valores repetidos']\n",
        "\n",
        "r = sum(i > 50 for i in amostra)\n",
        "print('Resposta:', r, 'amostras apresentaram  concentração maior que 50 mg/kg.')"
      ],
      "metadata": {
        "colab": {
          "base_uri": "https://localhost:8080/"
        },
        "id": "fZSFBjGeWWHz",
        "outputId": "d02b87af-f5a5-475f-80b5-44acaff12930"
      },
      "execution_count": null,
      "outputs": [
        {
          "output_type": "stream",
          "name": "stdout",
          "text": [
            "Resposta: 18 amostras apresentaram  concentração maior que 50 mg/kg.\n"
          ]
        }
      ]
    },
    {
      "cell_type": "markdown",
      "source": [
        "##Diagrama 2"
      ],
      "metadata": {
        "id": "b39OpfhWVpif"
      }
    },
    {
      "cell_type": "code",
      "source": [
        "#@title\n",
        "ws = wb['ramo e folhas']\n",
        "ws['D2'].value"
      ],
      "metadata": {
        "colab": {
          "base_uri": "https://localhost:8080/"
        },
        "cellView": "form",
        "id": "eImBs3GMVsXQ",
        "outputId": "0ccfeb95-0cd6-4378-f43b-24641b93c49f"
      },
      "execution_count": null,
      "outputs": [
        {
          "output_type": "execute_result",
          "data": {
            "text/plain": [
              "'O conjunto de dados a seguir lista os números de mensagens de tex_x0002_to enviadas, na semana passada, por usuários de telefonia celular em um andar de um dormitório universitário. Coloque os dados em um diagrama de ramo e folha. Descreva quaisquer padrões. '"
            ],
            "application/vnd.google.colaboratory.intrinsic+json": {
              "type": "string"
            }
          },
          "metadata": {},
          "execution_count": 70
        }
      ]
    },
    {
      "cell_type": "code",
      "source": [
        "#@title\n",
        "data = {'usuarios':  list(range(1,50+1)),\n",
        "        'num_msg': [155,\t159,\t144,\t129,\t105,\t145,\t126,\t116,\t130,\t114,\n",
        "                    122,\t112,\t112,\t142,\t126,\t118,\t118,\t108,\t122,\t121,\n",
        "                    109,\t140,\t126,\t119,\t113,\t117,\t118,\t109,\t109,\t119,\n",
        "                    139,\t139,\t122,\t78,\t133,\t126,\t123,\t145,\t121,\t134,\n",
        "                    124,\t119,\t132,\t133,\t124,\t129,\t112,\t126,\t148,\t147]\n",
        "        }\n",
        "\n",
        "df = pd.DataFrame(data)\n",
        "\n",
        "df.head()"
      ],
      "metadata": {
        "colab": {
          "base_uri": "https://localhost:8080/"
        },
        "cellView": "form",
        "collapsed": true,
        "id": "d2tTaKzbXxhI",
        "outputId": "407f45bf-7c6c-4087-df5a-a3f6b8c54c79"
      },
      "execution_count": null,
      "outputs": [
        {
          "output_type": "execute_result",
          "data": {
            "text/plain": [
              "   usuarios  num_msg\n",
              "0         1      155\n",
              "1         2      159\n",
              "2         3      144\n",
              "3         4      129\n",
              "4         5      105"
            ],
            "text/html": [
              "\n",
              "  <div id=\"df-d8b17728-89f3-4300-9135-05c9f7d82afa\">\n",
              "    <div class=\"colab-df-container\">\n",
              "      <div>\n",
              "<style scoped>\n",
              "    .dataframe tbody tr th:only-of-type {\n",
              "        vertical-align: middle;\n",
              "    }\n",
              "\n",
              "    .dataframe tbody tr th {\n",
              "        vertical-align: top;\n",
              "    }\n",
              "\n",
              "    .dataframe thead th {\n",
              "        text-align: right;\n",
              "    }\n",
              "</style>\n",
              "<table border=\"1\" class=\"dataframe\">\n",
              "  <thead>\n",
              "    <tr style=\"text-align: right;\">\n",
              "      <th></th>\n",
              "      <th>usuarios</th>\n",
              "      <th>num_msg</th>\n",
              "    </tr>\n",
              "  </thead>\n",
              "  <tbody>\n",
              "    <tr>\n",
              "      <th>0</th>\n",
              "      <td>1</td>\n",
              "      <td>155</td>\n",
              "    </tr>\n",
              "    <tr>\n",
              "      <th>1</th>\n",
              "      <td>2</td>\n",
              "      <td>159</td>\n",
              "    </tr>\n",
              "    <tr>\n",
              "      <th>2</th>\n",
              "      <td>3</td>\n",
              "      <td>144</td>\n",
              "    </tr>\n",
              "    <tr>\n",
              "      <th>3</th>\n",
              "      <td>4</td>\n",
              "      <td>129</td>\n",
              "    </tr>\n",
              "    <tr>\n",
              "      <th>4</th>\n",
              "      <td>5</td>\n",
              "      <td>105</td>\n",
              "    </tr>\n",
              "  </tbody>\n",
              "</table>\n",
              "</div>\n",
              "      <button class=\"colab-df-convert\" onclick=\"convertToInteractive('df-d8b17728-89f3-4300-9135-05c9f7d82afa')\"\n",
              "              title=\"Convert this dataframe to an interactive table.\"\n",
              "              style=\"display:none;\">\n",
              "        \n",
              "  <svg xmlns=\"http://www.w3.org/2000/svg\" height=\"24px\"viewBox=\"0 0 24 24\"\n",
              "       width=\"24px\">\n",
              "    <path d=\"M0 0h24v24H0V0z\" fill=\"none\"/>\n",
              "    <path d=\"M18.56 5.44l.94 2.06.94-2.06 2.06-.94-2.06-.94-.94-2.06-.94 2.06-2.06.94zm-11 1L8.5 8.5l.94-2.06 2.06-.94-2.06-.94L8.5 2.5l-.94 2.06-2.06.94zm10 10l.94 2.06.94-2.06 2.06-.94-2.06-.94-.94-2.06-.94 2.06-2.06.94z\"/><path d=\"M17.41 7.96l-1.37-1.37c-.4-.4-.92-.59-1.43-.59-.52 0-1.04.2-1.43.59L10.3 9.45l-7.72 7.72c-.78.78-.78 2.05 0 2.83L4 21.41c.39.39.9.59 1.41.59.51 0 1.02-.2 1.41-.59l7.78-7.78 2.81-2.81c.8-.78.8-2.07 0-2.86zM5.41 20L4 18.59l7.72-7.72 1.47 1.35L5.41 20z\"/>\n",
              "  </svg>\n",
              "      </button>\n",
              "      \n",
              "  <style>\n",
              "    .colab-df-container {\n",
              "      display:flex;\n",
              "      flex-wrap:wrap;\n",
              "      gap: 12px;\n",
              "    }\n",
              "\n",
              "    .colab-df-convert {\n",
              "      background-color: #E8F0FE;\n",
              "      border: none;\n",
              "      border-radius: 50%;\n",
              "      cursor: pointer;\n",
              "      display: none;\n",
              "      fill: #1967D2;\n",
              "      height: 32px;\n",
              "      padding: 0 0 0 0;\n",
              "      width: 32px;\n",
              "    }\n",
              "\n",
              "    .colab-df-convert:hover {\n",
              "      background-color: #E2EBFA;\n",
              "      box-shadow: 0px 1px 2px rgba(60, 64, 67, 0.3), 0px 1px 3px 1px rgba(60, 64, 67, 0.15);\n",
              "      fill: #174EA6;\n",
              "    }\n",
              "\n",
              "    [theme=dark] .colab-df-convert {\n",
              "      background-color: #3B4455;\n",
              "      fill: #D2E3FC;\n",
              "    }\n",
              "\n",
              "    [theme=dark] .colab-df-convert:hover {\n",
              "      background-color: #434B5C;\n",
              "      box-shadow: 0px 1px 3px 1px rgba(0, 0, 0, 0.15);\n",
              "      filter: drop-shadow(0px 1px 2px rgba(0, 0, 0, 0.3));\n",
              "      fill: #FFFFFF;\n",
              "    }\n",
              "  </style>\n",
              "\n",
              "      <script>\n",
              "        const buttonEl =\n",
              "          document.querySelector('#df-d8b17728-89f3-4300-9135-05c9f7d82afa button.colab-df-convert');\n",
              "        buttonEl.style.display =\n",
              "          google.colab.kernel.accessAllowed ? 'block' : 'none';\n",
              "\n",
              "        async function convertToInteractive(key) {\n",
              "          const element = document.querySelector('#df-d8b17728-89f3-4300-9135-05c9f7d82afa');\n",
              "          const dataTable =\n",
              "            await google.colab.kernel.invokeFunction('convertToInteractive',\n",
              "                                                     [key], {});\n",
              "          if (!dataTable) return;\n",
              "\n",
              "          const docLinkHtml = 'Like what you see? Visit the ' +\n",
              "            '<a target=\"_blank\" href=https://colab.research.google.com/notebooks/data_table.ipynb>data table notebook</a>'\n",
              "            + ' to learn more about interactive tables.';\n",
              "          element.innerHTML = '';\n",
              "          dataTable['output_type'] = 'display_data';\n",
              "          await google.colab.output.renderOutput(dataTable, element);\n",
              "          const docLink = document.createElement('div');\n",
              "          docLink.innerHTML = docLinkHtml;\n",
              "          element.appendChild(docLink);\n",
              "        }\n",
              "      </script>\n",
              "    </div>\n",
              "  </div>\n",
              "  "
            ]
          },
          "metadata": {},
          "execution_count": 71
        }
      ]
    },
    {
      "cell_type": "code",
      "source": [
        "#@title\n",
        "stem.stem_graphic(df['num_msg'],\n",
        "                  scale =10,\n",
        "                  )\n",
        "\n",
        "plt.show()"
      ],
      "metadata": {
        "colab": {
          "base_uri": "https://localhost:8080/"
        },
        "cellView": "form",
        "id": "AA3ra5nrVvTI",
        "outputId": "ea53a2f4-3d81-463a-bc73-8cd9f2392456"
      },
      "execution_count": null,
      "outputs": [
        {
          "output_type": "display_data",
          "data": {
            "text/plain": [
              "<Figure size 540x216 with 1 Axes>"
            ],
            "image/png": "[encoded data removed]"
          },
          "metadata": {}
        }
      ]
    },
    {
      "cell_type": "markdown",
      "source": [
        "###Interpretação dos resultados\n",
        "\n",
        "Número de elementos: 50\n",
        "$$ \\\\ $$\n",
        "Amplitude = máx - mín = 159 - 78 = 81\n",
        "$$ \\\\ $$\n",
        "Mediana = 123 (valor sublinhado)\n",
        "$$ \\\\ $$\n",
        "121-129: Intervalo com maior número de elementos\n",
        "$$ \\\\ $$\n",
        "Grágico de Ramo e Folhas Assimétrico: os valores estão concentrados na parte superior do diagrama."
      ],
      "metadata": {
        "id": "9V6gq1qbafgK"
      }
    },
    {
      "cell_type": "markdown",
      "source": [
        "#Diagrama de pontos"
      ],
      "metadata": {
        "id": "Hexv5jATWbG3"
      }
    },
    {
      "cell_type": "code",
      "source": [
        "#@title\n",
        "ws = wb['Diagrama de pontos']\n",
        "ws['C4'].value"
      ],
      "metadata": {
        "id": "exKe0k8NWdpl",
        "colab": {
          "base_uri": "https://localhost:8080/",
          "height": 35
        },
        "outputId": "e97f8bdd-64d4-480a-a9f8-21dd1758d14c"
      },
      "execution_count": null,
      "outputs": [
        {
          "output_type": "execute_result",
          "data": {
            "text/plain": [
              "'Use um diagrama de pontos para organizar o conjunto de dados abiaxo. Descreva quaisquer padrões.'"
            ],
            "application/vnd.google.colaboratory.intrinsic+json": {
              "type": "string"
            }
          },
          "metadata": {},
          "execution_count": 73
        }
      ]
    },
    {
      "cell_type": "code",
      "source": [
        "#@title\n",
        "def generate_points_for_dotplot(arr):\n",
        "    freq = np.unique(arr,return_counts=True)\n",
        "    ls = []\n",
        "    for (value, count) in zip(freq[0],freq[1]):\n",
        "        ls += [(value,num) for num in range(count)]\n",
        "    x = [x for (x,y) in ls]\n",
        "    y = [y for (x,y) in ls]\n",
        "    return np.array([x,y])\n",
        "\n",
        "arr = df['num_msg']\n",
        "# arr = np.random.randint(1,21,size=100)\n",
        "x,y = generate_points_for_dotplot(arr)\n",
        "\n",
        "# Plotting\n",
        "fig,ax = plt.subplots(figsize = (40,5)) # max(x)/3\n",
        "ax.scatter(x,y,s=100,facecolors='none',edgecolors='black')\n",
        "ax.set_xticks(np.unique(x))\n",
        "ax.yaxis.set_visible(False)\n",
        "# removing the spines\n",
        "for spine in ['top', 'right', 'left']:\n",
        "    ax.spines[spine].set_visible(False)\n",
        "plt.show()"
      ],
      "metadata": {
        "colab": {
          "base_uri": "https://localhost:8080/",
          "height": 210
        },
        "id": "uasnxYpibBr1",
        "outputId": "1d34989b-2b0b-41b2-c9c9-cbc415dd4144"
      },
      "execution_count": null,
      "outputs": [
        {
          "output_type": "display_data",
          "data": {
            "text/plain": [
              "<Figure size 2880x360 with 1 Axes>"
            ],
            "image/png": "[encoded data removed]"
          },
          "metadata": {}
        }
      ]
    },
    {
      "cell_type": "markdown",
      "source": [
        "##Interpretação\n",
        "\n",
        "moda = 126\n",
        "$$ \\\\ $$\n",
        "mínimo = 78\n",
        "$$ \\\\ $$\n",
        "máximo = 159\n",
        "$$ \\\\ $$\n",
        "Amplitude = máx - mín = 159 - 78 = 81\n",
        "$$ \\\\ $$\n",
        "Distribuição Assimétrica"
      ],
      "metadata": {
        "id": "M6VSarEMDuNK"
      }
    },
    {
      "cell_type": "markdown",
      "source": [
        "#Case 1"
      ],
      "metadata": {
        "id": "OY1XK4miWgMF"
      }
    },
    {
      "cell_type": "code",
      "source": [
        "#@title\n",
        "ws = wb['Case 1']\n",
        "ws['K1'].value"
      ],
      "metadata": {
        "id": "fkODaHdsWjBz",
        "colab": {
          "base_uri": "https://localhost:8080/",
          "height": 35
        },
        "outputId": "fc401d9e-ee96-4826-e117-1474c0789ba9"
      },
      "execution_count": null,
      "outputs": [
        {
          "output_type": "execute_result",
          "data": {
            "text/plain": [
              "'Considere o tempo de aquisição de dados de um equipamento de espectrometria de absorção atômica, apresentados na Tabela ao lado, determine:'"
            ],
            "application/vnd.google.colaboratory.intrinsic+json": {
              "type": "string"
            }
          },
          "metadata": {},
          "execution_count": 75
        }
      ]
    },
    {
      "cell_type": "code",
      "source": [
        "#@title\n",
        "# Read the cell values into a list of lists\n",
        "data_rows = []\n",
        "for row in ws['B2':'I27']:\n",
        "    data_cols = []\n",
        "    for cell in row:\n",
        "        data_cols.append(cell.value)\n",
        "    data_rows.append(data_cols)\n",
        "# Transform into dataframe\n",
        "df = pd.DataFrame(data_rows)\n",
        "df.rename(columns=df.iloc[0], inplace = True)\n",
        "df.drop(df.index[0], inplace = True)\n",
        "df = df.astype('int64')\n",
        "df_1 = df.iloc[:,[0,1]]\n",
        "df_2 = df.iloc[:,[2,3]]\n",
        "df_3 = df.iloc[:,[4,5]]\n",
        "df1 = pd.concat([df_1, df_2], ignore_index=True)\n",
        "df = pd.concat([df1, df_3], ignore_index=True)\n",
        "df.head()"
      ],
      "metadata": {
        "colab": {
          "base_uri": "https://localhost:8080/",
          "height": 206
        },
        "id": "T0HvX5kVSIgZ",
        "outputId": "b9a41073-726a-429a-cdf8-3f91235fca15",
        "collapsed": true
      },
      "execution_count": null,
      "outputs": [
        {
          "output_type": "execute_result",
          "data": {
            "text/plain": [
              "   Experimento  t (s)\n",
              "0            1     70\n",
              "1            2     78\n",
              "2            3     74\n",
              "3            4     74\n",
              "4            5     63"
            ],
            "text/html": [
              "\n",
              "  <div id=\"df-6e37cf13-611a-43e7-b3cf-c067a0f71803\">\n",
              "    <div class=\"colab-df-container\">\n",
              "      <div>\n",
              "<style scoped>\n",
              "    .dataframe tbody tr th:only-of-type {\n",
              "        vertical-align: middle;\n",
              "    }\n",
              "\n",
              "    .dataframe tbody tr th {\n",
              "        vertical-align: top;\n",
              "    }\n",
              "\n",
              "    .dataframe thead th {\n",
              "        text-align: right;\n",
              "    }\n",
              "</style>\n",
              "<table border=\"1\" class=\"dataframe\">\n",
              "  <thead>\n",
              "    <tr style=\"text-align: right;\">\n",
              "      <th></th>\n",
              "      <th>Experimento</th>\n",
              "      <th>t (s)</th>\n",
              "    </tr>\n",
              "  </thead>\n",
              "  <tbody>\n",
              "    <tr>\n",
              "      <th>0</th>\n",
              "      <td>1</td>\n",
              "      <td>70</td>\n",
              "    </tr>\n",
              "    <tr>\n",
              "      <th>1</th>\n",
              "      <td>2</td>\n",
              "      <td>78</td>\n",
              "    </tr>\n",
              "    <tr>\n",
              "      <th>2</th>\n",
              "      <td>3</td>\n",
              "      <td>74</td>\n",
              "    </tr>\n",
              "    <tr>\n",
              "      <th>3</th>\n",
              "      <td>4</td>\n",
              "      <td>74</td>\n",
              "    </tr>\n",
              "    <tr>\n",
              "      <th>4</th>\n",
              "      <td>5</td>\n",
              "      <td>63</td>\n",
              "    </tr>\n",
              "  </tbody>\n",
              "</table>\n",
              "</div>\n",
              "      <button class=\"colab-df-convert\" onclick=\"convertToInteractive('df-6e37cf13-611a-43e7-b3cf-c067a0f71803')\"\n",
              "              title=\"Convert this dataframe to an interactive table.\"\n",
              "              style=\"display:none;\">\n",
              "        \n",
              "  <svg xmlns=\"http://www.w3.org/2000/svg\" height=\"24px\"viewBox=\"0 0 24 24\"\n",
              "       width=\"24px\">\n",
              "    <path d=\"M0 0h24v24H0V0z\" fill=\"none\"/>\n",
              "    <path d=\"M18.56 5.44l.94 2.06.94-2.06 2.06-.94-2.06-.94-.94-2.06-.94 2.06-2.06.94zm-11 1L8.5 8.5l.94-2.06 2.06-.94-2.06-.94L8.5 2.5l-.94 2.06-2.06.94zm10 10l.94 2.06.94-2.06 2.06-.94-2.06-.94-.94-2.06-.94 2.06-2.06.94z\"/><path d=\"M17.41 7.96l-1.37-1.37c-.4-.4-.92-.59-1.43-.59-.52 0-1.04.2-1.43.59L10.3 9.45l-7.72 7.72c-.78.78-.78 2.05 0 2.83L4 21.41c.39.39.9.59 1.41.59.51 0 1.02-.2 1.41-.59l7.78-7.78 2.81-2.81c.8-.78.8-2.07 0-2.86zM5.41 20L4 18.59l7.72-7.72 1.47 1.35L5.41 20z\"/>\n",
              "  </svg>\n",
              "      </button>\n",
              "      \n",
              "  <style>\n",
              "    .colab-df-container {\n",
              "      display:flex;\n",
              "      flex-wrap:wrap;\n",
              "      gap: 12px;\n",
              "    }\n",
              "\n",
              "    .colab-df-convert {\n",
              "      background-color: #E8F0FE;\n",
              "      border: none;\n",
              "      border-radius: 50%;\n",
              "      cursor: pointer;\n",
              "      display: none;\n",
              "      fill: #1967D2;\n",
              "      height: 32px;\n",
              "      padding: 0 0 0 0;\n",
              "      width: 32px;\n",
              "    }\n",
              "\n",
              "    .colab-df-convert:hover {\n",
              "      background-color: #E2EBFA;\n",
              "      box-shadow: 0px 1px 2px rgba(60, 64, 67, 0.3), 0px 1px 3px 1px rgba(60, 64, 67, 0.15);\n",
              "      fill: #174EA6;\n",
              "    }\n",
              "\n",
              "    [theme=dark] .colab-df-convert {\n",
              "      background-color: #3B4455;\n",
              "      fill: #D2E3FC;\n",
              "    }\n",
              "\n",
              "    [theme=dark] .colab-df-convert:hover {\n",
              "      background-color: #434B5C;\n",
              "      box-shadow: 0px 1px 3px 1px rgba(0, 0, 0, 0.15);\n",
              "      filter: drop-shadow(0px 1px 2px rgba(0, 0, 0, 0.3));\n",
              "      fill: #FFFFFF;\n",
              "    }\n",
              "  </style>\n",
              "\n",
              "      <script>\n",
              "        const buttonEl =\n",
              "          document.querySelector('#df-6e37cf13-611a-43e7-b3cf-c067a0f71803 button.colab-df-convert');\n",
              "        buttonEl.style.display =\n",
              "          google.colab.kernel.accessAllowed ? 'block' : 'none';\n",
              "\n",
              "        async function convertToInteractive(key) {\n",
              "          const element = document.querySelector('#df-6e37cf13-611a-43e7-b3cf-c067a0f71803');\n",
              "          const dataTable =\n",
              "            await google.colab.kernel.invokeFunction('convertToInteractive',\n",
              "                                                     [key], {});\n",
              "          if (!dataTable) return;\n",
              "\n",
              "          const docLinkHtml = 'Like what you see? Visit the ' +\n",
              "            '<a target=\"_blank\" href=https://colab.research.google.com/notebooks/data_table.ipynb>data table notebook</a>'\n",
              "            + ' to learn more about interactive tables.';\n",
              "          element.innerHTML = '';\n",
              "          dataTable['output_type'] = 'display_data';\n",
              "          await google.colab.output.renderOutput(dataTable, element);\n",
              "          const docLink = document.createElement('div');\n",
              "          docLink.innerHTML = docLinkHtml;\n",
              "          element.appendChild(docLink);\n",
              "        }\n",
              "      </script>\n",
              "    </div>\n",
              "  </div>\n",
              "  "
            ]
          },
          "metadata": {},
          "execution_count": 76
        }
      ]
    },
    {
      "cell_type": "markdown",
      "source": [
        "##a) Diagrama de pontos\t"
      ],
      "metadata": {
        "id": "7w-ty7AbRHx4"
      }
    },
    {
      "cell_type": "code",
      "source": [
        "#@title\n",
        "def generate_points_for_dotplot(arr):\n",
        "    freq = np.unique(arr,return_counts=True)\n",
        "    ls = []\n",
        "    for (value, count) in zip(freq[0],freq[1]):\n",
        "        ls += [(value,num) for num in range(count)]\n",
        "    x = [x for (x,y) in ls]\n",
        "    y = [y for (x,y) in ls]\n",
        "    return np.array([x,y])\n",
        "\n",
        "arr = df['t (s)']\n",
        "# arr = np.random.randint(1,21,size=100)\n",
        "x,y = generate_points_for_dotplot(arr)\n",
        "\n",
        "# Plotting\n",
        "fig,ax = plt.subplots(figsize = (15,5)) # max(x)/3\n",
        "ax.scatter(x,y,s=100,facecolors='none',edgecolors='black')\n",
        "ax.set_xticks(np.unique(x))\n",
        "ax.yaxis.set_visible(False)\n",
        "# removing the spines\n",
        "for spine in ['top', 'right', 'left']:\n",
        "    ax.spines[spine].set_visible(False)\n",
        "plt.show()"
      ],
      "metadata": {
        "colab": {
          "base_uri": "https://localhost:8080/"
        },
        "id": "HR2S1SBXRM1M",
        "outputId": "082f7786-b982-425e-ffd2-6e7285d2911c"
      },
      "execution_count": null,
      "outputs": [
        {
          "output_type": "display_data",
          "data": {
            "text/plain": [
              "<Figure size 1080x360 with 1 Axes>"
            ],
            "image/png": "[encoded data removed]"
          },
          "metadata": {}
        }
      ]
    },
    {
      "cell_type": "markdown",
      "source": [
        "###Interpretação\n",
        "\n",
        "moda = 74\n",
        "$$ \\\\ $$\n",
        "mínimo = 56\n",
        "$$ \\\\ $$\n",
        "máximo = 91\n",
        "$$ \\\\ $$\n",
        "Amplitude = máx - mín = 91 - 56 = 35\n",
        "$$ \\\\ $$\n",
        "Distribuição Assimétrica"
      ],
      "metadata": {
        "id": "4Xj3enVlJoWg"
      }
    },
    {
      "cell_type": "markdown",
      "source": [
        "##b) Diagrama de caule folha\t\t"
      ],
      "metadata": {
        "id": "jwW24KudRNVL"
      }
    },
    {
      "cell_type": "code",
      "source": [
        "#@title\n",
        "stem.stem_graphic(df['t (s)'], scale =10)\n",
        "plt.show()"
      ],
      "metadata": {
        "colab": {
          "base_uri": "https://localhost:8080/"
        },
        "id": "CDToH2FpRQmU",
        "outputId": "924a36a3-4b33-4d7c-bded-680e76111553"
      },
      "execution_count": null,
      "outputs": [
        {
          "output_type": "display_data",
          "data": {
            "text/plain": [
              "<Figure size 540x144 with 1 Axes>"
            ],
            "image/png": "[encoded data removed]"
          },
          "metadata": {}
        }
      ]
    },
    {
      "cell_type": "markdown",
      "source": [
        "###Interpretação\n",
        "\n",
        "Número de elementos: 75\n",
        "$$ \\\\ $$\n",
        "Amplitude = máx - mín = 91 - 56 = 35\n",
        "$$ \\\\ $$\n",
        "Mediana = 73 (valor sublinhado)\n",
        "$$ \\\\ $$\n",
        "70-79: Intervalo com maior número de elementos\n",
        "$$ \\\\ $$\n",
        "Grágico de Ramo e Folhas Assimétrico: os valores não estão uniformemente distribuídos ao longo do diagrama."
      ],
      "metadata": {
        "id": "qJxECMwwOTjp"
      }
    },
    {
      "cell_type": "markdown",
      "source": [
        "##c) Tabela de frequências absoluta e relativas\t\t\t\t"
      ],
      "metadata": {
        "id": "PYiTZGY2RRen"
      }
    },
    {
      "cell_type": "code",
      "source": [
        "#@title\n",
        "#Set bin sizes\n",
        "step = 6\n",
        "bins = list(range(df['t (s)'].min() - step, df['t (s)'].max() + step, step))\n",
        "\n",
        "#Number of intervals\n",
        "# n_int = (df['t (s)'].max()+step - df['t (s)'].min()-step) / step\n",
        "# print('Número de intervalos:', round(n_int + 1))\n",
        "\n",
        "#Give list\n",
        "sample = df['t (s)']\n",
        "\n",
        "df.rename(columns={'t (s)' : 'nums'}, inplace = True)\n",
        "\n",
        "#Put into dataframe\n",
        "newdf = pd.DataFrame(pd.cut(df['nums'], bins=bins).value_counts()).sort_index()\n",
        "newdf.reset_index(inplace=True)\n",
        "\n",
        "#Convert to String\n",
        "newdf['index'] = newdf['index'].astype(str)\n",
        "\n",
        "#Set 'easy-to-read' names for bins\n",
        "left = newdf['index'].str.split(',').str[0].str.split('(').str[1].astype('int32') + 1\n",
        "right = newdf['index'].str.split(',').str[1].str.split(']').str[0]\n",
        "\n",
        "fullname = left.astype(str) + ' -' + right\n",
        "newdf['index'] = fullname\n",
        "\n",
        "#cummulative frequency\n",
        "newdf['cumfreq'] = newdf['nums'].cumsum()\n",
        "\n",
        "#relative frequency\n",
        "newdf['relfreq'] = round(newdf['nums'] / newdf['nums'].sum()*100,1)\n",
        "\n",
        "#cummulative relative frequency\n",
        "newdf['cumrelfreq'] = round(newdf['relfreq'].cumsum())\n",
        "\n",
        "#Add column names\n",
        "newdf.columns =['Intervalo de tempo (s)', \n",
        "                'Frequência simples', \n",
        "                'Frequência simples acumulada',\n",
        "                'Frequência relativa (%)', \n",
        "                'Frequência relativa acumulada (%)']\n",
        "\n",
        "#Show frequency table\n",
        "newdf"
      ],
      "metadata": {
        "colab": {
          "base_uri": "https://localhost:8080/",
          "height": 269
        },
        "id": "5G_2RfLwRVJ9",
        "outputId": "0c341605-75f0-4a4f-c4f9-9786a8b11ce8"
      },
      "execution_count": null,
      "outputs": [
        {
          "output_type": "execute_result",
          "data": {
            "text/plain": [
              "  Intervalo de tempo (s)  Frequência simples  Frequência simples acumulada  \\\n",
              "0                51 - 56                   1                             1   \n",
              "1                57 - 62                   5                             6   \n",
              "2                63 - 68                  14                            20   \n",
              "3                69 - 74                  28                            48   \n",
              "4                75 - 80                  21                            69   \n",
              "5                81 - 86                   3                            72   \n",
              "6                87 - 92                   3                            75   \n",
              "\n",
              "   Frequência relativa (%)  Frequência relativa acumulada (%)  \n",
              "0                      1.3                                1.0  \n",
              "1                      6.7                                8.0  \n",
              "2                     18.7                               27.0  \n",
              "3                     37.3                               64.0  \n",
              "4                     28.0                               92.0  \n",
              "5                      4.0                               96.0  \n",
              "6                      4.0                              100.0  "
            ],
            "text/html": [
              "\n",
              "  <div id=\"df-0d8c1929-3241-4486-8e66-072bef6af442\">\n",
              "    <div class=\"colab-df-container\">\n",
              "      <div>\n",
              "<style scoped>\n",
              "    .dataframe tbody tr th:only-of-type {\n",
              "        vertical-align: middle;\n",
              "    }\n",
              "\n",
              "    .dataframe tbody tr th {\n",
              "        vertical-align: top;\n",
              "    }\n",
              "\n",
              "    .dataframe thead th {\n",
              "        text-align: right;\n",
              "    }\n",
              "</style>\n",
              "<table border=\"1\" class=\"dataframe\">\n",
              "  <thead>\n",
              "    <tr style=\"text-align: right;\">\n",
              "      <th></th>\n",
              "      <th>Intervalo de tempo (s)</th>\n",
              "      <th>Frequência simples</th>\n",
              "      <th>Frequência simples acumulada</th>\n",
              "      <th>Frequência relativa (%)</th>\n",
              "      <th>Frequência relativa acumulada (%)</th>\n",
              "    </tr>\n",
              "  </thead>\n",
              "  <tbody>\n",
              "    <tr>\n",
              "      <th>0</th>\n",
              "      <td>51 - 56</td>\n",
              "      <td>1</td>\n",
              "      <td>1</td>\n",
              "      <td>1.3</td>\n",
              "      <td>1.0</td>\n",
              "    </tr>\n",
              "    <tr>\n",
              "      <th>1</th>\n",
              "      <td>57 - 62</td>\n",
              "      <td>5</td>\n",
              "      <td>6</td>\n",
              "      <td>6.7</td>\n",
              "      <td>8.0</td>\n",
              "    </tr>\n",
              "    <tr>\n",
              "      <th>2</th>\n",
              "      <td>63 - 68</td>\n",
              "      <td>14</td>\n",
              "      <td>20</td>\n",
              "      <td>18.7</td>\n",
              "      <td>27.0</td>\n",
              "    </tr>\n",
              "    <tr>\n",
              "      <th>3</th>\n",
              "      <td>69 - 74</td>\n",
              "      <td>28</td>\n",
              "      <td>48</td>\n",
              "      <td>37.3</td>\n",
              "      <td>64.0</td>\n",
              "    </tr>\n",
              "    <tr>\n",
              "      <th>4</th>\n",
              "      <td>75 - 80</td>\n",
              "      <td>21</td>\n",
              "      <td>69</td>\n",
              "      <td>28.0</td>\n",
              "      <td>92.0</td>\n",
              "    </tr>\n",
              "    <tr>\n",
              "      <th>5</th>\n",
              "      <td>81 - 86</td>\n",
              "      <td>3</td>\n",
              "      <td>72</td>\n",
              "      <td>4.0</td>\n",
              "      <td>96.0</td>\n",
              "    </tr>\n",
              "    <tr>\n",
              "      <th>6</th>\n",
              "      <td>87 - 92</td>\n",
              "      <td>3</td>\n",
              "      <td>75</td>\n",
              "      <td>4.0</td>\n",
              "      <td>100.0</td>\n",
              "    </tr>\n",
              "  </tbody>\n",
              "</table>\n",
              "</div>\n",
              "      <button class=\"colab-df-convert\" onclick=\"convertToInteractive('df-0d8c1929-3241-4486-8e66-072bef6af442')\"\n",
              "              title=\"Convert this dataframe to an interactive table.\"\n",
              "              style=\"display:none;\">\n",
              "        \n",
              "  <svg xmlns=\"http://www.w3.org/2000/svg\" height=\"24px\"viewBox=\"0 0 24 24\"\n",
              "       width=\"24px\">\n",
              "    <path d=\"M0 0h24v24H0V0z\" fill=\"none\"/>\n",
              "    <path d=\"M18.56 5.44l.94 2.06.94-2.06 2.06-.94-2.06-.94-.94-2.06-.94 2.06-2.06.94zm-11 1L8.5 8.5l.94-2.06 2.06-.94-2.06-.94L8.5 2.5l-.94 2.06-2.06.94zm10 10l.94 2.06.94-2.06 2.06-.94-2.06-.94-.94-2.06-.94 2.06-2.06.94z\"/><path d=\"M17.41 7.96l-1.37-1.37c-.4-.4-.92-.59-1.43-.59-.52 0-1.04.2-1.43.59L10.3 9.45l-7.72 7.72c-.78.78-.78 2.05 0 2.83L4 21.41c.39.39.9.59 1.41.59.51 0 1.02-.2 1.41-.59l7.78-7.78 2.81-2.81c.8-.78.8-2.07 0-2.86zM5.41 20L4 18.59l7.72-7.72 1.47 1.35L5.41 20z\"/>\n",
              "  </svg>\n",
              "      </button>\n",
              "      \n",
              "  <style>\n",
              "    .colab-df-container {\n",
              "      display:flex;\n",
              "      flex-wrap:wrap;\n",
              "      gap: 12px;\n",
              "    }\n",
              "\n",
              "    .colab-df-convert {\n",
              "      background-color: #E8F0FE;\n",
              "      border: none;\n",
              "      border-radius: 50%;\n",
              "      cursor: pointer;\n",
              "      display: none;\n",
              "      fill: #1967D2;\n",
              "      height: 32px;\n",
              "      padding: 0 0 0 0;\n",
              "      width: 32px;\n",
              "    }\n",
              "\n",
              "    .colab-df-convert:hover {\n",
              "      background-color: #E2EBFA;\n",
              "      box-shadow: 0px 1px 2px rgba(60, 64, 67, 0.3), 0px 1px 3px 1px rgba(60, 64, 67, 0.15);\n",
              "      fill: #174EA6;\n",
              "    }\n",
              "\n",
              "    [theme=dark] .colab-df-convert {\n",
              "      background-color: #3B4455;\n",
              "      fill: #D2E3FC;\n",
              "    }\n",
              "\n",
              "    [theme=dark] .colab-df-convert:hover {\n",
              "      background-color: #434B5C;\n",
              "      box-shadow: 0px 1px 3px 1px rgba(0, 0, 0, 0.15);\n",
              "      filter: drop-shadow(0px 1px 2px rgba(0, 0, 0, 0.3));\n",
              "      fill: #FFFFFF;\n",
              "    }\n",
              "  </style>\n",
              "\n",
              "      <script>\n",
              "        const buttonEl =\n",
              "          document.querySelector('#df-0d8c1929-3241-4486-8e66-072bef6af442 button.colab-df-convert');\n",
              "        buttonEl.style.display =\n",
              "          google.colab.kernel.accessAllowed ? 'block' : 'none';\n",
              "\n",
              "        async function convertToInteractive(key) {\n",
              "          const element = document.querySelector('#df-0d8c1929-3241-4486-8e66-072bef6af442');\n",
              "          const dataTable =\n",
              "            await google.colab.kernel.invokeFunction('convertToInteractive',\n",
              "                                                     [key], {});\n",
              "          if (!dataTable) return;\n",
              "\n",
              "          const docLinkHtml = 'Like what you see? Visit the ' +\n",
              "            '<a target=\"_blank\" href=https://colab.research.google.com/notebooks/data_table.ipynb>data table notebook</a>'\n",
              "            + ' to learn more about interactive tables.';\n",
              "          element.innerHTML = '';\n",
              "          dataTable['output_type'] = 'display_data';\n",
              "          await google.colab.output.renderOutput(dataTable, element);\n",
              "          const docLink = document.createElement('div');\n",
              "          docLink.innerHTML = docLinkHtml;\n",
              "          element.appendChild(docLink);\n",
              "        }\n",
              "      </script>\n",
              "    </div>\n",
              "  </div>\n",
              "  "
            ]
          },
          "metadata": {},
          "execution_count": 79
        }
      ]
    },
    {
      "cell_type": "markdown",
      "source": [
        "###Interpretação\n",
        "\n",
        "Classe 4 (69 - 74): possui o maior número de elementos (28), 37,3% do total.\n",
        "$$ \\\\ $$\n",
        "Classe 5 (75 - 80\t): possui mais de 90% da frequência relatica acumulada (92%).\n",
        "\n"
      ],
      "metadata": {
        "id": "JSx5n2ByPimm"
      }
    },
    {
      "cell_type": "markdown",
      "source": [
        "##d) Histograma\t"
      ],
      "metadata": {
        "id": "gENCYAvDRV8J"
      }
    },
    {
      "cell_type": "code",
      "source": [
        "#@title\n",
        "df.rename(columns={'nums' : 't (s)'}, inplace = True)\n",
        "amostra = df['t (s)']\n",
        "\n",
        "plt.figure(figsize=(12,8))\n",
        "plt.hist(amostra, bins=bins, edgecolor='black')\n",
        "median_conc = amostra.median()\n",
        "color='#fc4f30'\n",
        "\n",
        "plt.axvline(median_conc,\n",
        "            color=color,\n",
        "            label='Mediana',\n",
        "            linewidth=2\n",
        "          )\n",
        "\n",
        "plt.legend()\n",
        "# plt.title('Temperatura de reação')\n",
        "plt.xlabel('t (s)')\n",
        "plt.ylabel('Número de experimentos')\n",
        "plt.xticks(range(amostra.min()-6, amostra.max()+6, 6))\n",
        "plt.show()"
      ],
      "metadata": {
        "colab": {
          "base_uri": "https://localhost:8080/"
        },
        "id": "GstSl-t5Ri79",
        "outputId": "30d20314-afa1-4e4f-dcee-b2f3660f6e36"
      },
      "execution_count": null,
      "outputs": [
        {
          "output_type": "display_data",
          "data": {
            "text/plain": [
              "<Figure size 864x576 with 1 Axes>"
            ],
            "image/png": "[encoded data removed]"
          },
          "metadata": {}
        }
      ]
    },
    {
      "cell_type": "markdown",
      "source": [
        "###Interpretação\n",
        "\n",
        "Mediana = 73\n",
        "$$ \\\\ $$\n",
        "74-80: Intervalo com maior número de elementos\n",
        "$$ \\\\ $$\n",
        "Histograma Assimétrico: os valores não estão uniformemente distribuídos ao longo do diagrama."
      ],
      "metadata": {
        "id": "GZeygKuIPnnN"
      }
    },
    {
      "cell_type": "markdown",
      "source": [
        "##d) Box-plot\t"
      ],
      "metadata": {
        "id": "F7zvKpliRjoD"
      }
    },
    {
      "cell_type": "code",
      "source": [
        "#@title\n",
        "boxplot = df.boxplot(column=['t (s)'],\n",
        "                     #  grid=False, \n",
        "                     #  rot=45, \n",
        "                     fontsize=15,\n",
        "                     figsize = (10,8)\n",
        "                    )"
      ],
      "metadata": {
        "colab": {
          "base_uri": "https://localhost:8080/"
        },
        "id": "Z9MasZRzRm4F",
        "outputId": "b044cf3d-6b3d-46ca-f82d-4acb490f701c"
      },
      "execution_count": null,
      "outputs": [
        {
          "output_type": "display_data",
          "data": {
            "text/plain": [
              "<Figure size 720x576 with 1 Axes>"
            ],
            "image/png": "[encoded data removed]"
          },
          "metadata": {}
        }
      ]
    },
    {
      "cell_type": "markdown",
      "source": [
        "###Interpretação\n",
        "\n",
        "Distribuição Assimétrica (Q2 - Q1 ≠ Q3 - Q2)."
      ],
      "metadata": {
        "id": "jSbyOMY87yUm"
      }
    },
    {
      "cell_type": "code",
      "source": [
        "#@title\n",
        "print('t (s)\\n')\n",
        "#calculate interquartile range \n",
        "q1, q2, q3 = np.percentile(df['t (s)'], [25 , 50, 75])\n",
        "iqr = q3 - q1\n",
        "\n",
        "q2_q1 = q2 - q1\n",
        "q3_q2 = q3 - q2\n",
        "#median\n",
        "print('Mediana =', q2)\n",
        "#display interquartile range \n",
        "print('Intervalo Interquartílico =', iqr)\n",
        "#display amplitude\n",
        "print('Amplitude =', df['t (s)'].max()-df['t (s)'].min())\n",
        "#simmetry\n",
        "print('Q2 - Q1 =',q2_q1,'\\nQ3 - Q2 =',q3_q2,'\\n')"
      ],
      "metadata": {
        "colab": {
          "base_uri": "https://localhost:8080/"
        },
        "id": "fp_n0o6CQAtS",
        "outputId": "ac295035-ceed-4df0-99a9-3abef3ac1b8c"
      },
      "execution_count": null,
      "outputs": [
        {
          "output_type": "stream",
          "name": "stdout",
          "text": [
            "t (s)\n",
            "\n",
            "Mediana = 73.0\n",
            "Intervalo Interquartílico = 9.5\n",
            "Amplitude = 35\n",
            "Q2 - Q1 = 5.5 \n",
            "Q3 - Q2 = 4.0 \n",
            "\n"
          ]
        }
      ]
    },
    {
      "cell_type": "markdown",
      "source": [
        "##e) Diagrama de Pareto\t\t"
      ],
      "metadata": {
        "id": "P0O0AHTuRn3A"
      }
    },
    {
      "cell_type": "code",
      "source": [
        "#@title\n",
        "df = newdf[['Intervalo de tempo (s)', 'Frequência simples']]\n",
        "df.set_index('Intervalo de tempo (s)', inplace = True)\n",
        "\n",
        "#sort DataFrame by count descending\n",
        "df = df.sort_values(by='Frequência simples', ascending=False)\n",
        "\n",
        "#add column to display cumulative percentage\n",
        "df['cumperc'] = df['Frequência simples'].cumsum()/df['Frequência simples'].sum()*100\n",
        "\n",
        "#define aesthetics for plot\n",
        "color1 = 'steelblue'\n",
        "color2 = 'red'\n",
        "line_size = 4\n",
        "\n",
        "#create basic bar plot\n",
        "fig, ax = plt.subplots(figsize=(10, 8))\n",
        "ax.bar(df.index, df['Frequência simples'], color=color1)\n",
        "\n",
        "#add cumulative percentage line to plot\n",
        "ax2 = ax.twinx()\n",
        "ax2.plot(df.index, df['cumperc'], color=color2, marker=\"D\", ms=line_size)\n",
        "ax2.yaxis.set_major_formatter(PercentFormatter())\n",
        "\n",
        "#specify axis colors\n",
        "ax.tick_params(axis='y', colors=color1)\n",
        "ax.set_ylim(0, df['Frequência simples'].max())\n",
        "ax2.tick_params(axis='y', colors=color2)\n",
        "\n",
        "#display Pareto chart\n",
        "plt.show()"
      ],
      "metadata": {
        "colab": {
          "base_uri": "https://localhost:8080/"
        },
        "id": "kHoaaqiIeyBq",
        "outputId": "e701ad48-6021-4de2-c8de-40fdcac0e034"
      },
      "execution_count": null,
      "outputs": [
        {
          "output_type": "display_data",
          "data": {
            "text/plain": [
              "<Figure size 720x576 with 2 Axes>"
            ],
            "image/png": "[encoded data removed]"
          },
          "metadata": {}
        }
      ]
    },
    {
      "cell_type": "markdown",
      "source": [
        "###Interpretação\n",
        "\n",
        "Um gráfico de Pareto é um gráfico de barras em que as barras são ordenadas da maior frequência de ocorrência para a menor frequência de ocorrência. \n",
        "$$ \\\\ $$\n",
        "As três primeiras categorias (69-74, 75-80 e 63-68) representam juntas mais de 80% dos resultados obtidos.\n",
        "$$ \\\\ $$\n",
        "Um gráfico de Pareto ppermite classificar as categorias segundo a frequência de ocorrẽncia(da maior para a menor), enfatizando o grau de importância de cada categoria e priorizando os esforços de melhoria de qualidade.\n",
        "\n"
      ],
      "metadata": {
        "id": "fPO39_aFPuZH"
      }
    },
    {
      "cell_type": "code",
      "source": [
        "#@title\n",
        "# \"\"\"\n",
        "# The x-axis displays the different brands \n",
        "# ordered from highest to lowest frequency.\n",
        "# The left-hand y-axis shows the frequency of\n",
        "# each brand and the right-hand y-axis shows \n",
        "# the cumulative frequency of the brands.\"\"\""
      ],
      "metadata": {
        "collapsed": true,
        "id": "mXlui2SZoBCI"
      },
      "execution_count": null,
      "outputs": []
    }
  ]
}