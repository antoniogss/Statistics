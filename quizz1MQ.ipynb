{
  "nbformat": 4,
  "nbformat_minor": 0,
  "metadata": {
    "colab": {
      "provenance": [],
      "authorship_tag": "ABX9TyNIt4Ai8H9H1JBntbXK00v5",
      "include_colab_link": true
    },
    "kernelspec": {
      "name": "python3",
      "display_name": "Python 3"
    },
    "language_info": {
      "name": "python"
    }
  },
  "cells": [
    {
      "cell_type": "markdown",
      "metadata": {
        "id": "view-in-github",
        "colab_type": "text"
      },
      "source": [
        "<a href=\"https://colab.research.google.com/github/antoniogss/Statistics/blob/main/quizz1MQ.ipynb\" target=\"_parent\"><img src=\"https://colab.research.google.com/assets/colab-badge.svg\" alt=\"Open In Colab\"/></a>"
      ]
    },
    {
      "cell_type": "code",
      "metadata": {
        "id": "-qWu2C_8iwco"
      },
      "source": [
        "import numpy as np\n",
        "import matplotlib.pyplot as plt\n",
        "import pandas as pd\n",
        "import seaborn as sns\n",
        "import scipy.stats as stats"
      ],
      "execution_count": 1,
      "outputs": []
    },
    {
      "cell_type": "markdown",
      "metadata": {
        "id": "wWIV7D89MKb-"
      },
      "source": [
        "## **Questão 1**"
      ]
    },
    {
      "cell_type": "code",
      "metadata": {
        "id": "BApKIUjwiPAd"
      },
      "source": [
        "temp = [88, 83, 79, 76, 78, 70, 80, 82, 86, 105]"
      ],
      "execution_count": 2,
      "outputs": []
    },
    {
      "cell_type": "code",
      "metadata": {
        "colab": {
          "base_uri": "https://localhost:8080/"
        },
        "id": "uYwQaap4ickn",
        "outputId": "9f46a589-6737-4b88-dd86-d6f0d70c3e03"
      },
      "source": [
        "print(stats.mode(temp))"
      ],
      "execution_count": 3,
      "outputs": [
        {
          "output_type": "stream",
          "name": "stdout",
          "text": [
            "ModeResult(mode=array([70]), count=array([1]))\n"
          ]
        }
      ]
    },
    {
      "cell_type": "code",
      "metadata": {
        "colab": {
          "base_uri": "https://localhost:8080/"
        },
        "id": "DPjFwdJAkNoo",
        "outputId": "b559704b-2607-456d-d37b-3341ee3c27c9"
      },
      "source": [
        "temp.sort() #ordenação crescente\n",
        "print(temp)"
      ],
      "execution_count": 4,
      "outputs": [
        {
          "output_type": "stream",
          "name": "stdout",
          "text": [
            "[70, 76, 78, 79, 80, 82, 83, 86, 88, 105]\n"
          ]
        }
      ]
    },
    {
      "cell_type": "code",
      "metadata": {
        "colab": {
          "base_uri": "https://localhost:8080/"
        },
        "id": "AR0WkZ04krIR",
        "outputId": "51edb299-d39e-4c25-ea54-ed6b9e87debc"
      },
      "source": [
        "print(np.median(temp))"
      ],
      "execution_count": 5,
      "outputs": [
        {
          "output_type": "stream",
          "name": "stdout",
          "text": [
            "81.0\n"
          ]
        }
      ]
    },
    {
      "cell_type": "code",
      "metadata": {
        "colab": {
          "base_uri": "https://localhost:8080/"
        },
        "id": "DDjG9qvXlUyT",
        "outputId": "305111cc-fead-4c65-8f1e-5d3b67af7a56"
      },
      "source": [
        "print(np.mean(temp))"
      ],
      "execution_count": 6,
      "outputs": [
        {
          "output_type": "stream",
          "name": "stdout",
          "text": [
            "82.7\n"
          ]
        }
      ]
    },
    {
      "cell_type": "markdown",
      "metadata": {
        "id": "Rbrj27iSnSbt"
      },
      "source": [
        "## **Questão 2**"
      ]
    },
    {
      "cell_type": "code",
      "metadata": {
        "id": "EmVK5tFKml8Q"
      },
      "source": [
        "ferro = [0, 60,10,80,20,40,30,10,40,0,50,10]"
      ],
      "execution_count": 7,
      "outputs": []
    },
    {
      "cell_type": "code",
      "metadata": {
        "colab": {
          "base_uri": "https://localhost:8080/"
        },
        "id": "_g2Y8YjAmzLY",
        "outputId": "51c2da0a-b384-4c44-d6d1-ebf64408079f"
      },
      "source": [
        "print(round(np.mean(ferro),2))"
      ],
      "execution_count": 8,
      "outputs": [
        {
          "output_type": "stream",
          "name": "stdout",
          "text": [
            "29.17\n"
          ]
        }
      ]
    },
    {
      "cell_type": "markdown",
      "metadata": {
        "id": "aPMVc3lMnkii"
      },
      "source": [
        "## **Questão 3**"
      ]
    },
    {
      "cell_type": "code",
      "metadata": {
        "id": "xz_sUQ_pm3nw"
      },
      "source": [
        "dados = [42, 3, 9, 5, 7, 9, 1, 9] #conjunto de dados com valores muito discrepantes entre si, utilizar a mediana ao invés da média"
      ],
      "execution_count": 9,
      "outputs": []
    },
    {
      "cell_type": "code",
      "metadata": {
        "colab": {
          "base_uri": "https://localhost:8080/"
        },
        "id": "E90iXUxksLRS",
        "outputId": "8a31a7a0-902c-4a8b-b7a2-c66938317433"
      },
      "source": [
        "dados.sort() #ordenação em ordem crescente\n",
        "print(dados)"
      ],
      "execution_count": 10,
      "outputs": [
        {
          "output_type": "stream",
          "name": "stdout",
          "text": [
            "[1, 3, 5, 7, 9, 9, 9, 42]\n"
          ]
        }
      ]
    },
    {
      "cell_type": "code",
      "metadata": {
        "colab": {
          "base_uri": "https://localhost:8080/"
        },
        "id": "FH280OX-nucD",
        "outputId": "4f84b01a-915f-4520-a05c-471ee3111499"
      },
      "source": [
        "#moda\n",
        "print(stats.mode(dados))"
      ],
      "execution_count": 11,
      "outputs": [
        {
          "output_type": "stream",
          "name": "stdout",
          "text": [
            "ModeResult(mode=array([9]), count=array([3]))\n"
          ]
        }
      ]
    },
    {
      "cell_type": "code",
      "metadata": {
        "colab": {
          "base_uri": "https://localhost:8080/"
        },
        "id": "nDm_5UQpn2zs",
        "outputId": "afc3b1fb-dabc-40f9-8246-a3ab80982b4e"
      },
      "source": [
        "#mediana\n",
        "print(np.median(dados))"
      ],
      "execution_count": 12,
      "outputs": [
        {
          "output_type": "stream",
          "name": "stdout",
          "text": [
            "8.0\n"
          ]
        }
      ]
    },
    {
      "cell_type": "code",
      "metadata": {
        "colab": {
          "base_uri": "https://localhost:8080/"
        },
        "id": "61u1oyyLn72l",
        "outputId": "abe82eed-b34f-4059-ac44-e00344355148"
      },
      "source": [
        "#média\n",
        "print(round(np.mean(dados),2))"
      ],
      "execution_count": 13,
      "outputs": [
        {
          "output_type": "stream",
          "name": "stdout",
          "text": [
            "10.62\n"
          ]
        }
      ]
    },
    {
      "cell_type": "code",
      "metadata": {
        "colab": {
          "base_uri": "https://localhost:8080/"
        },
        "id": "BK4_kNLEoCe8",
        "outputId": "e77a5e7e-e4dd-4a05-cca4-c59b466343e5"
      },
      "source": [
        "#desvio-padrão\n",
        "print(round(np.std(dados),2))"
      ],
      "execution_count": 14,
      "outputs": [
        {
          "output_type": "stream",
          "name": "stdout",
          "text": [
            "12.19\n"
          ]
        }
      ]
    },
    {
      "cell_type": "code",
      "metadata": {
        "colab": {
          "base_uri": "https://localhost:8080/"
        },
        "id": "3Ktq1XJrqHA5",
        "outputId": "2c033088-5f8b-4370-8c1c-ab9c655c4a82"
      },
      "source": [
        "#variância\n",
        "print(round(np.var(dados),2))"
      ],
      "execution_count": 15,
      "outputs": [
        {
          "output_type": "stream",
          "name": "stdout",
          "text": [
            "148.48\n"
          ]
        }
      ]
    },
    {
      "cell_type": "markdown",
      "metadata": {
        "id": "QiAOQswrsvX7"
      },
      "source": [
        "## **Questão 4**"
      ]
    },
    {
      "cell_type": "code",
      "metadata": {
        "id": "WLzw8epJqbTS"
      },
      "source": [
        "A = [52.0, 54.5, 54.0, 51.0, 54.4, 55.0]"
      ],
      "execution_count": 16,
      "outputs": []
    },
    {
      "cell_type": "code",
      "metadata": {
        "colab": {
          "base_uri": "https://localhost:8080/"
        },
        "id": "YDgioJO5yoM7",
        "outputId": "3c5d5940-8339-4737-bada-ae07facb3f91"
      },
      "source": [
        "amplA = max(A) - min(A)\n",
        "print(amplA)"
      ],
      "execution_count": 17,
      "outputs": [
        {
          "output_type": "stream",
          "name": "stdout",
          "text": [
            "4.0\n"
          ]
        }
      ]
    },
    {
      "cell_type": "code",
      "metadata": {
        "id": "mhit1X7Ws-Cx"
      },
      "source": [
        "B = [54.0, 51.5, 52.0, 51.0, 53.0, 77.1]"
      ],
      "execution_count": 18,
      "outputs": []
    },
    {
      "cell_type": "code",
      "metadata": {
        "colab": {
          "base_uri": "https://localhost:8080/"
        },
        "id": "cf0a1ByktdKi",
        "outputId": "9798298f-1a51-421d-e066-c0129d63df0e"
      },
      "source": [
        "amplB = max(B) - min(B)\n",
        "print(round(amplB,2))"
      ],
      "execution_count": 19,
      "outputs": [
        {
          "output_type": "stream",
          "name": "stdout",
          "text": [
            "26.1\n"
          ]
        }
      ]
    },
    {
      "cell_type": "markdown",
      "metadata": {
        "id": "dGHPaB6W0_yR"
      },
      "source": [
        "## **Questão 5**"
      ]
    },
    {
      "cell_type": "code",
      "metadata": {
        "id": "utoytQVX5iRg"
      },
      "source": [
        "A = np.array([4,6,4,6,5,5])\n",
        "\n",
        "B = np.array([9,1,5,5,1,9])\n",
        "\n",
        "C = np.array([9,1,1,2,8,9])"
      ],
      "execution_count": 20,
      "outputs": []
    },
    {
      "cell_type": "code",
      "metadata": {
        "colab": {
          "base_uri": "https://localhost:8080/"
        },
        "id": "UPtk7drwFjLo",
        "outputId": "312dc7dc-af56-47fb-d2f1-5181cf51a04e"
      },
      "source": [
        "#média (md)\n",
        "print('md(A) =', np.mean(A))\n",
        "print('md(B) =', np.mean(B))\n",
        "print('md(C) =', np.mean(C))"
      ],
      "execution_count": 21,
      "outputs": [
        {
          "output_type": "stream",
          "name": "stdout",
          "text": [
            "md(A) = 5.0\n",
            "md(B) = 5.0\n",
            "md(C) = 5.0\n"
          ]
        }
      ]
    },
    {
      "cell_type": "code",
      "metadata": {
        "colab": {
          "base_uri": "https://localhost:8080/"
        },
        "id": "6N-svoLo-Fml",
        "outputId": "d6ef6a97-4b67-4025-9ca5-1ac43fedfe7f"
      },
      "source": [
        "#desvio-padrão (desvpad)\n",
        "print('desvpad(A) =', round(np.std(A),2))\n",
        "print('desvpad(B) =', round(np.std(B),2))\n",
        "print('desvpad(C) =', round(np.std(C),2))"
      ],
      "execution_count": 22,
      "outputs": [
        {
          "output_type": "stream",
          "name": "stdout",
          "text": [
            "desvpad(A) = 0.82\n",
            "desvpad(B) = 3.27\n",
            "desvpad(C) = 3.7\n"
          ]
        }
      ]
    },
    {
      "cell_type": "markdown",
      "metadata": {
        "id": "UwbPw5jXAlvV"
      },
      "source": [
        "desvpad(C) > desvpad(B) > desvpad(A), logo, o analista C foi o mais impreciso!\n",
        "\n",
        "\n"
      ]
    },
    {
      "cell_type": "code",
      "metadata": {
        "colab": {
          "base_uri": "https://localhost:8080/"
        },
        "id": "83JM2MAY-IBE",
        "outputId": "f2088843-78a4-4607-da4d-56d1ad9076b4"
      },
      "source": [
        "#coeficiente de variação (cv)\n",
        "print('cv(A) =', round(stats.variation(A)*100,2),'%')\n",
        "print('cv(B) =', round(stats.variation(B)*100,2),'%')\n",
        "print('cv(C) =', round(stats.variation(C)*100,2),'%')"
      ],
      "execution_count": 23,
      "outputs": [
        {
          "output_type": "stream",
          "name": "stdout",
          "text": [
            "cv(A) = 16.33 %\n",
            "cv(B) = 65.32 %\n",
            "cv(C) = 73.94 %\n"
          ]
        }
      ]
    },
    {
      "cell_type": "markdown",
      "metadata": {
        "id": "-JJkU3NpBvXV"
      },
      "source": [
        "cv(C) > cv(B) > cv(A), logo, o analista C novamente foi o mais impreciso!"
      ]
    },
    {
      "cell_type": "code",
      "metadata": {
        "colab": {
          "base_uri": "https://localhost:8080/"
        },
        "id": "KqpAVqpFASB5",
        "outputId": "01384aa7-d4cc-4453-e2fc-dfc2645ae095"
      },
      "source": [
        "#variância (var)\n",
        "print('var(A) =', round(np.var(A),2))\n",
        "print('var(B) =', round(np.var(B),2))\n",
        "print('var(C) =', round(np.var(C),2))"
      ],
      "execution_count": 24,
      "outputs": [
        {
          "output_type": "stream",
          "name": "stdout",
          "text": [
            "var(A) = 0.67\n",
            "var(B) = 10.67\n",
            "var(C) = 13.67\n"
          ]
        }
      ]
    },
    {
      "cell_type": "markdown",
      "metadata": {
        "id": "aFV023HFFQfA"
      },
      "source": [
        "var(C) > var(B) > var(A), logo, o analista C novamente foi o mais impreciso!"
      ]
    },
    {
      "cell_type": "markdown",
      "metadata": {
        "id": "UC1K0-XAI8wA"
      },
      "source": [
        "## **Erro aleatório (indeterminado):**\n",
        "\n",
        "– Erros que se manifestam na forma de pequenas variações nas medidas\n",
        "de uma amostra.\n",
        "\n",
        "– São produzidas por fatores que o analista não possui controle e, na\n",
        "maioria dos casos, não podem ser controlados.\n",
        "\n",
        "– Quanto maior o número de medidas, mais os valores medidos se\n",
        "distribuem (aproximadamente) simetricamente em torno da média.\n",
        "\n",
        "# **Erro sistemático (tendência):**\n",
        "\n",
        "– Surge de uma falha na execução de um experimento, erro do método,falha de um equipamento, reagente ou erro grosseiro.\n",
        "\n",
        "– Afeta a exatidão\n",
        "\n",
        "– Pode ser reproduzido\n",
        "\n",
        "– Viés  erro sistemático associado a análise (+ ou -)\n",
        "\n",
        "– Erro constante\n",
        "\n",
        "– Erro relativo\n",
        "\n",
        "– Exp: vidraria descalibrada (desgaste \n",
        "ou efeito da temperatura)\n",
        "\n",
        "fonte: https://www.ufjf.br/baccan/files/2010/10/Aula-1-1o-Sem_Estatistica_2016_parte-1.pdf"
      ]
    },
    {
      "cell_type": "markdown",
      "metadata": {
        "id": "NURMiFKPLa21"
      },
      "source": [
        "## **Questão 6**"
      ]
    },
    {
      "cell_type": "markdown",
      "metadata": {
        "id": "hwaDj78DM2ND"
      },
      "source": [
        "Nível de proteína em plasma (mg/g)"
      ]
    },
    {
      "cell_type": "code",
      "metadata": {
        "id": "1VbA3xlrEln_"
      },
      "source": [
        "a = np.array([23,22,21,21,17,28,19,14,19,19])\n",
        "b = np.array([104,107,103,105,100,104,108,91,102,99])"
      ],
      "execution_count": 25,
      "outputs": []
    },
    {
      "cell_type": "code",
      "metadata": {
        "colab": {
          "base_uri": "https://localhost:8080/"
        },
        "id": "BICbl0PmM1GU",
        "outputId": "a0a2e6b3-7e05-4ada-baeb-ac26065d793f"
      },
      "source": [
        "#média (md)\n",
        "print('md(a) =', np.mean(a))\n",
        "print('md(b) =', np.mean(b))"
      ],
      "execution_count": 26,
      "outputs": [
        {
          "output_type": "stream",
          "name": "stdout",
          "text": [
            "md(a) = 20.3\n",
            "md(b) = 102.3\n"
          ]
        }
      ]
    },
    {
      "cell_type": "code",
      "metadata": {
        "colab": {
          "base_uri": "https://localhost:8080/"
        },
        "id": "m-GAYMcJNuwX",
        "outputId": "3a670629-27d3-46a1-da15-12b57472eebd"
      },
      "source": [
        "#desvio-padrão (desvpad)\n",
        "print('desvpad(a) =', round(np.std(a),2))\n",
        "print('desvpad(b) =', round(np.std(b),2))"
      ],
      "execution_count": 27,
      "outputs": [
        {
          "output_type": "stream",
          "name": "stdout",
          "text": [
            "desvpad(a) = 3.55\n",
            "desvpad(b) = 4.61\n"
          ]
        }
      ]
    },
    {
      "cell_type": "markdown",
      "metadata": {
        "id": "XiV4G8ChRoBr"
      },
      "source": [
        "desvpad(a) < desvpad(b), a é mais preciso!"
      ]
    },
    {
      "cell_type": "code",
      "metadata": {
        "colab": {
          "base_uri": "https://localhost:8080/"
        },
        "id": "TkdlF8uaN5AA",
        "outputId": "f2c302f4-ffad-4770-92f4-3edae1089cb2"
      },
      "source": [
        "#coeficiente de variação (cv)\n",
        "print('cv(a) =', round(stats.variation(a)*100,2),'%')\n",
        "print('cv(b) =', round(stats.variation(b)*100,2),'%')"
      ],
      "execution_count": 28,
      "outputs": [
        {
          "output_type": "stream",
          "name": "stdout",
          "text": [
            "cv(a) = 17.49 %\n",
            "cv(b) = 4.5 %\n"
          ]
        }
      ]
    },
    {
      "cell_type": "markdown",
      "metadata": {
        "id": "8DRGsE4dRx7g"
      },
      "source": [
        "cv(a) > cv(b), b é mais preciso!"
      ]
    },
    {
      "cell_type": "markdown",
      "metadata": {
        "id": "aMb1_NTAfwQr"
      },
      "source": [
        "## **Questão 12**"
      ]
    },
    {
      "cell_type": "code",
      "metadata": {
        "id": "GK0WgB0qOhXi"
      },
      "source": [
        "peso = np.array([23,22,21,21,17,28,19,14,19,19])\n",
        "compr = np.array([104,107,103,105,100,104,108,91,102,99])"
      ],
      "execution_count": 29,
      "outputs": []
    },
    {
      "cell_type": "code",
      "metadata": {
        "colab": {
          "base_uri": "https://localhost:8080/"
        },
        "id": "WdjYaYdDb5NF",
        "outputId": "c156a669-f2f5-43f9-bda7-0ba00160554a"
      },
      "source": [
        "#peso (Kg)\n",
        "print('média =', np.mean(peso),'Kg')\n",
        "print('mediana =', np.median(peso),'Kg')\n",
        "print(\"Q1:\", np.quantile(peso, .25),'Kg')\n",
        "print(\"Q3:\", np.quantile(peso, .75),'Kg')\n",
        "print('máximo:', max(peso),'Kg')\n",
        "print('mínimo:', min(peso),'Kg')"
      ],
      "execution_count": 30,
      "outputs": [
        {
          "output_type": "stream",
          "name": "stdout",
          "text": [
            "média = 20.3 Kg\n",
            "mediana = 20.0 Kg\n",
            "Q1: 19.0 Kg\n",
            "Q3: 21.75 Kg\n",
            "máximo: 28 Kg\n",
            "mínimo: 14 Kg\n"
          ]
        }
      ]
    },
    {
      "cell_type": "code",
      "metadata": {
        "colab": {
          "base_uri": "https://localhost:8080/"
        },
        "id": "KDCtLE5oUaWn",
        "outputId": "1cc96050-8a75-4f9d-e069-7c4901d5becf"
      },
      "source": [
        "#comprimento (cm)\n",
        "print('média =', np.mean(compr),'cm')\n",
        "print('mediana =', np.median(compr),'cm')\n",
        "print(\"Q1:\", np.quantile(compr, .25),'cm')\n",
        "print(\"Q3:\", np.quantile(compr, .75),'cm')\n",
        "print('máximo:', max(compr),'cm')\n",
        "print('mínimo:', min(compr),'cm')"
      ],
      "execution_count": 31,
      "outputs": [
        {
          "output_type": "stream",
          "name": "stdout",
          "text": [
            "média = 102.3 cm\n",
            "mediana = 103.5 cm\n",
            "Q1: 100.5 cm\n",
            "Q3: 104.75 cm\n",
            "máximo: 108 cm\n",
            "mínimo: 91 cm\n"
          ]
        }
      ]
    },
    {
      "cell_type": "code",
      "metadata": {
        "colab": {
          "base_uri": "https://localhost:8080/",
          "height": 282
        },
        "id": "-E01f17SUrg0",
        "outputId": "11c8c8a2-d812-4a91-8df7-e4324b5d0e40"
      },
      "source": [
        "#gráfico boxplot\n",
        "sns.boxplot(x=peso)"
      ],
      "execution_count": 32,
      "outputs": [
        {
          "output_type": "execute_result",
          "data": {
            "text/plain": [
              "<matplotlib.axes._subplots.AxesSubplot at 0x7f1a0ae194d0>"
            ]
          },
          "metadata": {},
          "execution_count": 32
        },
        {
          "output_type": "display_data",
          "data": {
            "text/plain": [
              "<Figure size 432x288 with 1 Axes>"
            ],
            "image/png": "[encoded data removed]"
          },
          "metadata": {
            "needs_background": "light"
          }
        }
      ]
    },
    {
      "cell_type": "code",
      "metadata": {
        "colab": {
          "base_uri": "https://localhost:8080/",
          "height": 282
        },
        "id": "1NeT30r_YYFK",
        "outputId": "59f46a61-8684-499e-a40f-84232459d625"
      },
      "source": [
        "sns.boxplot(x=compr)"
      ],
      "execution_count": 33,
      "outputs": [
        {
          "output_type": "execute_result",
          "data": {
            "text/plain": [
              "<matplotlib.axes._subplots.AxesSubplot at 0x7f1a0ad5a050>"
            ]
          },
          "metadata": {},
          "execution_count": 33
        },
        {
          "output_type": "display_data",
          "data": {
            "text/plain": [
              "<Figure size 432x288 with 1 Axes>"
            ],
            "image/png": "[encoded data removed]"
          },
          "metadata": {
            "needs_background": "light"
          }
        }
      ]
    },
    {
      "cell_type": "code",
      "metadata": {
        "id": "4IYT1WCmgpvA"
      },
      "source": [],
      "execution_count": 33,
      "outputs": []
    }
  ]
}